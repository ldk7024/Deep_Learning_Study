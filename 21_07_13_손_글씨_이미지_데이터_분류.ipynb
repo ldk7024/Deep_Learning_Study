{
  "nbformat": 4,
  "nbformat_minor": 0,
  "metadata": {
    "colab": {
      "name": "21.07.13_손 글씨 이미지 데이터 분류",
      "provenance": [],
      "collapsed_sections": [],
      "mount_file_id": "1QjVZZPLyWmThNwyzT0ZErMRXsm6sQA0S",
      "authorship_tag": "ABX9TyM+R/EmaBccxip/JSv+30GW",
      "include_colab_link": true
    },
    "kernelspec": {
      "name": "python3",
      "display_name": "Python 3"
    },
    "language_info": {
      "name": "python"
    },
    "accelerator": "GPU"
  },
  "cells": [
    {
      "cell_type": "markdown",
      "metadata": {
        "id": "view-in-github",
        "colab_type": "text"
      },
      "source": [
        "<a href=\"https://colab.research.google.com/github/ldk7024/Deep_Learning_Study/blob/main/21_07_13_%EC%86%90_%EA%B8%80%EC%94%A8_%EC%9D%B4%EB%AF%B8%EC%A7%80_%EB%8D%B0%EC%9D%B4%ED%84%B0_%EB%B6%84%EB%A5%98.ipynb\" target=\"_parent\"><img src=\"https://colab.research.google.com/assets/colab-badge.svg\" alt=\"Open In Colab\"/></a>"
      ]
    },
    {
      "cell_type": "markdown",
      "metadata": {
        "id": "C_mDsGGFnxE0"
      },
      "source": [
        "### 목표\n",
        "- 0~9까지 손글씨 이미지 데이터를 분류하는 모델을 만들어보자"
      ]
    },
    {
      "cell_type": "code",
      "metadata": {
        "colab": {
          "base_uri": "https://localhost:8080/"
        },
        "id": "iiDsjjjuoVPk",
        "outputId": "8499a8ed-7f81-403f-8454-a22d0cf85417"
      },
      "source": [
        "from google.colab import drive\n",
        "drive.mount('/content/drive')"
      ],
      "execution_count": 1,
      "outputs": [
        {
          "output_type": "stream",
          "text": [
            "Drive already mounted at /content/drive; to attempt to forcibly remount, call drive.mount(\"/content/drive\", force_remount=True).\n"
          ],
          "name": "stdout"
        }
      ]
    },
    {
      "cell_type": "code",
      "metadata": {
        "id": "zRRGruWQnvv0"
      },
      "source": [
        "import numpy as np\n",
        "import pandas as pd\n",
        "import matplotlib.pyplot as plt\n",
        "# 케라스에서 지원하는 딥러닝 학습용 손글씨 데이터를 임포트\n",
        "from tensorflow.keras.datasets import mnist"
      ],
      "execution_count": 2,
      "outputs": []
    },
    {
      "cell_type": "code",
      "metadata": {
        "colab": {
          "base_uri": "https://localhost:8080/"
        },
        "id": "cyPpkyp-nvtV",
        "outputId": "e3fd9780-9469-4cfa-c61c-4ef6e098b705"
      },
      "source": [
        "data = mnist.load_data()"
      ],
      "execution_count": 3,
      "outputs": [
        {
          "output_type": "stream",
          "text": [
            "Downloading data from https://storage.googleapis.com/tensorflow/tf-keras-datasets/mnist.npz\n",
            "11493376/11490434 [==============================] - 0s 0us/step\n"
          ],
          "name": "stdout"
        }
      ]
    },
    {
      "cell_type": "code",
      "metadata": {
        "colab": {
          "base_uri": "https://localhost:8080/"
        },
        "id": "kLOFKbaPnvqs",
        "outputId": "478fbd6e-5428-4ed2-e301-dc3f8af51d86"
      },
      "source": [
        "data"
      ],
      "execution_count": 4,
      "outputs": [
        {
          "output_type": "execute_result",
          "data": {
            "text/plain": [
              "((array([[[0, 0, 0, ..., 0, 0, 0],\n",
              "          [0, 0, 0, ..., 0, 0, 0],\n",
              "          [0, 0, 0, ..., 0, 0, 0],\n",
              "          ...,\n",
              "          [0, 0, 0, ..., 0, 0, 0],\n",
              "          [0, 0, 0, ..., 0, 0, 0],\n",
              "          [0, 0, 0, ..., 0, 0, 0]],\n",
              "  \n",
              "         [[0, 0, 0, ..., 0, 0, 0],\n",
              "          [0, 0, 0, ..., 0, 0, 0],\n",
              "          [0, 0, 0, ..., 0, 0, 0],\n",
              "          ...,\n",
              "          [0, 0, 0, ..., 0, 0, 0],\n",
              "          [0, 0, 0, ..., 0, 0, 0],\n",
              "          [0, 0, 0, ..., 0, 0, 0]],\n",
              "  \n",
              "         [[0, 0, 0, ..., 0, 0, 0],\n",
              "          [0, 0, 0, ..., 0, 0, 0],\n",
              "          [0, 0, 0, ..., 0, 0, 0],\n",
              "          ...,\n",
              "          [0, 0, 0, ..., 0, 0, 0],\n",
              "          [0, 0, 0, ..., 0, 0, 0],\n",
              "          [0, 0, 0, ..., 0, 0, 0]],\n",
              "  \n",
              "         ...,\n",
              "  \n",
              "         [[0, 0, 0, ..., 0, 0, 0],\n",
              "          [0, 0, 0, ..., 0, 0, 0],\n",
              "          [0, 0, 0, ..., 0, 0, 0],\n",
              "          ...,\n",
              "          [0, 0, 0, ..., 0, 0, 0],\n",
              "          [0, 0, 0, ..., 0, 0, 0],\n",
              "          [0, 0, 0, ..., 0, 0, 0]],\n",
              "  \n",
              "         [[0, 0, 0, ..., 0, 0, 0],\n",
              "          [0, 0, 0, ..., 0, 0, 0],\n",
              "          [0, 0, 0, ..., 0, 0, 0],\n",
              "          ...,\n",
              "          [0, 0, 0, ..., 0, 0, 0],\n",
              "          [0, 0, 0, ..., 0, 0, 0],\n",
              "          [0, 0, 0, ..., 0, 0, 0]],\n",
              "  \n",
              "         [[0, 0, 0, ..., 0, 0, 0],\n",
              "          [0, 0, 0, ..., 0, 0, 0],\n",
              "          [0, 0, 0, ..., 0, 0, 0],\n",
              "          ...,\n",
              "          [0, 0, 0, ..., 0, 0, 0],\n",
              "          [0, 0, 0, ..., 0, 0, 0],\n",
              "          [0, 0, 0, ..., 0, 0, 0]]], dtype=uint8),\n",
              "  array([5, 0, 4, ..., 5, 6, 8], dtype=uint8)),\n",
              " (array([[[0, 0, 0, ..., 0, 0, 0],\n",
              "          [0, 0, 0, ..., 0, 0, 0],\n",
              "          [0, 0, 0, ..., 0, 0, 0],\n",
              "          ...,\n",
              "          [0, 0, 0, ..., 0, 0, 0],\n",
              "          [0, 0, 0, ..., 0, 0, 0],\n",
              "          [0, 0, 0, ..., 0, 0, 0]],\n",
              "  \n",
              "         [[0, 0, 0, ..., 0, 0, 0],\n",
              "          [0, 0, 0, ..., 0, 0, 0],\n",
              "          [0, 0, 0, ..., 0, 0, 0],\n",
              "          ...,\n",
              "          [0, 0, 0, ..., 0, 0, 0],\n",
              "          [0, 0, 0, ..., 0, 0, 0],\n",
              "          [0, 0, 0, ..., 0, 0, 0]],\n",
              "  \n",
              "         [[0, 0, 0, ..., 0, 0, 0],\n",
              "          [0, 0, 0, ..., 0, 0, 0],\n",
              "          [0, 0, 0, ..., 0, 0, 0],\n",
              "          ...,\n",
              "          [0, 0, 0, ..., 0, 0, 0],\n",
              "          [0, 0, 0, ..., 0, 0, 0],\n",
              "          [0, 0, 0, ..., 0, 0, 0]],\n",
              "  \n",
              "         ...,\n",
              "  \n",
              "         [[0, 0, 0, ..., 0, 0, 0],\n",
              "          [0, 0, 0, ..., 0, 0, 0],\n",
              "          [0, 0, 0, ..., 0, 0, 0],\n",
              "          ...,\n",
              "          [0, 0, 0, ..., 0, 0, 0],\n",
              "          [0, 0, 0, ..., 0, 0, 0],\n",
              "          [0, 0, 0, ..., 0, 0, 0]],\n",
              "  \n",
              "         [[0, 0, 0, ..., 0, 0, 0],\n",
              "          [0, 0, 0, ..., 0, 0, 0],\n",
              "          [0, 0, 0, ..., 0, 0, 0],\n",
              "          ...,\n",
              "          [0, 0, 0, ..., 0, 0, 0],\n",
              "          [0, 0, 0, ..., 0, 0, 0],\n",
              "          [0, 0, 0, ..., 0, 0, 0]],\n",
              "  \n",
              "         [[0, 0, 0, ..., 0, 0, 0],\n",
              "          [0, 0, 0, ..., 0, 0, 0],\n",
              "          [0, 0, 0, ..., 0, 0, 0],\n",
              "          ...,\n",
              "          [0, 0, 0, ..., 0, 0, 0],\n",
              "          [0, 0, 0, ..., 0, 0, 0],\n",
              "          [0, 0, 0, ..., 0, 0, 0]]], dtype=uint8),\n",
              "  array([7, 2, 1, ..., 4, 5, 6], dtype=uint8)))"
            ]
          },
          "metadata": {
            "tags": []
          },
          "execution_count": 4
        }
      ]
    },
    {
      "cell_type": "code",
      "metadata": {
        "colab": {
          "base_uri": "https://localhost:8080/"
        },
        "id": "6admLMjqnvns",
        "outputId": "7b2f41e9-4ee7-4e77-9d41-e5e1cdcbc4f4"
      },
      "source": [
        "# 데이터가 3차원 배열로 크게는 train, test로 나뉘어져 있고\n",
        "# 각 train, test 안에 문제와 정답 데이터로 한 번 나눠져 있음\n",
        "len(data)"
      ],
      "execution_count": 5,
      "outputs": [
        {
          "output_type": "execute_result",
          "data": {
            "text/plain": [
              "2"
            ]
          },
          "metadata": {
            "tags": []
          },
          "execution_count": 5
        }
      ]
    },
    {
      "cell_type": "code",
      "metadata": {
        "colab": {
          "base_uri": "https://localhost:8080/"
        },
        "id": "sRnlO_joqzWk",
        "outputId": "4fabe694-0ed7-4ba4-ccc2-8dec3f8d88dc"
      },
      "source": [
        "print(len(data[0]))      # X\n",
        "print(len(data[1]))     # y\n",
        "print(len(data[0][0]))  # X_train\n",
        "print(len(data[0][1]))  # X_train\n",
        "print(len(data[1][0]))  # X_train\n",
        "print(len(data[1][1]))  # X_train"
      ],
      "execution_count": 6,
      "outputs": [
        {
          "output_type": "stream",
          "text": [
            "2\n",
            "2\n",
            "60000\n",
            "60000\n",
            "10000\n",
            "10000\n"
          ],
          "name": "stdout"
        }
      ]
    },
    {
      "cell_type": "code",
      "metadata": {
        "id": "SkeMVbN9pOAr"
      },
      "source": [
        "X_train = data[0][0]  # X_train\n",
        "y_train = data[0][1]  # y_train\n",
        "X_test = data[1][0]  # X_test\n",
        "y_test = data[1][1]  # y_test"
      ],
      "execution_count": 7,
      "outputs": []
    },
    {
      "cell_type": "code",
      "metadata": {
        "colab": {
          "base_uri": "https://localhost:8080/"
        },
        "id": "mOCzhjGMpN-r",
        "outputId": "3feafefb-571c-4fbb-939f-52ea76364a90"
      },
      "source": [
        "print(X_train.shape)  # 데이터 개수, 가로 픽셀수, 세로 픽셀수\n",
        "print(y_train.shape)\n",
        "print(X_test.shape)   # 데이터 개수, 가로 픽셀수, 세로 픽셀수\n",
        "print(y_test.shape)"
      ],
      "execution_count": 8,
      "outputs": [
        {
          "output_type": "stream",
          "text": [
            "(60000, 28, 28)\n",
            "(60000,)\n",
            "(10000, 28, 28)\n",
            "(10000,)\n"
          ],
          "name": "stdout"
        }
      ]
    },
    {
      "cell_type": "code",
      "metadata": {
        "colab": {
          "base_uri": "https://localhost:8080/"
        },
        "id": "4aowaobIpN8I",
        "outputId": "ca89ce48-0fa3-410a-9322-59db4ce9fa98"
      },
      "source": [
        "y_train"
      ],
      "execution_count": 9,
      "outputs": [
        {
          "output_type": "execute_result",
          "data": {
            "text/plain": [
              "array([5, 0, 4, ..., 5, 6, 8], dtype=uint8)"
            ]
          },
          "metadata": {
            "tags": []
          },
          "execution_count": 9
        }
      ]
    },
    {
      "cell_type": "code",
      "metadata": {
        "colab": {
          "base_uri": "https://localhost:8080/"
        },
        "id": "bafqBEdepN5e",
        "outputId": "5a9b107f-bf93-416e-ff6b-ab6d668e2042"
      },
      "source": [
        "X_train"
      ],
      "execution_count": 10,
      "outputs": [
        {
          "output_type": "execute_result",
          "data": {
            "text/plain": [
              "array([[[0, 0, 0, ..., 0, 0, 0],\n",
              "        [0, 0, 0, ..., 0, 0, 0],\n",
              "        [0, 0, 0, ..., 0, 0, 0],\n",
              "        ...,\n",
              "        [0, 0, 0, ..., 0, 0, 0],\n",
              "        [0, 0, 0, ..., 0, 0, 0],\n",
              "        [0, 0, 0, ..., 0, 0, 0]],\n",
              "\n",
              "       [[0, 0, 0, ..., 0, 0, 0],\n",
              "        [0, 0, 0, ..., 0, 0, 0],\n",
              "        [0, 0, 0, ..., 0, 0, 0],\n",
              "        ...,\n",
              "        [0, 0, 0, ..., 0, 0, 0],\n",
              "        [0, 0, 0, ..., 0, 0, 0],\n",
              "        [0, 0, 0, ..., 0, 0, 0]],\n",
              "\n",
              "       [[0, 0, 0, ..., 0, 0, 0],\n",
              "        [0, 0, 0, ..., 0, 0, 0],\n",
              "        [0, 0, 0, ..., 0, 0, 0],\n",
              "        ...,\n",
              "        [0, 0, 0, ..., 0, 0, 0],\n",
              "        [0, 0, 0, ..., 0, 0, 0],\n",
              "        [0, 0, 0, ..., 0, 0, 0]],\n",
              "\n",
              "       ...,\n",
              "\n",
              "       [[0, 0, 0, ..., 0, 0, 0],\n",
              "        [0, 0, 0, ..., 0, 0, 0],\n",
              "        [0, 0, 0, ..., 0, 0, 0],\n",
              "        ...,\n",
              "        [0, 0, 0, ..., 0, 0, 0],\n",
              "        [0, 0, 0, ..., 0, 0, 0],\n",
              "        [0, 0, 0, ..., 0, 0, 0]],\n",
              "\n",
              "       [[0, 0, 0, ..., 0, 0, 0],\n",
              "        [0, 0, 0, ..., 0, 0, 0],\n",
              "        [0, 0, 0, ..., 0, 0, 0],\n",
              "        ...,\n",
              "        [0, 0, 0, ..., 0, 0, 0],\n",
              "        [0, 0, 0, ..., 0, 0, 0],\n",
              "        [0, 0, 0, ..., 0, 0, 0]],\n",
              "\n",
              "       [[0, 0, 0, ..., 0, 0, 0],\n",
              "        [0, 0, 0, ..., 0, 0, 0],\n",
              "        [0, 0, 0, ..., 0, 0, 0],\n",
              "        ...,\n",
              "        [0, 0, 0, ..., 0, 0, 0],\n",
              "        [0, 0, 0, ..., 0, 0, 0],\n",
              "        [0, 0, 0, ..., 0, 0, 0]]], dtype=uint8)"
            ]
          },
          "metadata": {
            "tags": []
          },
          "execution_count": 10
        }
      ]
    },
    {
      "cell_type": "code",
      "metadata": {
        "colab": {
          "base_uri": "https://localhost:8080/",
          "height": 265
        },
        "id": "rM3wZMN6pN3L",
        "outputId": "51cabd50-c3a1-4f4b-d293-d5caae169e0d"
      },
      "source": [
        "plt.imshow(X_train[59999], cmap ='gray')\n",
        "# imshow: 이미지 데이터를 그림으로 출력해주는 명령\n",
        "plt.show()"
      ],
      "execution_count": 11,
      "outputs": [
        {
          "output_type": "display_data",
          "data": {
            "image/png": "[encoded data removed]",
            "text/plain": [
              "<Figure size 432x288 with 1 Axes>"
            ]
          },
          "metadata": {
            "tags": [],
            "needs_background": "light"
          }
        }
      ]
    },
    {
      "cell_type": "code",
      "metadata": {
        "colab": {
          "base_uri": "https://localhost:8080/"
        },
        "id": "UIxgpHTApN0b",
        "outputId": "7e32b269-e3fd-451e-928c-a084e6744419"
      },
      "source": [
        "print(X_train[59999])"
      ],
      "execution_count": 12,
      "outputs": [
        {
          "output_type": "stream",
          "text": [
            "[[  0   0   0   0   0   0   0   0   0   0   0   0   0   0   0   0   0   0\n",
            "    0   0   0   0   0   0   0   0   0   0]\n",
            " [  0   0   0   0   0   0   0   0   0   0   0   0   0   0   0   0   0   0\n",
            "    0   0   0   0   0   0   0   0   0   0]\n",
            " [  0   0   0   0   0   0   0   0   0   0   0   0   0   0   0   0   0   0\n",
            "    0   0   0   0   0   0   0   0   0   0]\n",
            " [  0   0   0   0   0   0   0   0   0   0   0   0   0   0   0   0   0   0\n",
            "    0   0   0   0   0   0   0   0   0   0]\n",
            " [  0   0   0   0   0   0   0   0   0   0   0   0   0   0   0   0   0   0\n",
            "    0   0   0   0   0   0   0   0   0   0]\n",
            " [  0   0   0   0   0   0   0   0   0   0   0   0   0   0   0   0   0   0\n",
            "    0   0   0   0   0   0   0   0   0   0]\n",
            " [  0   0   0   0   0   0   0   0   0   0   0   0   0   0   0   0  38  48\n",
            "   48  22   0   0   0   0   0   0   0   0]\n",
            " [  0   0   0   0   0   0   0   0   0   0   0   0   0  62  97 198 243 254\n",
            "  254 212  27   0   0   0   0   0   0   0]\n",
            " [  0   0   0   0   0   0   0   0   0   0   0   0  67 172 254 254 225 218\n",
            "  218 237 248  40   0  21 164 187   0   0]\n",
            " [  0   0   0   0   0   0   0   0   0   0   0  89 219 254  97  67  14   0\n",
            "    0  92 231 122  23 203 236  59   0   0]\n",
            " [  0   0   0   0   0   0   0   0   0   0  25 217 242  92   4   0   0   0\n",
            "    0   4 147 253 240 232  92   0   0   0]\n",
            " [  0   0   0   0   0   0   0   0   0   0 101 255  92   0   0   0   0   0\n",
            "    0 105 254 254 177  11   0   0   0   0]\n",
            " [  0   0   0   0   0   0   0   0   0   0 167 244  41   0   0   0   7  76\n",
            "  199 238 239  94  10   0   0   0   0   0]\n",
            " [  0   0   0   0   0   0   0   0   0   0 192 121   0   0   2  63 180 254\n",
            "  233 126   0   0   0   0   0   0   0   0]\n",
            " [  0   0   0   0   0   0   0   0   0   0 190 196  14   2  97 254 252 146\n",
            "   52   0   0   0   0   0   0   0   0   0]\n",
            " [  0   0   0   0   0   0   0   0   0   0 130 225  71 180 232 181  60   0\n",
            "    0   0   0   0   0   0   0   0   0   0]\n",
            " [  0   0   0   0   0   0   0   0   0   0 130 254 254 230  46   0   0   0\n",
            "    0   0   0   0   0   0   0   0   0   0]\n",
            " [  0   0   0   0   0   0   0   0   6  77 244 254 162   4   0   0   0   0\n",
            "    0   0   0   0   0   0   0   0   0   0]\n",
            " [  0   0   0   0   0   0   0   0 110 254 218 254 116   0   0   0   0   0\n",
            "    0   0   0   0   0   0   0   0   0   0]\n",
            " [  0   0   0   0   0   0   0 131 254 154  28 213  86   0   0   0   0   0\n",
            "    0   0   0   0   0   0   0   0   0   0]\n",
            " [  0   0   0   0   0   0  66 209 153  19  19 233  60   0   0   0   0   0\n",
            "    0   0   0   0   0   0   0   0   0   0]\n",
            " [  0   0   0   0   0   0 142 254 165   0  14 216 167   0   0   0   0   0\n",
            "    0   0   0   0   0   0   0   0   0   0]\n",
            " [  0   0   0   0   0   0  90 254 175   0  18 229  92   0   0   0   0   0\n",
            "    0   0   0   0   0   0   0   0   0   0]\n",
            " [  0   0   0   0   0   0  26 229 249 176 222 244  44   0   0   0   0   0\n",
            "    0   0   0   0   0   0   0   0   0   0]\n",
            " [  0   0   0   0   0   0   0  73 193 197 134   0   0   0   0   0   0   0\n",
            "    0   0   0   0   0   0   0   0   0   0]\n",
            " [  0   0   0   0   0   0   0   0   0   0   0   0   0   0   0   0   0   0\n",
            "    0   0   0   0   0   0   0   0   0   0]\n",
            " [  0   0   0   0   0   0   0   0   0   0   0   0   0   0   0   0   0   0\n",
            "    0   0   0   0   0   0   0   0   0   0]\n",
            " [  0   0   0   0   0   0   0   0   0   0   0   0   0   0   0   0   0   0\n",
            "    0   0   0   0   0   0   0   0   0   0]]\n"
          ],
          "name": "stdout"
        }
      ]
    },
    {
      "cell_type": "code",
      "metadata": {
        "id": "zHNWP5JhuDbl"
      },
      "source": [
        "y_train_one_hot = pd.get_dummies(y_train)\n",
        "y_test_one_hot = pd.get_dummies(y_test)"
      ],
      "execution_count": 13,
      "outputs": []
    },
    {
      "cell_type": "code",
      "metadata": {
        "colab": {
          "base_uri": "https://localhost:8080/"
        },
        "id": "kYs_atX3wAqi",
        "outputId": "e218ad69-b13f-4531-ec06-ad6baafbb088"
      },
      "source": [
        "y_train_one_hot.shape"
      ],
      "execution_count": 14,
      "outputs": [
        {
          "output_type": "execute_result",
          "data": {
            "text/plain": [
              "(60000, 10)"
            ]
          },
          "metadata": {
            "tags": []
          },
          "execution_count": 14
        }
      ]
    },
    {
      "cell_type": "code",
      "metadata": {
        "colab": {
          "base_uri": "https://localhost:8080/",
          "height": 417
        },
        "id": "SLywKPa_uDYu",
        "outputId": "14b17380-bef9-487f-f9ba-a5342efa8753"
      },
      "source": [
        "y_test_one_hot"
      ],
      "execution_count": 15,
      "outputs": [
        {
          "output_type": "execute_result",
          "data": {
            "text/html": [
              "<div>\n",
              "<style scoped>\n",
              "    .dataframe tbody tr th:only-of-type {\n",
              "        vertical-align: middle;\n",
              "    }\n",
              "\n",
              "    .dataframe tbody tr th {\n",
              "        vertical-align: top;\n",
              "    }\n",
              "\n",
              "    .dataframe thead th {\n",
              "        text-align: right;\n",
              "    }\n",
              "</style>\n",
              "<table border=\"1\" class=\"dataframe\">\n",
              "  <thead>\n",
              "    <tr style=\"text-align: right;\">\n",
              "      <th></th>\n",
              "      <th>0</th>\n",
              "      <th>1</th>\n",
              "      <th>2</th>\n",
              "      <th>3</th>\n",
              "      <th>4</th>\n",
              "      <th>5</th>\n",
              "      <th>6</th>\n",
              "      <th>7</th>\n",
              "      <th>8</th>\n",
              "      <th>9</th>\n",
              "    </tr>\n",
              "  </thead>\n",
              "  <tbody>\n",
              "    <tr>\n",
              "      <th>0</th>\n",
              "      <td>0</td>\n",
              "      <td>0</td>\n",
              "      <td>0</td>\n",
              "      <td>0</td>\n",
              "      <td>0</td>\n",
              "      <td>0</td>\n",
              "      <td>0</td>\n",
              "      <td>1</td>\n",
              "      <td>0</td>\n",
              "      <td>0</td>\n",
              "    </tr>\n",
              "    <tr>\n",
              "      <th>1</th>\n",
              "      <td>0</td>\n",
              "      <td>0</td>\n",
              "      <td>1</td>\n",
              "      <td>0</td>\n",
              "      <td>0</td>\n",
              "      <td>0</td>\n",
              "      <td>0</td>\n",
              "      <td>0</td>\n",
              "      <td>0</td>\n",
              "      <td>0</td>\n",
              "    </tr>\n",
              "    <tr>\n",
              "      <th>2</th>\n",
              "      <td>0</td>\n",
              "      <td>1</td>\n",
              "      <td>0</td>\n",
              "      <td>0</td>\n",
              "      <td>0</td>\n",
              "      <td>0</td>\n",
              "      <td>0</td>\n",
              "      <td>0</td>\n",
              "      <td>0</td>\n",
              "      <td>0</td>\n",
              "    </tr>\n",
              "    <tr>\n",
              "      <th>3</th>\n",
              "      <td>1</td>\n",
              "      <td>0</td>\n",
              "      <td>0</td>\n",
              "      <td>0</td>\n",
              "      <td>0</td>\n",
              "      <td>0</td>\n",
              "      <td>0</td>\n",
              "      <td>0</td>\n",
              "      <td>0</td>\n",
              "      <td>0</td>\n",
              "    </tr>\n",
              "    <tr>\n",
              "      <th>4</th>\n",
              "      <td>0</td>\n",
              "      <td>0</td>\n",
              "      <td>0</td>\n",
              "      <td>0</td>\n",
              "      <td>1</td>\n",
              "      <td>0</td>\n",
              "      <td>0</td>\n",
              "      <td>0</td>\n",
              "      <td>0</td>\n",
              "      <td>0</td>\n",
              "    </tr>\n",
              "    <tr>\n",
              "      <th>...</th>\n",
              "      <td>...</td>\n",
              "      <td>...</td>\n",
              "      <td>...</td>\n",
              "      <td>...</td>\n",
              "      <td>...</td>\n",
              "      <td>...</td>\n",
              "      <td>...</td>\n",
              "      <td>...</td>\n",
              "      <td>...</td>\n",
              "      <td>...</td>\n",
              "    </tr>\n",
              "    <tr>\n",
              "      <th>9995</th>\n",
              "      <td>0</td>\n",
              "      <td>0</td>\n",
              "      <td>1</td>\n",
              "      <td>0</td>\n",
              "      <td>0</td>\n",
              "      <td>0</td>\n",
              "      <td>0</td>\n",
              "      <td>0</td>\n",
              "      <td>0</td>\n",
              "      <td>0</td>\n",
              "    </tr>\n",
              "    <tr>\n",
              "      <th>9996</th>\n",
              "      <td>0</td>\n",
              "      <td>0</td>\n",
              "      <td>0</td>\n",
              "      <td>1</td>\n",
              "      <td>0</td>\n",
              "      <td>0</td>\n",
              "      <td>0</td>\n",
              "      <td>0</td>\n",
              "      <td>0</td>\n",
              "      <td>0</td>\n",
              "    </tr>\n",
              "    <tr>\n",
              "      <th>9997</th>\n",
              "      <td>0</td>\n",
              "      <td>0</td>\n",
              "      <td>0</td>\n",
              "      <td>0</td>\n",
              "      <td>1</td>\n",
              "      <td>0</td>\n",
              "      <td>0</td>\n",
              "      <td>0</td>\n",
              "      <td>0</td>\n",
              "      <td>0</td>\n",
              "    </tr>\n",
              "    <tr>\n",
              "      <th>9998</th>\n",
              "      <td>0</td>\n",
              "      <td>0</td>\n",
              "      <td>0</td>\n",
              "      <td>0</td>\n",
              "      <td>0</td>\n",
              "      <td>1</td>\n",
              "      <td>0</td>\n",
              "      <td>0</td>\n",
              "      <td>0</td>\n",
              "      <td>0</td>\n",
              "    </tr>\n",
              "    <tr>\n",
              "      <th>9999</th>\n",
              "      <td>0</td>\n",
              "      <td>0</td>\n",
              "      <td>0</td>\n",
              "      <td>0</td>\n",
              "      <td>0</td>\n",
              "      <td>0</td>\n",
              "      <td>1</td>\n",
              "      <td>0</td>\n",
              "      <td>0</td>\n",
              "      <td>0</td>\n",
              "    </tr>\n",
              "  </tbody>\n",
              "</table>\n",
              "<p>10000 rows × 10 columns</p>\n",
              "</div>"
            ],
            "text/plain": [
              "      0  1  2  3  4  5  6  7  8  9\n",
              "0     0  0  0  0  0  0  0  1  0  0\n",
              "1     0  0  1  0  0  0  0  0  0  0\n",
              "2     0  1  0  0  0  0  0  0  0  0\n",
              "3     1  0  0  0  0  0  0  0  0  0\n",
              "4     0  0  0  0  1  0  0  0  0  0\n",
              "...  .. .. .. .. .. .. .. .. .. ..\n",
              "9995  0  0  1  0  0  0  0  0  0  0\n",
              "9996  0  0  0  1  0  0  0  0  0  0\n",
              "9997  0  0  0  0  1  0  0  0  0  0\n",
              "9998  0  0  0  0  0  1  0  0  0  0\n",
              "9999  0  0  0  0  0  0  1  0  0  0\n",
              "\n",
              "[10000 rows x 10 columns]"
            ]
          },
          "metadata": {
            "tags": []
          },
          "execution_count": 15
        }
      ]
    },
    {
      "cell_type": "markdown",
      "metadata": {
        "id": "7vQL0LN0wFy2"
      },
      "source": [
        "- 딥러닝 신경망에서는 2차원 이미지 데이터를 한 번에 넣을 수가 없기 때문에 데이터의 차원을 1차원으로 변경시켜서 넣어줘야 함!"
      ]
    },
    {
      "cell_type": "code",
      "metadata": {
        "id": "rtr73PfiuDV1"
      },
      "source": [
        "# -1은 60000을 제외한 나머지 값들을 다 곱해서 일렬로 퍼줌\n",
        "X_train = X_train.reshape(60000, -1)\n",
        "X_test = X_test.reshape(10000, -1)"
      ],
      "execution_count": 16,
      "outputs": []
    },
    {
      "cell_type": "code",
      "metadata": {
        "colab": {
          "base_uri": "https://localhost:8080/"
        },
        "id": "8hpYN_PzuDTM",
        "outputId": "7484b2bb-0bfd-40b7-ea53-ee20024b8f80"
      },
      "source": [
        "# 이미지는 픽셀 하나하나가 하나의 특성으로 인식됨\n",
        "X_train.shape, X_test.shape"
      ],
      "execution_count": 17,
      "outputs": [
        {
          "output_type": "execute_result",
          "data": {
            "text/plain": [
              "((60000, 784), (10000, 784))"
            ]
          },
          "metadata": {
            "tags": []
          },
          "execution_count": 17
        }
      ]
    },
    {
      "cell_type": "markdown",
      "metadata": {
        "id": "Kwixf2FWxlnn"
      },
      "source": [
        "### 신경망 구조를 직접 설계해보자!\n",
        "\n",
        "- 입력 특성 수 \n",
        "- 출력층 활성화 함수\n",
        "- 손실함수 (loss)\n",
        "- 최적화함수 (optimizer)\n",
        "\n"
      ]
    },
    {
      "cell_type": "code",
      "metadata": {
        "id": "eEX4arUcxkyA"
      },
      "source": [
        "# 딥러닝을 위한 라이브러리를 임포트\n",
        "from tensorflow.keras import Sequential  # 신경망의 뼈대를 구성\n",
        "from tensorflow.keras.layers import Dense   # 신경망의 층을 구성\n",
        "from tensorflow.keras.layers import InputLayer,Dense"
      ],
      "execution_count": 18,
      "outputs": []
    },
    {
      "cell_type": "code",
      "metadata": {
        "colab": {
          "base_uri": "https://localhost:8080/"
        },
        "id": "DSevqy4xuDQh",
        "outputId": "08243041-6912-43b8-d0af-ca3afc0b4b6d"
      },
      "source": [
        "# 신경망의 뼈대를 설정\n",
        "model = Sequential()\n",
        "\n",
        "# 입력층 + 중간층\n",
        "# input_dim : 데이터 특성의 개수\n",
        "# activation: 활성화 함수를 설정 (들어온 자극 (데이터)에 대한 응답여부를 결정하는 함수)\n",
        "model.add(Dense(1000,input_dim=784,activation=\"sigmoid\"))\n",
        "\n",
        "# 중간층\n",
        "model.add(Dense(500,activation=\"sigmoid\"))   # 하나의 층\n",
        "model.add(Dense(100, activation=\"sigmoid\"))   # 하나의 층\n",
        "\n",
        "# 출력층\n",
        "model.add(Dense(10, activation=\"softmax\"))   # 0~9까지의 정답레이블 (10개)\n",
        "\n",
        "model.summary()"
      ],
      "execution_count": 19,
      "outputs": [
        {
          "output_type": "stream",
          "text": [
            "Model: \"sequential\"\n",
            "_________________________________________________________________\n",
            "Layer (type)                 Output Shape              Param #   \n",
            "=================================================================\n",
            "dense (Dense)                (None, 1000)              785000    \n",
            "_________________________________________________________________\n",
            "dense_1 (Dense)              (None, 500)               500500    \n",
            "_________________________________________________________________\n",
            "dense_2 (Dense)              (None, 100)               50100     \n",
            "_________________________________________________________________\n",
            "dense_3 (Dense)              (None, 10)                1010      \n",
            "=================================================================\n",
            "Total params: 1,336,610\n",
            "Trainable params: 1,336,610\n",
            "Non-trainable params: 0\n",
            "_________________________________________________________________\n"
          ],
          "name": "stdout"
        }
      ]
    },
    {
      "cell_type": "code",
      "metadata": {
        "id": "h-IFC4gwuDNz"
      },
      "source": [
        "# 2. 학습/ 평가 방법 설정\n",
        "model.compile(loss =\"categorical_crossentropy\",\n",
        "               optimizer = 'Adam',            # Adam : 최근에 가장 많이 사용되는 성능이 높은 최적화 함수\n",
        "               metrics = [\"acc\"]               # metrics: 평가 방법을 설정 (분류 문제이기 때문에 정확도(acc)를 확인)\n",
        "               )"
      ],
      "execution_count": 20,
      "outputs": []
    },
    {
      "cell_type": "code",
      "metadata": {
        "id": "149kS0ciuDKx",
        "colab": {
          "base_uri": "https://localhost:8080/"
        },
        "outputId": "56678c0f-b35b-4ba4-ece2-c1f151a961ea"
      },
      "source": [
        "h = model.fit(X_train, y_train_one_hot, epochs=50)"
      ],
      "execution_count": 21,
      "outputs": [
        {
          "output_type": "stream",
          "text": [
            "Epoch 1/50\n",
            "1875/1875 [==============================] - 8s 2ms/step - loss: 0.4023 - acc: 0.8813\n",
            "Epoch 2/50\n",
            "1875/1875 [==============================] - 5s 2ms/step - loss: 0.2752 - acc: 0.9140\n",
            "Epoch 3/50\n",
            "1875/1875 [==============================] - 4s 2ms/step - loss: 0.2305 - acc: 0.9273\n",
            "Epoch 4/50\n",
            "1875/1875 [==============================] - 4s 2ms/step - loss: 0.2122 - acc: 0.9334\n",
            "Epoch 5/50\n",
            "1875/1875 [==============================] - 4s 2ms/step - loss: 0.1987 - acc: 0.9371\n",
            "Epoch 6/50\n",
            "1875/1875 [==============================] - 4s 2ms/step - loss: 0.1875 - acc: 0.9403\n",
            "Epoch 7/50\n",
            "1875/1875 [==============================] - 4s 2ms/step - loss: 0.1704 - acc: 0.9455\n",
            "Epoch 8/50\n",
            "1875/1875 [==============================] - 4s 2ms/step - loss: 0.1634 - acc: 0.9481\n",
            "Epoch 9/50\n",
            "1875/1875 [==============================] - 4s 2ms/step - loss: 0.1525 - acc: 0.9514\n",
            "Epoch 10/50\n",
            "1875/1875 [==============================] - 4s 2ms/step - loss: 0.1522 - acc: 0.9519\n",
            "Epoch 11/50\n",
            "1875/1875 [==============================] - 4s 2ms/step - loss: 0.1437 - acc: 0.9550\n",
            "Epoch 12/50\n",
            "1875/1875 [==============================] - 4s 2ms/step - loss: 0.1383 - acc: 0.9556\n",
            "Epoch 13/50\n",
            "1875/1875 [==============================] - 4s 2ms/step - loss: 0.1334 - acc: 0.9580\n",
            "Epoch 14/50\n",
            "1875/1875 [==============================] - 4s 2ms/step - loss: 0.1272 - acc: 0.9601\n",
            "Epoch 15/50\n",
            "1875/1875 [==============================] - 4s 2ms/step - loss: 0.1240 - acc: 0.9618\n",
            "Epoch 16/50\n",
            "1875/1875 [==============================] - 5s 2ms/step - loss: 0.1213 - acc: 0.9617\n",
            "Epoch 17/50\n",
            "1875/1875 [==============================] - 4s 2ms/step - loss: 0.1188 - acc: 0.9624\n",
            "Epoch 18/50\n",
            "1875/1875 [==============================] - 4s 2ms/step - loss: 0.1167 - acc: 0.9635\n",
            "Epoch 19/50\n",
            "1875/1875 [==============================] - 4s 2ms/step - loss: 0.1119 - acc: 0.9648\n",
            "Epoch 20/50\n",
            "1875/1875 [==============================] - 4s 2ms/step - loss: 0.1102 - acc: 0.9653\n",
            "Epoch 21/50\n",
            "1875/1875 [==============================] - 4s 2ms/step - loss: 0.1143 - acc: 0.9634\n",
            "Epoch 22/50\n",
            "1875/1875 [==============================] - 4s 2ms/step - loss: 0.1061 - acc: 0.9654\n",
            "Epoch 23/50\n",
            "1875/1875 [==============================] - 4s 2ms/step - loss: 0.1047 - acc: 0.9665\n",
            "Epoch 24/50\n",
            "1875/1875 [==============================] - 4s 2ms/step - loss: 0.1057 - acc: 0.9663\n",
            "Epoch 25/50\n",
            "1875/1875 [==============================] - 4s 2ms/step - loss: 0.1045 - acc: 0.9667\n",
            "Epoch 26/50\n",
            "1875/1875 [==============================] - 4s 2ms/step - loss: 0.1059 - acc: 0.9665\n",
            "Epoch 27/50\n",
            "1875/1875 [==============================] - 4s 2ms/step - loss: 0.1053 - acc: 0.9660\n",
            "Epoch 28/50\n",
            "1875/1875 [==============================] - 4s 2ms/step - loss: 0.1040 - acc: 0.9670\n",
            "Epoch 29/50\n",
            "1875/1875 [==============================] - 4s 2ms/step - loss: 0.1010 - acc: 0.9682\n",
            "Epoch 30/50\n",
            "1875/1875 [==============================] - 4s 2ms/step - loss: 0.0989 - acc: 0.9683\n",
            "Epoch 31/50\n",
            "1875/1875 [==============================] - 4s 2ms/step - loss: 0.0967 - acc: 0.9690\n",
            "Epoch 32/50\n",
            "1875/1875 [==============================] - 4s 2ms/step - loss: 0.0955 - acc: 0.9699\n",
            "Epoch 33/50\n",
            "1875/1875 [==============================] - 4s 2ms/step - loss: 0.0987 - acc: 0.9682\n",
            "Epoch 34/50\n",
            "1875/1875 [==============================] - 4s 2ms/step - loss: 0.0913 - acc: 0.9702\n",
            "Epoch 35/50\n",
            "1875/1875 [==============================] - 4s 2ms/step - loss: 0.0934 - acc: 0.9701\n",
            "Epoch 36/50\n",
            "1875/1875 [==============================] - 4s 2ms/step - loss: 0.0930 - acc: 0.9706\n",
            "Epoch 37/50\n",
            "1875/1875 [==============================] - 4s 2ms/step - loss: 0.0919 - acc: 0.9704\n",
            "Epoch 38/50\n",
            "1875/1875 [==============================] - 4s 2ms/step - loss: 0.0911 - acc: 0.9710\n",
            "Epoch 39/50\n",
            "1875/1875 [==============================] - 4s 2ms/step - loss: 0.0911 - acc: 0.9708\n",
            "Epoch 40/50\n",
            "1875/1875 [==============================] - 4s 2ms/step - loss: 0.0930 - acc: 0.9699\n",
            "Epoch 41/50\n",
            "1875/1875 [==============================] - 4s 2ms/step - loss: 0.0901 - acc: 0.9708\n",
            "Epoch 42/50\n",
            "1875/1875 [==============================] - 4s 2ms/step - loss: 0.0894 - acc: 0.9719\n",
            "Epoch 43/50\n",
            "1875/1875 [==============================] - 4s 2ms/step - loss: 0.0934 - acc: 0.9706\n",
            "Epoch 44/50\n",
            "1875/1875 [==============================] - 4s 2ms/step - loss: 0.0924 - acc: 0.9703\n",
            "Epoch 45/50\n",
            "1875/1875 [==============================] - 4s 2ms/step - loss: 0.0904 - acc: 0.9714\n",
            "Epoch 46/50\n",
            "1875/1875 [==============================] - 4s 2ms/step - loss: 0.0901 - acc: 0.9713\n",
            "Epoch 47/50\n",
            "1875/1875 [==============================] - 4s 2ms/step - loss: 0.0831 - acc: 0.9738\n",
            "Epoch 48/50\n",
            "1875/1875 [==============================] - 4s 2ms/step - loss: 0.0893 - acc: 0.9714\n",
            "Epoch 49/50\n",
            "1875/1875 [==============================] - 4s 2ms/step - loss: 0.0860 - acc: 0.9723\n",
            "Epoch 50/50\n",
            "1875/1875 [==============================] - 4s 2ms/step - loss: 0.0860 - acc: 0.9732\n"
          ],
          "name": "stdout"
        }
      ]
    },
    {
      "cell_type": "code",
      "metadata": {
        "colab": {
          "base_uri": "https://localhost:8080/",
          "height": 320
        },
        "id": "R_tHjeiyuDHy",
        "outputId": "88a4c7fa-b30e-46af-b1fa-5a85bf0f6bcc"
      },
      "source": [
        "# 시각화\n",
        "\n",
        "plt.figure(figsize=(15,5))\n",
        "\n",
        "plt.plot(range(1,51),\n",
        "         h.history['acc'],\n",
        "         label ='acc'\n",
        "         )\n",
        "\n",
        "plt.legend()\n",
        "plt.show()"
      ],
      "execution_count": 22,
      "outputs": [
        {
          "output_type": "display_data",
          "data": {
            "image/png": "[encoded data removed]",
            "text/plain": [
              "<Figure size 1080x360 with 1 Axes>"
            ]
          },
          "metadata": {
            "tags": [],
            "needs_background": "light"
          }
        }
      ]
    },
    {
      "cell_type": "code",
      "metadata": {
        "colab": {
          "base_uri": "https://localhost:8080/"
        },
        "id": "wNbapxVw3TBe",
        "outputId": "7d1ea842-a647-4471-f6b2-5f682d3338c0"
      },
      "source": [
        "# 모델 평가\n",
        "model.evaluate(X_test,y_test_one_hot)"
      ],
      "execution_count": 23,
      "outputs": [
        {
          "output_type": "stream",
          "text": [
            "313/313 [==============================] - 1s 2ms/step - loss: 0.1129 - acc: 0.9656\n"
          ],
          "name": "stdout"
        },
        {
          "output_type": "execute_result",
          "data": {
            "text/plain": [
              "[0.11289142817258835, 0.9656000137329102]"
            ]
          },
          "metadata": {
            "tags": []
          },
          "execution_count": 23
        }
      ]
    },
    {
      "cell_type": "markdown",
      "metadata": {
        "id": "oOGF8JYy8UHd"
      },
      "source": [
        "### 과대적합을 확인하기 위해 train 데이터에서 검증셋을 분리해서 학습시 같이 출력시켜보자!"
      ]
    },
    {
      "cell_type": "code",
      "metadata": {
        "id": "B62KS3gs8aDm"
      },
      "source": [
        "# train_test_split : 무조건 train, test 셋만 나눠주는게 아니라 데이터를 일정 비율로 랜덤하게 나누어주는 명령\n",
        "from sklearn.model_selection import train_test_split"
      ],
      "execution_count": 24,
      "outputs": []
    },
    {
      "cell_type": "code",
      "metadata": {
        "id": "rM1FLBZD8bRc"
      },
      "source": [
        "X_train, X_val, y_train_one_hot, y_val_one_hot = train_test_split(X_train, \n",
        "                                                                  y_train_one_hot,\n",
        "                                                                  random_state = 3\n",
        "                                                                  )"
      ],
      "execution_count": 25,
      "outputs": []
    },
    {
      "cell_type": "code",
      "metadata": {
        "colab": {
          "base_uri": "https://localhost:8080/"
        },
        "id": "jGyWCw6Q8bps",
        "outputId": "ba220f00-91c2-4ca6-84b1-cac3d364783c"
      },
      "source": [
        "print(X_train.shape)\n",
        "print(X_val.shape)\n",
        "print(y_train_one_hot.shape)\n",
        "print(y_val_one_hot.shape)"
      ],
      "execution_count": 26,
      "outputs": [
        {
          "output_type": "stream",
          "text": [
            "(45000, 784)\n",
            "(15000, 784)\n",
            "(45000, 10)\n",
            "(15000, 10)\n"
          ],
          "name": "stdout"
        }
      ]
    },
    {
      "cell_type": "code",
      "metadata": {
        "id": "ZTVDK3Rc-jCy",
        "colab": {
          "base_uri": "https://localhost:8080/"
        },
        "outputId": "fec38eaa-bbbd-4f6c-f765-30b63c6b7bc6"
      },
      "source": [
        "# 신경망의 뼈대를 설정\n",
        "model1 = Sequential()\n",
        "\n",
        "# 입력층 + 중간층\n",
        "# input_dim : 데이터 특성의 개수\n",
        "# activation: 활성화 함수를 설정 (들어온 자극 (데이터)에 대한 응답여부를 결정하는 함수)\n",
        "model1.add(Dense(1000,input_dim=784,activation=\"sigmoid\"))\n",
        "\n",
        "# 중간층\n",
        "model1.add(Dense(500,activation=\"sigmoid\"))   # 하나의 층\n",
        "model1.add(Dense(100, activation=\"sigmoid\"))   # 하나의 층\n",
        "\n",
        "# 출력층\n",
        "model1.add(Dense(10, activation=\"softmax\"))   # 0~9까지의 정답레이블 (10개)\n",
        "\n",
        "model1.summary()"
      ],
      "execution_count": 27,
      "outputs": [
        {
          "output_type": "stream",
          "text": [
            "Model: \"sequential_1\"\n",
            "_________________________________________________________________\n",
            "Layer (type)                 Output Shape              Param #   \n",
            "=================================================================\n",
            "dense_4 (Dense)              (None, 1000)              785000    \n",
            "_________________________________________________________________\n",
            "dense_5 (Dense)              (None, 500)               500500    \n",
            "_________________________________________________________________\n",
            "dense_6 (Dense)              (None, 100)               50100     \n",
            "_________________________________________________________________\n",
            "dense_7 (Dense)              (None, 10)                1010      \n",
            "=================================================================\n",
            "Total params: 1,336,610\n",
            "Trainable params: 1,336,610\n",
            "Non-trainable params: 0\n",
            "_________________________________________________________________\n"
          ],
          "name": "stdout"
        }
      ]
    },
    {
      "cell_type": "code",
      "metadata": {
        "id": "-yD6dYJp-i_x"
      },
      "source": [
        "# 2. 학습/ 평가 방법 설정\n",
        "model1.compile(loss =\"categorical_crossentropy\",\n",
        "               optimizer = 'Adam',            # Adam : 최근에 가장 많이 사용되는 성능이 높은 최적화 함수\n",
        "               metrics = [\"acc\"]               # metrics: 평가 방법을 설정 (분류 문제이기 때문에 정확도(acc)를 확인)\n",
        "               )"
      ],
      "execution_count": 28,
      "outputs": []
    },
    {
      "cell_type": "code",
      "metadata": {
        "id": "tfY28Jso-i9J",
        "colab": {
          "base_uri": "https://localhost:8080/"
        },
        "outputId": "efb6e4ce-b525-4d07-c9ad-43ecd7b3974e"
      },
      "source": [
        "h1 = model1.fit(X_train, y_train_one_hot, epochs=30,\n",
        "                validation_data = (X_val, y_val_one_hot)  # 검증용 데이터셋을 추가해주는 명령\n",
        "                )"
      ],
      "execution_count": 29,
      "outputs": [
        {
          "output_type": "stream",
          "text": [
            "Epoch 1/30\n",
            "1407/1407 [==============================] - 6s 4ms/step - loss: 0.4350 - acc: 0.8757 - val_loss: 0.3582 - val_acc: 0.8897\n",
            "Epoch 2/30\n",
            "1407/1407 [==============================] - 5s 4ms/step - loss: 0.2914 - acc: 0.9082 - val_loss: 0.3080 - val_acc: 0.9045\n",
            "Epoch 3/30\n",
            "1407/1407 [==============================] - 5s 3ms/step - loss: 0.2542 - acc: 0.9203 - val_loss: 0.2825 - val_acc: 0.9095\n",
            "Epoch 4/30\n",
            "1407/1407 [==============================] - 5s 4ms/step - loss: 0.2328 - acc: 0.9260 - val_loss: 0.2504 - val_acc: 0.9238\n",
            "Epoch 5/30\n",
            "1407/1407 [==============================] - 5s 3ms/step - loss: 0.2097 - acc: 0.9328 - val_loss: 0.2636 - val_acc: 0.9169\n",
            "Epoch 6/30\n",
            "1407/1407 [==============================] - 5s 3ms/step - loss: 0.2022 - acc: 0.9358 - val_loss: 0.2009 - val_acc: 0.9366\n",
            "Epoch 7/30\n",
            "1407/1407 [==============================] - 5s 4ms/step - loss: 0.1915 - acc: 0.9393 - val_loss: 0.2054 - val_acc: 0.9344\n",
            "Epoch 8/30\n",
            "1407/1407 [==============================] - 5s 4ms/step - loss: 0.1737 - acc: 0.9446 - val_loss: 0.2002 - val_acc: 0.9375\n",
            "Epoch 9/30\n",
            "1407/1407 [==============================] - 5s 3ms/step - loss: 0.1727 - acc: 0.9453 - val_loss: 0.1637 - val_acc: 0.9493\n",
            "Epoch 10/30\n",
            "1407/1407 [==============================] - 5s 3ms/step - loss: 0.1641 - acc: 0.9474 - val_loss: 0.2213 - val_acc: 0.9305\n",
            "Epoch 11/30\n",
            "1407/1407 [==============================] - 5s 3ms/step - loss: 0.1572 - acc: 0.9504 - val_loss: 0.1727 - val_acc: 0.9440\n",
            "Epoch 12/30\n",
            "1407/1407 [==============================] - 5s 4ms/step - loss: 0.1557 - acc: 0.9508 - val_loss: 0.1520 - val_acc: 0.9531\n",
            "Epoch 13/30\n",
            "1407/1407 [==============================] - 5s 4ms/step - loss: 0.1525 - acc: 0.9514 - val_loss: 0.1546 - val_acc: 0.9505\n",
            "Epoch 14/30\n",
            "1407/1407 [==============================] - 5s 3ms/step - loss: 0.1447 - acc: 0.9532 - val_loss: 0.1930 - val_acc: 0.9390\n",
            "Epoch 15/30\n",
            "1407/1407 [==============================] - 5s 4ms/step - loss: 0.1394 - acc: 0.9559 - val_loss: 0.1620 - val_acc: 0.9506\n",
            "Epoch 16/30\n",
            "1407/1407 [==============================] - 5s 3ms/step - loss: 0.1351 - acc: 0.9568 - val_loss: 0.1660 - val_acc: 0.9493\n",
            "Epoch 17/30\n",
            "1407/1407 [==============================] - 5s 3ms/step - loss: 0.1279 - acc: 0.9592 - val_loss: 0.1615 - val_acc: 0.9497\n",
            "Epoch 18/30\n",
            "1407/1407 [==============================] - 5s 4ms/step - loss: 0.1259 - acc: 0.9592 - val_loss: 0.1584 - val_acc: 0.9503\n",
            "Epoch 19/30\n",
            "1407/1407 [==============================] - 5s 4ms/step - loss: 0.1259 - acc: 0.9593 - val_loss: 0.1472 - val_acc: 0.9542\n",
            "Epoch 20/30\n",
            "1407/1407 [==============================] - 5s 3ms/step - loss: 0.1218 - acc: 0.9605 - val_loss: 0.1434 - val_acc: 0.9555\n",
            "Epoch 21/30\n",
            "1407/1407 [==============================] - 5s 4ms/step - loss: 0.1196 - acc: 0.9620 - val_loss: 0.1404 - val_acc: 0.9551\n",
            "Epoch 22/30\n",
            "1407/1407 [==============================] - 5s 4ms/step - loss: 0.1167 - acc: 0.9622 - val_loss: 0.1444 - val_acc: 0.9572\n",
            "Epoch 23/30\n",
            "1407/1407 [==============================] - 5s 4ms/step - loss: 0.1198 - acc: 0.9620 - val_loss: 0.1484 - val_acc: 0.9525\n",
            "Epoch 24/30\n",
            "1407/1407 [==============================] - 5s 3ms/step - loss: 0.1219 - acc: 0.9609 - val_loss: 0.1464 - val_acc: 0.9527\n",
            "Epoch 25/30\n",
            "1407/1407 [==============================] - 5s 4ms/step - loss: 0.1148 - acc: 0.9638 - val_loss: 0.1367 - val_acc: 0.9560\n",
            "Epoch 26/30\n",
            "1407/1407 [==============================] - 5s 3ms/step - loss: 0.1178 - acc: 0.9617 - val_loss: 0.1377 - val_acc: 0.9575\n",
            "Epoch 27/30\n",
            "1407/1407 [==============================] - 5s 3ms/step - loss: 0.1143 - acc: 0.9635 - val_loss: 0.1422 - val_acc: 0.9584\n",
            "Epoch 28/30\n",
            "1407/1407 [==============================] - 5s 4ms/step - loss: 0.1123 - acc: 0.9634 - val_loss: 0.1349 - val_acc: 0.9573\n",
            "Epoch 29/30\n",
            "1407/1407 [==============================] - 5s 4ms/step - loss: 0.1096 - acc: 0.9654 - val_loss: 0.1509 - val_acc: 0.9537\n",
            "Epoch 30/30\n",
            "1407/1407 [==============================] - 5s 3ms/step - loss: 0.1090 - acc: 0.9641 - val_loss: 0.1351 - val_acc: 0.9585\n"
          ],
          "name": "stdout"
        }
      ]
    },
    {
      "cell_type": "code",
      "metadata": {
        "id": "-tUzIoOw-i6M",
        "colab": {
          "base_uri": "https://localhost:8080/",
          "height": 320
        },
        "outputId": "979a4404-8e22-47e7-a5e0-9d70d2a57957"
      },
      "source": [
        "# 시각화\n",
        "plt.figure(figsize=(15,5))\n",
        "\n",
        "# train 데이터\n",
        "\n",
        "plt.plot(range(1,31),\n",
        "         h1.history['acc'],\n",
        "         label ='acc'\n",
        "         )\n",
        "\n",
        "# val 데이터\n",
        "plt.plot(range(1,31),\n",
        "         h1.history['val_acc'],\n",
        "         label ='val_acc'\n",
        "         )\n",
        "\n",
        "plt.legend()\n",
        "plt.show()"
      ],
      "execution_count": 31,
      "outputs": [
        {
          "output_type": "display_data",
          "data": {
            "image/png": "[encoded data removed]",
            "text/plain": [
              "<Figure size 1080x360 with 1 Axes>"
            ]
          },
          "metadata": {
            "tags": [],
            "needs_background": "light"
          }
        }
      ]
    },
    {
      "cell_type": "code",
      "metadata": {
        "id": "rgA2mwAd-i3w",
        "colab": {
          "base_uri": "https://localhost:8080/"
        },
        "outputId": "4aeeae9a-8ee0-48fe-b683-f82e8b5bcb7a"
      },
      "source": [
        "# 모델 평가\n",
        "model1.evaluate(X_test,y_test_one_hot)"
      ],
      "execution_count": 32,
      "outputs": [
        {
          "output_type": "stream",
          "text": [
            "313/313 [==============================] - 1s 2ms/step - loss: 0.1303 - acc: 0.9595\n"
          ],
          "name": "stdout"
        },
        {
          "output_type": "execute_result",
          "data": {
            "text/plain": [
              "[0.13034342229366302, 0.9595000147819519]"
            ]
          },
          "metadata": {
            "tags": []
          },
          "execution_count": 32
        }
      ]
    },
    {
      "cell_type": "code",
      "metadata": {
        "id": "GLMYD_l5-i1d"
      },
      "source": [
        ""
      ],
      "execution_count": 26,
      "outputs": []
    },
    {
      "cell_type": "code",
      "metadata": {
        "id": "G8fCFhV--ivz"
      },
      "source": [
        ""
      ],
      "execution_count": 26,
      "outputs": []
    }
  ]
}