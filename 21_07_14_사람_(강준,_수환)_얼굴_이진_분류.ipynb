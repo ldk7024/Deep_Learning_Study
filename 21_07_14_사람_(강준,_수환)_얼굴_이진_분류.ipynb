{
  "nbformat": 4,
  "nbformat_minor": 0,
  "metadata": {
    "colab": {
      "name": "21.07.14_사람 (강준, 수환) 얼굴 이진 분류",
      "provenance": [],
      "collapsed_sections": [],
      "mount_file_id": "1xYZq0FK777_G8Saoxdk4_cePFCHMUFfC",
      "authorship_tag": "ABX9TyPUOEbtP5Kmy/30AHSKzGIs",
      "include_colab_link": true
    },
    "kernelspec": {
      "name": "python3",
      "display_name": "Python 3"
    },
    "language_info": {
      "name": "python"
    },
    "accelerator": "GPU"
  },
  "cells": [
    {
      "cell_type": "markdown",
      "metadata": {
        "id": "view-in-github",
        "colab_type": "text"
      },
      "source": [
        "<a href=\"https://colab.research.google.com/github/ldk7024/Deep_Learning_Study/blob/main/21_07_14_%EC%82%AC%EB%9E%8C_(%EA%B0%95%EC%A4%80%2C_%EC%88%98%ED%99%98)_%EC%96%BC%EA%B5%B4_%EC%9D%B4%EC%A7%84_%EB%B6%84%EB%A5%98.ipynb\" target=\"_parent\"><img src=\"https://colab.research.google.com/assets/colab-badge.svg\" alt=\"Open In Colab\"/></a>"
      ]
    },
    {
      "cell_type": "markdown",
      "metadata": {
        "id": "aUo8lE7vATmm"
      },
      "source": [
        "### 목표\n",
        "- 강준, 수환님 얼굴을 분류하는 이진분류 모델을 만들어보자!"
      ]
    },
    {
      "cell_type": "code",
      "metadata": {
        "id": "cpjyS72vAPTv"
      },
      "source": [
        "import numpy as np\n",
        "import pandas as pd\n",
        "import matplotlib.pyplot as plt\n",
        "from PIL import Image # PIL: 이미지를 불러오게끔 해주는 라이브러리"
      ],
      "execution_count": 2,
      "outputs": []
    },
    {
      "cell_type": "code",
      "metadata": {
        "colab": {
          "base_uri": "https://localhost:8080/"
        },
        "id": "5a8vRFChBa_S",
        "outputId": "7de830b5-a3cd-4999-8a43-d55a05956de4"
      },
      "source": [
        "from google.colab import drive\n",
        "drive.mount('/content/drive')"
      ],
      "execution_count": 1,
      "outputs": [
        {
          "output_type": "stream",
          "text": [
            "Mounted at /content/drive\n"
          ],
          "name": "stdout"
        }
      ]
    },
    {
      "cell_type": "code",
      "metadata": {
        "colab": {
          "base_uri": "https://localhost:8080/",
          "height": 241
        },
        "id": "j5fdPcFCBnLh",
        "outputId": "a8766a4a-91a1-4c84-d473-6bdd40b687c6"
      },
      "source": [
        "# 이미지를 가져와서 흑백으로 전환\n",
        "# convert -> L: 흑백, RGB: 컬러\n",
        "img = Image.open(\"/content/drive/MyDrive/Colab Notebooks/빅데이터4차(딥러닝)/data/Class 1-samples/1.jpg\").convert('L')\n",
        "img"
      ],
      "execution_count": 6,
      "outputs": [
        {
          "output_type": "execute_result",
          "data": {
            "image/png": "[encoded data removed]",
            "text/plain": [
              "<PIL.Image.Image image mode=L size=224x224 at 0x7F6476096350>"
            ]
          },
          "metadata": {
            "tags": []
          },
          "execution_count": 6
        }
      ]
    },
    {
      "cell_type": "code",
      "metadata": {
        "id": "mryNjxlEBnI5"
      },
      "source": [
        "# 이미지 데이터를 numpy 배열로 변환\n",
        "# 기계가 인식할 수 있도록 이미지 데이터를 숫자 데이터로 변환시켜줘야 하기 때문\n",
        "# -> 가로 (행), 세로 (열) 픽셀 수 만큼 변경을 시켜줌\n",
        "img_array = np.array(img)\n",
        "\n",
        "# 손글씨, 패션데이터는 kerasㄴ에서 제공하는 학습용 데이터이기 때문에 사전에 수치형태로 변환되어져 있었음"
      ],
      "execution_count": 8,
      "outputs": []
    },
    {
      "cell_type": "code",
      "metadata": {
        "colab": {
          "base_uri": "https://localhost:8080/"
        },
        "id": "hSAdjvSCBnGX",
        "outputId": "02c5d72c-7de1-468e-9d86-3dbb29f37b62"
      },
      "source": [
        "img_array.shape"
      ],
      "execution_count": 9,
      "outputs": [
        {
          "output_type": "execute_result",
          "data": {
            "text/plain": [
              "(224, 224)"
            ]
          },
          "metadata": {
            "tags": []
          },
          "execution_count": 9
        }
      ]
    },
    {
      "cell_type": "code",
      "metadata": {
        "colab": {
          "base_uri": "https://localhost:8080/"
        },
        "id": "i-2X6YKZBnDi",
        "outputId": "d3cb8ee2-a04e-45cb-fb5b-aebdeb6136fe"
      },
      "source": [
        "img_array"
      ],
      "execution_count": 10,
      "outputs": [
        {
          "output_type": "execute_result",
          "data": {
            "text/plain": [
              "array([[155, 156, 158, ..., 157, 157, 157],\n",
              "       [192, 192, 193, ..., 157, 157, 158],\n",
              "       [193, 193, 193, ..., 158, 158, 158],\n",
              "       ...,\n",
              "       [ 75,  76,  77, ...,  96,  95,  94],\n",
              "       [ 76,  76,  76, ...,  97,  97,  96],\n",
              "       [ 76,  76,  76, ...,  98,  98,  97]], dtype=uint8)"
            ]
          },
          "metadata": {
            "tags": []
          },
          "execution_count": 10
        }
      ]
    },
    {
      "cell_type": "code",
      "metadata": {
        "id": "DPW0R2lrBnAX"
      },
      "source": [
        "# 데이터 셋 구성 (인물별 200장씩)"
      ],
      "execution_count": null,
      "outputs": []
    },
    {
      "cell_type": "code",
      "metadata": {
        "id": "O0IByO8UHrZl"
      },
      "source": [
        "# 반복문 실행시 어느정도 실행되고 있는지 %로 알려주는 라이브러리\n",
        "from tqdm import tqdm"
      ],
      "execution_count": 17,
      "outputs": []
    },
    {
      "cell_type": "code",
      "metadata": {
        "colab": {
          "base_uri": "https://localhost:8080/"
        },
        "id": "c6ithJq1Bm9j",
        "outputId": "0767e782-5a8d-4fee-ca99-5eeb2751cc31"
      },
      "source": [
        "class1_list = [] # 강준이형 데이터가 저장될 자리\n",
        "class2_list = [] # 수환님 데이터가 저장될 자리\n",
        "\n",
        "for i in tqdm(range(0,200,1)):\n",
        "# 1. 강준이형 데이터 작업\n",
        "# 경로와 이름에 맞게 이미지를 가져와서 흑백으로 변환한 후에 img1이라는 변수에 담아줌\n",
        "  img1 = Image.open(\"/content/drive/MyDrive/Colab Notebooks/빅데이터4차(딥러닝)/data/Class 1-samples/\"+str(i)+\".jpg\").convert('L')\n",
        "  # 이미지 데이터가 저장된 img1을 numpy 배열로 변환\n",
        "  img_array1 = np.array(img1)\n",
        "  # numpy 배열로 변환된 데이터를 빈 리스트에 하나씩 추가해주기\n",
        "  class1_list.append(img_array1)\n",
        "\n",
        "  # 2. 수환님 데이터 작업\n",
        "  img2 = Image.open(\"/content/drive/MyDrive/Colab Notebooks/빅데이터4차(딥러닝)/data/Class 2-samples/\"+str(i)+\".jpg\").convert('L')\n",
        "  # 이미지 데이터가 저장된 img1을 numpy 배열로 변환\n",
        "  img_array2 = np.array(img2)\n",
        "  # numpy 배열로 변환된 데이터를 빈 리스트에 하나씩 추가해주기\n",
        "  class2_list.append(img_array2)\n"
      ],
      "execution_count": 18,
      "outputs": [
        {
          "output_type": "stream",
          "text": [
            "100%|██████████| 200/200 [00:19<00:00, 10.21it/s]\n"
          ],
          "name": "stderr"
        }
      ]
    },
    {
      "cell_type": "code",
      "metadata": {
        "id": "Ir6wNbivFb3k"
      },
      "source": [
        ""
      ],
      "execution_count": null,
      "outputs": []
    }
  ]
}