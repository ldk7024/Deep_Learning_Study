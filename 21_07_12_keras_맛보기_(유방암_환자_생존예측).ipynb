{
  "nbformat": 4,
  "nbformat_minor": 0,
  "metadata": {
    "colab": {
      "name": "21.07.12_keras 맛보기 (유방암 환자 생존예측)",
      "provenance": [],
      "collapsed_sections": [],
      "mount_file_id": "1N8-KBDlLEgJP6sS7NjCq04rw5mgBiJCe",
      "authorship_tag": "ABX9TyO8AY5vx0j//hEjsrdWW3Wd",
      "include_colab_link": true
    },
    "kernelspec": {
      "name": "python3",
      "display_name": "Python 3"
    },
    "language_info": {
      "name": "python"
    }
  },
  "cells": [
    {
      "cell_type": "markdown",
      "metadata": {
        "id": "view-in-github",
        "colab_type": "text"
      },
      "source": [
        "<a href=\"https://colab.research.google.com/github/ldk7024/Deep_Learning_Study/blob/main/21_07_12_keras_%EB%A7%9B%EB%B3%B4%EA%B8%B0_(%EC%9C%A0%EB%B0%A9%EC%95%94_%ED%99%98%EC%9E%90_%EC%83%9D%EC%A1%B4%EC%98%88%EC%B8%A1).ipynb\" target=\"_parent\"><img src=\"https://colab.research.google.com/assets/colab-badge.svg\" alt=\"Open In Colab\"/></a>"
      ]
    },
    {
      "cell_type": "markdown",
      "metadata": {
        "id": "aUo8lE7vATmm"
      },
      "source": [
        "### 목표\n",
        "- 환자 데이터를 바탕으로 유방암인지 아닌지를 구분해보자!\n",
        "- 신경망을 활용하여 2진 분류 문제를 해결해보자!\n"
      ]
    },
    {
      "cell_type": "code",
      "metadata": {
        "id": "cpjyS72vAPTv"
      },
      "source": [
        "import numpy as np\n",
        "import pandas as pd\n",
        "import matplotlib.pyplot as plt"
      ],
      "execution_count": 35,
      "outputs": []
    },
    {
      "cell_type": "code",
      "metadata": {
        "id": "v7pWcGupeMhv"
      },
      "source": [
        "from sklearn.datasets import load_breast_cancer"
      ],
      "execution_count": 1,
      "outputs": []
    },
    {
      "cell_type": "code",
      "metadata": {
        "colab": {
          "base_uri": "https://localhost:8080/"
        },
        "id": "p3u2-xEneMOe",
        "outputId": "7738e2a0-96c0-4c15-9c7d-afd753f155bb"
      },
      "source": [
        "data = load_breast_cancer()\n",
        "data"
      ],
      "execution_count": 2,
      "outputs": [
        {
          "output_type": "execute_result",
          "data": {
            "text/plain": [
              "{'DESCR': '.. _breast_cancer_dataset:\\n\\nBreast cancer wisconsin (diagnostic) dataset\\n--------------------------------------------\\n\\n**Data Set Characteristics:**\\n\\n    :Number of Instances: 569\\n\\n    :Number of Attributes: 30 numeric, predictive attributes and the class\\n\\n    :Attribute Information:\\n        - radius (mean of distances from center to points on the perimeter)\\n        - texture (standard deviation of gray-scale values)\\n        - perimeter\\n        - area\\n        - smoothness (local variation in radius lengths)\\n        - compactness (perimeter^2 / area - 1.0)\\n        - concavity (severity of concave portions of the contour)\\n        - concave points (number of concave portions of the contour)\\n        - symmetry \\n        - fractal dimension (\"coastline approximation\" - 1)\\n\\n        The mean, standard error, and \"worst\" or largest (mean of the three\\n        largest values) of these features were computed for each image,\\n        resulting in 30 features.  For instance, field 3 is Mean Radius, field\\n        13 is Radius SE, field 23 is Worst Radius.\\n\\n        - class:\\n                - WDBC-Malignant\\n                - WDBC-Benign\\n\\n    :Summary Statistics:\\n\\n    ===================================== ====== ======\\n                                           Min    Max\\n    ===================================== ====== ======\\n    radius (mean):                        6.981  28.11\\n    texture (mean):                       9.71   39.28\\n    perimeter (mean):                     43.79  188.5\\n    area (mean):                          143.5  2501.0\\n    smoothness (mean):                    0.053  0.163\\n    compactness (mean):                   0.019  0.345\\n    concavity (mean):                     0.0    0.427\\n    concave points (mean):                0.0    0.201\\n    symmetry (mean):                      0.106  0.304\\n    fractal dimension (mean):             0.05   0.097\\n    radius (standard error):              0.112  2.873\\n    texture (standard error):             0.36   4.885\\n    perimeter (standard error):           0.757  21.98\\n    area (standard error):                6.802  542.2\\n    smoothness (standard error):          0.002  0.031\\n    compactness (standard error):         0.002  0.135\\n    concavity (standard error):           0.0    0.396\\n    concave points (standard error):      0.0    0.053\\n    symmetry (standard error):            0.008  0.079\\n    fractal dimension (standard error):   0.001  0.03\\n    radius (worst):                       7.93   36.04\\n    texture (worst):                      12.02  49.54\\n    perimeter (worst):                    50.41  251.2\\n    area (worst):                         185.2  4254.0\\n    smoothness (worst):                   0.071  0.223\\n    compactness (worst):                  0.027  1.058\\n    concavity (worst):                    0.0    1.252\\n    concave points (worst):               0.0    0.291\\n    symmetry (worst):                     0.156  0.664\\n    fractal dimension (worst):            0.055  0.208\\n    ===================================== ====== ======\\n\\n    :Missing Attribute Values: None\\n\\n    :Class Distribution: 212 - Malignant, 357 - Benign\\n\\n    :Creator:  Dr. William H. Wolberg, W. Nick Street, Olvi L. Mangasarian\\n\\n    :Donor: Nick Street\\n\\n    :Date: November, 1995\\n\\nThis is a copy of UCI ML Breast Cancer Wisconsin (Diagnostic) datasets.\\nhttps://goo.gl/U2Uwz2\\n\\nFeatures are computed from a digitized image of a fine needle\\naspirate (FNA) of a breast mass.  They describe\\ncharacteristics of the cell nuclei present in the image.\\n\\nSeparating plane described above was obtained using\\nMultisurface Method-Tree (MSM-T) [K. P. Bennett, \"Decision Tree\\nConstruction Via Linear Programming.\" Proceedings of the 4th\\nMidwest Artificial Intelligence and Cognitive Science Society,\\npp. 97-101, 1992], a classification method which uses linear\\nprogramming to construct a decision tree.  Relevant features\\nwere selected using an exhaustive search in the space of 1-4\\nfeatures and 1-3 separating planes.\\n\\nThe actual linear program used to obtain the separating plane\\nin the 3-dimensional space is that described in:\\n[K. P. Bennett and O. L. Mangasarian: \"Robust Linear\\nProgramming Discrimination of Two Linearly Inseparable Sets\",\\nOptimization Methods and Software 1, 1992, 23-34].\\n\\nThis database is also available through the UW CS ftp server:\\n\\nftp ftp.cs.wisc.edu\\ncd math-prog/cpo-dataset/machine-learn/WDBC/\\n\\n.. topic:: References\\n\\n   - W.N. Street, W.H. Wolberg and O.L. Mangasarian. Nuclear feature extraction \\n     for breast tumor diagnosis. IS&T/SPIE 1993 International Symposium on \\n     Electronic Imaging: Science and Technology, volume 1905, pages 861-870,\\n     San Jose, CA, 1993.\\n   - O.L. Mangasarian, W.N. Street and W.H. Wolberg. Breast cancer diagnosis and \\n     prognosis via linear programming. Operations Research, 43(4), pages 570-577, \\n     July-August 1995.\\n   - W.H. Wolberg, W.N. Street, and O.L. Mangasarian. Machine learning techniques\\n     to diagnose breast cancer from fine-needle aspirates. Cancer Letters 77 (1994) \\n     163-171.',\n",
              " 'data': array([[1.799e+01, 1.038e+01, 1.228e+02, ..., 2.654e-01, 4.601e-01,\n",
              "         1.189e-01],\n",
              "        [2.057e+01, 1.777e+01, 1.329e+02, ..., 1.860e-01, 2.750e-01,\n",
              "         8.902e-02],\n",
              "        [1.969e+01, 2.125e+01, 1.300e+02, ..., 2.430e-01, 3.613e-01,\n",
              "         8.758e-02],\n",
              "        ...,\n",
              "        [1.660e+01, 2.808e+01, 1.083e+02, ..., 1.418e-01, 2.218e-01,\n",
              "         7.820e-02],\n",
              "        [2.060e+01, 2.933e+01, 1.401e+02, ..., 2.650e-01, 4.087e-01,\n",
              "         1.240e-01],\n",
              "        [7.760e+00, 2.454e+01, 4.792e+01, ..., 0.000e+00, 2.871e-01,\n",
              "         7.039e-02]]),\n",
              " 'feature_names': array(['mean radius', 'mean texture', 'mean perimeter', 'mean area',\n",
              "        'mean smoothness', 'mean compactness', 'mean concavity',\n",
              "        'mean concave points', 'mean symmetry', 'mean fractal dimension',\n",
              "        'radius error', 'texture error', 'perimeter error', 'area error',\n",
              "        'smoothness error', 'compactness error', 'concavity error',\n",
              "        'concave points error', 'symmetry error',\n",
              "        'fractal dimension error', 'worst radius', 'worst texture',\n",
              "        'worst perimeter', 'worst area', 'worst smoothness',\n",
              "        'worst compactness', 'worst concavity', 'worst concave points',\n",
              "        'worst symmetry', 'worst fractal dimension'], dtype='<U23'),\n",
              " 'filename': '/usr/local/lib/python3.7/dist-packages/sklearn/datasets/data/breast_cancer.csv',\n",
              " 'target': array([0, 0, 0, 0, 0, 0, 0, 0, 0, 0, 0, 0, 0, 0, 0, 0, 0, 0, 0, 1, 1, 1,\n",
              "        0, 0, 0, 0, 0, 0, 0, 0, 0, 0, 0, 0, 0, 0, 0, 1, 0, 0, 0, 0, 0, 0,\n",
              "        0, 0, 1, 0, 1, 1, 1, 1, 1, 0, 0, 1, 0, 0, 1, 1, 1, 1, 0, 1, 0, 0,\n",
              "        1, 1, 1, 1, 0, 1, 0, 0, 1, 0, 1, 0, 0, 1, 1, 1, 0, 0, 1, 0, 0, 0,\n",
              "        1, 1, 1, 0, 1, 1, 0, 0, 1, 1, 1, 0, 0, 1, 1, 1, 1, 0, 1, 1, 0, 1,\n",
              "        1, 1, 1, 1, 1, 1, 1, 0, 0, 0, 1, 0, 0, 1, 1, 1, 0, 0, 1, 0, 1, 0,\n",
              "        0, 1, 0, 0, 1, 1, 0, 1, 1, 0, 1, 1, 1, 1, 0, 1, 1, 1, 1, 1, 1, 1,\n",
              "        1, 1, 0, 1, 1, 1, 1, 0, 0, 1, 0, 1, 1, 0, 0, 1, 1, 0, 0, 1, 1, 1,\n",
              "        1, 0, 1, 1, 0, 0, 0, 1, 0, 1, 0, 1, 1, 1, 0, 1, 1, 0, 0, 1, 0, 0,\n",
              "        0, 0, 1, 0, 0, 0, 1, 0, 1, 0, 1, 1, 0, 1, 0, 0, 0, 0, 1, 1, 0, 0,\n",
              "        1, 1, 1, 0, 1, 1, 1, 1, 1, 0, 0, 1, 1, 0, 1, 1, 0, 0, 1, 0, 1, 1,\n",
              "        1, 1, 0, 1, 1, 1, 1, 1, 0, 1, 0, 0, 0, 0, 0, 0, 0, 0, 0, 0, 0, 0,\n",
              "        0, 0, 1, 1, 1, 1, 1, 1, 0, 1, 0, 1, 1, 0, 1, 1, 0, 1, 0, 0, 1, 1,\n",
              "        1, 1, 1, 1, 1, 1, 1, 1, 1, 1, 1, 0, 1, 1, 0, 1, 0, 1, 1, 1, 1, 1,\n",
              "        1, 1, 1, 1, 1, 1, 1, 1, 1, 0, 1, 1, 1, 0, 1, 0, 1, 1, 1, 1, 0, 0,\n",
              "        0, 1, 1, 1, 1, 0, 1, 0, 1, 0, 1, 1, 1, 0, 1, 1, 1, 1, 1, 1, 1, 0,\n",
              "        0, 0, 1, 1, 1, 1, 1, 1, 1, 1, 1, 1, 1, 0, 0, 1, 0, 0, 0, 1, 0, 0,\n",
              "        1, 1, 1, 1, 1, 0, 1, 1, 1, 1, 1, 0, 1, 1, 1, 0, 1, 1, 0, 0, 1, 1,\n",
              "        1, 1, 1, 1, 0, 1, 1, 1, 1, 1, 1, 1, 0, 1, 1, 1, 1, 1, 0, 1, 1, 0,\n",
              "        1, 1, 1, 1, 1, 1, 1, 1, 1, 1, 1, 1, 0, 1, 0, 0, 1, 0, 1, 1, 1, 1,\n",
              "        1, 0, 1, 1, 0, 1, 0, 1, 1, 0, 1, 0, 1, 1, 1, 1, 1, 1, 1, 1, 0, 0,\n",
              "        1, 1, 1, 1, 1, 1, 0, 1, 1, 1, 1, 1, 1, 1, 1, 1, 1, 0, 1, 1, 1, 1,\n",
              "        1, 1, 1, 0, 1, 0, 1, 1, 0, 1, 1, 1, 1, 1, 0, 0, 1, 0, 1, 0, 1, 1,\n",
              "        1, 1, 1, 0, 1, 1, 0, 1, 0, 1, 0, 0, 1, 1, 1, 0, 1, 1, 1, 1, 1, 1,\n",
              "        1, 1, 1, 1, 1, 0, 1, 0, 0, 1, 1, 1, 1, 1, 1, 1, 1, 1, 1, 1, 1, 1,\n",
              "        1, 1, 1, 1, 1, 1, 1, 1, 1, 1, 1, 1, 0, 0, 0, 0, 0, 0, 1]),\n",
              " 'target_names': array(['malignant', 'benign'], dtype='<U9')}"
            ]
          },
          "metadata": {
            "tags": []
          },
          "execution_count": 2
        }
      ]
    },
    {
      "cell_type": "code",
      "metadata": {
        "colab": {
          "base_uri": "https://localhost:8080/"
        },
        "id": "K37m_3HCeghS",
        "outputId": "fc672941-f94a-47f4-905b-7c48e26a90b8"
      },
      "source": [
        "data.keys()"
      ],
      "execution_count": 3,
      "outputs": [
        {
          "output_type": "execute_result",
          "data": {
            "text/plain": [
              "dict_keys(['data', 'target', 'target_names', 'DESCR', 'feature_names', 'filename'])"
            ]
          },
          "metadata": {
            "tags": []
          },
          "execution_count": 3
        }
      ]
    },
    {
      "cell_type": "code",
      "metadata": {
        "id": "ymwtp4UfegXd"
      },
      "source": [
        "X = data.data\n",
        "y = data.target"
      ],
      "execution_count": 4,
      "outputs": []
    },
    {
      "cell_type": "code",
      "metadata": {
        "colab": {
          "base_uri": "https://localhost:8080/"
        },
        "id": "DpK1xAVPegMM",
        "outputId": "7fa66be2-fb0d-446a-b83e-eb07fe9ec343"
      },
      "source": [
        "print(X.shape)\n",
        "print(y.shape)"
      ],
      "execution_count": 5,
      "outputs": [
        {
          "output_type": "stream",
          "text": [
            "(569, 30)\n",
            "(569,)\n"
          ],
          "name": "stdout"
        }
      ]
    },
    {
      "cell_type": "code",
      "metadata": {
        "id": "aPslFJMBegJr"
      },
      "source": [
        "from sklearn.model_selection import train_test_split"
      ],
      "execution_count": 6,
      "outputs": []
    },
    {
      "cell_type": "code",
      "metadata": {
        "id": "Cc-tPb39fUny"
      },
      "source": [
        "X_train, X_test,y_train, y_test = train_test_split(X,y, random_state=3)"
      ],
      "execution_count": 9,
      "outputs": []
    },
    {
      "cell_type": "code",
      "metadata": {
        "colab": {
          "base_uri": "https://localhost:8080/"
        },
        "id": "VdpSLJWHfVeH",
        "outputId": "e2ee2e4e-42e4-4273-8882-9fc1883f54d9"
      },
      "source": [
        "print(X_train.shape)\n",
        "print(X_test.shape)\n",
        "print(y_train.shape)\n",
        "print(y_test.shape)"
      ],
      "execution_count": 10,
      "outputs": [
        {
          "output_type": "stream",
          "text": [
            "(426, 30)\n",
            "(143, 30)\n",
            "(426,)\n",
            "(143,)\n"
          ],
          "name": "stdout"
        }
      ]
    },
    {
      "cell_type": "markdown",
      "metadata": {
        "id": "nrlA9WP_gCf6"
      },
      "source": [
        "### 신경망을 직접 설계해보자!\n",
        "- 1. 신경망 구조 설계\n",
        "- 2. 학습/평가 방법 설정\n",
        "- 3. 학습 및 시각화\n",
        "- 4. 평가"
      ]
    },
    {
      "cell_type": "code",
      "metadata": {
        "id": "_pPtpzvRfWJH"
      },
      "source": [
        "# 딥러닝을 위한 라이브러리를 임포트\n",
        "from tensorflow.keras import Sequential  # 신경망의 뼈대를 구성\n",
        "from tensorflow.keras.layers import Dense   # 신경망의 층을 구성\n",
        "from tensorflow.keras.layers import InputLayer,Dense"
      ],
      "execution_count": 22,
      "outputs": []
    },
    {
      "cell_type": "code",
      "metadata": {
        "colab": {
          "base_uri": "https://localhost:8080/"
        },
        "id": "PT2livzofWGf",
        "outputId": "b8b912da-66d3-47df-b64c-25dc718ac299"
      },
      "source": [
        "# 신경망의 뼈대를 설정\n",
        "model = Sequential()\n",
        "\n",
        "# 입력층 + 중간층\n",
        "# input_dim : 데이터 특성의 개수\n",
        "# activation: 활성화 함수를 설정 (들어온 자극 (데이터)에 대한 응답여부를 결정하는 함수)\n",
        "model.add(Dense(10,input_dim=30,activation=\"sigmoid\"))\n",
        "\n",
        "# 중간층\n",
        "model.add(Dense(6,activation=\"sigmoid\"))   # 하나의 층\n",
        "model.add(Dense(4, activation=\"sigmoid\"))   # 하나의 층\n",
        "\n",
        "# 출력층\n",
        "# 출력층은 회귀의 활성화 함수(linear 함수, 활성화 함수 생략가능)\n",
        "# 2진 분류 (sigmoid 함수)\n",
        "model.add(Dense(1, activation=\"sigmoid\")) \n",
        "\n",
        "model.summary()"
      ],
      "execution_count": 31,
      "outputs": [
        {
          "output_type": "stream",
          "text": [
            "Model: \"sequential_5\"\n",
            "_________________________________________________________________\n",
            "Layer (type)                 Output Shape              Param #   \n",
            "=================================================================\n",
            "dense_13 (Dense)             (None, 10)                310       \n",
            "_________________________________________________________________\n",
            "dense_14 (Dense)             (None, 6)                 66        \n",
            "_________________________________________________________________\n",
            "dense_15 (Dense)             (None, 4)                 28        \n",
            "_________________________________________________________________\n",
            "dense_16 (Dense)             (None, 1)                 5         \n",
            "=================================================================\n",
            "Total params: 409\n",
            "Trainable params: 409\n",
            "Non-trainable params: 0\n",
            "_________________________________________________________________\n"
          ],
          "name": "stdout"
        }
      ]
    },
    {
      "cell_type": "code",
      "metadata": {
        "id": "NJ4Mj5RffWCB"
      },
      "source": [
        "# 2. 학습/ 평가 방법 설정\n",
        "# binary_crosstentropy : 2진 분류에 사용하는 손실함수 (비용함수)\n",
        "# -> 오차의 평균을 구하는 것은 MSE와 같지만 0~1사이 값으로 변환 후 평균오차를 구하게 되는 방식\n",
        "model.compile (loss =\"binary_crossentropy\",\n",
        "               optimizer = 'adam',            # Adam : 최근에 가장 많이 사용되는 성능이 높은 최적화 함수\n",
        "               metrics = [\"acc\"]               # metrics: 평가 방법을 설정 (분류 문제이기 때문에 정확도(acc)를 확인)\n",
        "               )"
      ],
      "execution_count": 38,
      "outputs": []
    },
    {
      "cell_type": "code",
      "metadata": {
        "colab": {
          "base_uri": "https://localhost:8080/"
        },
        "id": "q2MJT5hdggt8",
        "outputId": "88fbb050-d0a8-4f23-b61a-390d947c38d5"
      },
      "source": [
        "h = model.fit(X_train, y_train, epochs=100)"
      ],
      "execution_count": 39,
      "outputs": [
        {
          "output_type": "stream",
          "text": [
            "Epoch 1/100\n",
            "14/14 [==============================] - 0s 1ms/step - loss: 0.6604 - acc: 0.6268\n",
            "Epoch 2/100\n",
            "14/14 [==============================] - 0s 1ms/step - loss: 0.6601 - acc: 0.6268\n",
            "Epoch 3/100\n",
            "14/14 [==============================] - 0s 1ms/step - loss: 0.6602 - acc: 0.6268\n",
            "Epoch 4/100\n",
            "14/14 [==============================] - 0s 2ms/step - loss: 0.6599 - acc: 0.6268\n",
            "Epoch 5/100\n",
            "14/14 [==============================] - 0s 1ms/step - loss: 0.6601 - acc: 0.6268\n",
            "Epoch 6/100\n",
            "14/14 [==============================] - 0s 1ms/step - loss: 0.6595 - acc: 0.6268\n",
            "Epoch 7/100\n",
            "14/14 [==============================] - 0s 2ms/step - loss: 0.6594 - acc: 0.6268\n",
            "Epoch 8/100\n",
            "14/14 [==============================] - 0s 1ms/step - loss: 0.6591 - acc: 0.6268\n",
            "Epoch 9/100\n",
            "14/14 [==============================] - 0s 1ms/step - loss: 0.6590 - acc: 0.6268\n",
            "Epoch 10/100\n",
            "14/14 [==============================] - 0s 2ms/step - loss: 0.6586 - acc: 0.6268\n",
            "Epoch 11/100\n",
            "14/14 [==============================] - 0s 1ms/step - loss: 0.6583 - acc: 0.6268\n",
            "Epoch 12/100\n",
            "14/14 [==============================] - 0s 1ms/step - loss: 0.6578 - acc: 0.6268\n",
            "Epoch 13/100\n",
            "14/14 [==============================] - 0s 2ms/step - loss: 0.6574 - acc: 0.6268\n",
            "Epoch 14/100\n",
            "14/14 [==============================] - 0s 1ms/step - loss: 0.6569 - acc: 0.6268\n",
            "Epoch 15/100\n",
            "14/14 [==============================] - 0s 1ms/step - loss: 0.6563 - acc: 0.6268\n",
            "Epoch 16/100\n",
            "14/14 [==============================] - 0s 1ms/step - loss: 0.6559 - acc: 0.6268\n",
            "Epoch 17/100\n",
            "14/14 [==============================] - 0s 1ms/step - loss: 0.6551 - acc: 0.6268\n",
            "Epoch 18/100\n",
            "14/14 [==============================] - 0s 1ms/step - loss: 0.6538 - acc: 0.6268\n",
            "Epoch 19/100\n",
            "14/14 [==============================] - 0s 2ms/step - loss: 0.6509 - acc: 0.6268\n",
            "Epoch 20/100\n",
            "14/14 [==============================] - 0s 2ms/step - loss: 0.6493 - acc: 0.6268\n",
            "Epoch 21/100\n",
            "14/14 [==============================] - 0s 2ms/step - loss: 0.6472 - acc: 0.6268\n",
            "Epoch 22/100\n",
            "14/14 [==============================] - 0s 1ms/step - loss: 0.6449 - acc: 0.6268\n",
            "Epoch 23/100\n",
            "14/14 [==============================] - 0s 2ms/step - loss: 0.6427 - acc: 0.6268\n",
            "Epoch 24/100\n",
            "14/14 [==============================] - 0s 2ms/step - loss: 0.6400 - acc: 0.6268\n",
            "Epoch 25/100\n",
            "14/14 [==============================] - 0s 1ms/step - loss: 0.6373 - acc: 0.6268\n",
            "Epoch 26/100\n",
            "14/14 [==============================] - 0s 1ms/step - loss: 0.6339 - acc: 0.6268\n",
            "Epoch 27/100\n",
            "14/14 [==============================] - 0s 2ms/step - loss: 0.6305 - acc: 0.6268\n",
            "Epoch 28/100\n",
            "14/14 [==============================] - 0s 2ms/step - loss: 0.6281 - acc: 0.6268\n",
            "Epoch 29/100\n",
            "14/14 [==============================] - 0s 2ms/step - loss: 0.6249 - acc: 0.6268\n",
            "Epoch 30/100\n",
            "14/14 [==============================] - 0s 2ms/step - loss: 0.6213 - acc: 0.6268\n",
            "Epoch 31/100\n",
            "14/14 [==============================] - 0s 2ms/step - loss: 0.6174 - acc: 0.6268\n",
            "Epoch 32/100\n",
            "14/14 [==============================] - 0s 1ms/step - loss: 0.6160 - acc: 0.6268\n",
            "Epoch 33/100\n",
            "14/14 [==============================] - 0s 1ms/step - loss: 0.6109 - acc: 0.6268\n",
            "Epoch 34/100\n",
            "14/14 [==============================] - 0s 1ms/step - loss: 0.6069 - acc: 0.6268\n",
            "Epoch 35/100\n",
            "14/14 [==============================] - 0s 2ms/step - loss: 0.6024 - acc: 0.6268\n",
            "Epoch 36/100\n",
            "14/14 [==============================] - 0s 2ms/step - loss: 0.5980 - acc: 0.6268\n",
            "Epoch 37/100\n",
            "14/14 [==============================] - 0s 2ms/step - loss: 0.5940 - acc: 0.6268\n",
            "Epoch 38/100\n",
            "14/14 [==============================] - 0s 1ms/step - loss: 0.5887 - acc: 0.6268\n",
            "Epoch 39/100\n",
            "14/14 [==============================] - 0s 1ms/step - loss: 0.5858 - acc: 0.6268\n",
            "Epoch 40/100\n",
            "14/14 [==============================] - 0s 1ms/step - loss: 0.5839 - acc: 0.6268\n",
            "Epoch 41/100\n",
            "14/14 [==============================] - 0s 1ms/step - loss: 0.5776 - acc: 0.6268\n",
            "Epoch 42/100\n",
            "14/14 [==============================] - 0s 1ms/step - loss: 0.5695 - acc: 0.6268\n",
            "Epoch 43/100\n",
            "14/14 [==============================] - 0s 1ms/step - loss: 0.5644 - acc: 0.6268\n",
            "Epoch 44/100\n",
            "14/14 [==============================] - 0s 1ms/step - loss: 0.5585 - acc: 0.6268\n",
            "Epoch 45/100\n",
            "14/14 [==============================] - 0s 1ms/step - loss: 0.5513 - acc: 0.6268\n",
            "Epoch 46/100\n",
            "14/14 [==============================] - 0s 1ms/step - loss: 0.5460 - acc: 0.6268\n",
            "Epoch 47/100\n",
            "14/14 [==============================] - 0s 2ms/step - loss: 0.5408 - acc: 0.6268\n",
            "Epoch 48/100\n",
            "14/14 [==============================] - 0s 1ms/step - loss: 0.5342 - acc: 0.6268\n",
            "Epoch 49/100\n",
            "14/14 [==============================] - 0s 2ms/step - loss: 0.5286 - acc: 0.6268\n",
            "Epoch 50/100\n",
            "14/14 [==============================] - 0s 2ms/step - loss: 0.5212 - acc: 0.6573\n",
            "Epoch 51/100\n",
            "14/14 [==============================] - 0s 2ms/step - loss: 0.5190 - acc: 0.8756\n",
            "Epoch 52/100\n",
            "14/14 [==============================] - 0s 1ms/step - loss: 0.5084 - acc: 0.8944\n",
            "Epoch 53/100\n",
            "14/14 [==============================] - 0s 1ms/step - loss: 0.5044 - acc: 0.8850\n",
            "Epoch 54/100\n",
            "14/14 [==============================] - 0s 1ms/step - loss: 0.5014 - acc: 0.8709\n",
            "Epoch 55/100\n",
            "14/14 [==============================] - 0s 2ms/step - loss: 0.4925 - acc: 0.8897\n",
            "Epoch 56/100\n",
            "14/14 [==============================] - 0s 1ms/step - loss: 0.4856 - acc: 0.8897\n",
            "Epoch 57/100\n",
            "14/14 [==============================] - 0s 1ms/step - loss: 0.4804 - acc: 0.8897\n",
            "Epoch 58/100\n",
            "14/14 [==============================] - 0s 1ms/step - loss: 0.4736 - acc: 0.8897\n",
            "Epoch 59/100\n",
            "14/14 [==============================] - 0s 1ms/step - loss: 0.4708 - acc: 0.8873\n",
            "Epoch 60/100\n",
            "14/14 [==============================] - 0s 1ms/step - loss: 0.4602 - acc: 0.8850\n",
            "Epoch 61/100\n",
            "14/14 [==============================] - 0s 1ms/step - loss: 0.4659 - acc: 0.8662\n",
            "Epoch 62/100\n",
            "14/14 [==============================] - 0s 2ms/step - loss: 0.4545 - acc: 0.8756\n",
            "Epoch 63/100\n",
            "14/14 [==============================] - 0s 1ms/step - loss: 0.4437 - acc: 0.8897\n",
            "Epoch 64/100\n",
            "14/14 [==============================] - 0s 1ms/step - loss: 0.4399 - acc: 0.8920\n",
            "Epoch 65/100\n",
            "14/14 [==============================] - 0s 1ms/step - loss: 0.4348 - acc: 0.8920\n",
            "Epoch 66/100\n",
            "14/14 [==============================] - 0s 1ms/step - loss: 0.4341 - acc: 0.8803\n",
            "Epoch 67/100\n",
            "14/14 [==============================] - 0s 1ms/step - loss: 0.4289 - acc: 0.8803\n",
            "Epoch 68/100\n",
            "14/14 [==============================] - 0s 2ms/step - loss: 0.4391 - acc: 0.8779\n",
            "Epoch 69/100\n",
            "14/14 [==============================] - 0s 2ms/step - loss: 0.4353 - acc: 0.8850\n",
            "Epoch 70/100\n",
            "14/14 [==============================] - 0s 1ms/step - loss: 0.4137 - acc: 0.8897\n",
            "Epoch 71/100\n",
            "14/14 [==============================] - 0s 1ms/step - loss: 0.4088 - acc: 0.8967\n",
            "Epoch 72/100\n",
            "14/14 [==============================] - 0s 1ms/step - loss: 0.4043 - acc: 0.9014\n",
            "Epoch 73/100\n",
            "14/14 [==============================] - 0s 1ms/step - loss: 0.4023 - acc: 0.8944\n",
            "Epoch 74/100\n",
            "14/14 [==============================] - 0s 1ms/step - loss: 0.3946 - acc: 0.9014\n",
            "Epoch 75/100\n",
            "14/14 [==============================] - 0s 1ms/step - loss: 0.3928 - acc: 0.8967\n",
            "Epoch 76/100\n",
            "14/14 [==============================] - 0s 1ms/step - loss: 0.3816 - acc: 0.8991\n",
            "Epoch 77/100\n",
            "14/14 [==============================] - 0s 1ms/step - loss: 0.3736 - acc: 0.9014\n",
            "Epoch 78/100\n",
            "14/14 [==============================] - 0s 1ms/step - loss: 0.3786 - acc: 0.8920\n",
            "Epoch 79/100\n",
            "14/14 [==============================] - 0s 1ms/step - loss: 0.3732 - acc: 0.8991\n",
            "Epoch 80/100\n",
            "14/14 [==============================] - 0s 1ms/step - loss: 0.3677 - acc: 0.9061\n",
            "Epoch 81/100\n",
            "14/14 [==============================] - 0s 1ms/step - loss: 0.3614 - acc: 0.8897\n",
            "Epoch 82/100\n",
            "14/14 [==============================] - 0s 1ms/step - loss: 0.3599 - acc: 0.8873\n",
            "Epoch 83/100\n",
            "14/14 [==============================] - 0s 1ms/step - loss: 0.3532 - acc: 0.8897\n",
            "Epoch 84/100\n",
            "14/14 [==============================] - 0s 2ms/step - loss: 0.3523 - acc: 0.8920\n",
            "Epoch 85/100\n",
            "14/14 [==============================] - 0s 2ms/step - loss: 0.3444 - acc: 0.8944\n",
            "Epoch 86/100\n",
            "14/14 [==============================] - 0s 2ms/step - loss: 0.3535 - acc: 0.8873\n",
            "Epoch 87/100\n",
            "14/14 [==============================] - 0s 1ms/step - loss: 0.3480 - acc: 0.8944\n",
            "Epoch 88/100\n",
            "14/14 [==============================] - 0s 1ms/step - loss: 0.3391 - acc: 0.8967\n",
            "Epoch 89/100\n",
            "14/14 [==============================] - 0s 1ms/step - loss: 0.3426 - acc: 0.8920\n",
            "Epoch 90/100\n",
            "14/14 [==============================] - 0s 2ms/step - loss: 0.3311 - acc: 0.8967\n",
            "Epoch 91/100\n",
            "14/14 [==============================] - 0s 2ms/step - loss: 0.3329 - acc: 0.8991\n",
            "Epoch 92/100\n",
            "14/14 [==============================] - 0s 1ms/step - loss: 0.3271 - acc: 0.8873\n",
            "Epoch 93/100\n",
            "14/14 [==============================] - 0s 2ms/step - loss: 0.3341 - acc: 0.8685\n",
            "Epoch 94/100\n",
            "14/14 [==============================] - 0s 2ms/step - loss: 0.3237 - acc: 0.8944\n",
            "Epoch 95/100\n",
            "14/14 [==============================] - 0s 2ms/step - loss: 0.3221 - acc: 0.8944\n",
            "Epoch 96/100\n",
            "14/14 [==============================] - 0s 1ms/step - loss: 0.3136 - acc: 0.8944\n",
            "Epoch 97/100\n",
            "14/14 [==============================] - 0s 2ms/step - loss: 0.3298 - acc: 0.8944\n",
            "Epoch 98/100\n",
            "14/14 [==============================] - 0s 1ms/step - loss: 0.3404 - acc: 0.9038\n",
            "Epoch 99/100\n",
            "14/14 [==============================] - 0s 1ms/step - loss: 0.3404 - acc: 0.8991\n",
            "Epoch 100/100\n",
            "14/14 [==============================] - 0s 2ms/step - loss: 0.3355 - acc: 0.8991\n"
          ],
          "name": "stdout"
        }
      ]
    },
    {
      "cell_type": "code",
      "metadata": {
        "colab": {
          "base_uri": "https://localhost:8080/",
          "height": 320
        },
        "id": "griqb6PfgiG-",
        "outputId": "e1289e1c-9d13-451c-9c15-0f8ac243c999"
      },
      "source": [
        "# 시각화\n",
        "plt.figure(figsize=(15,5))\n",
        "\n",
        "plt.plot(range(1,101),\n",
        "         h.history['acc'],\n",
        "         label ='acc'\n",
        "         )\n",
        "\n",
        "plt.legend()\n",
        "plt.show()"
      ],
      "execution_count": 40,
      "outputs": [
        {
          "output_type": "display_data",
          "data": {
            "image/png": "[encoded data removed]",
            "text/plain": [
              "<Figure size 1080x360 with 1 Axes>"
            ]
          },
          "metadata": {
            "tags": [],
            "needs_background": "light"
          }
        }
      ]
    },
    {
      "cell_type": "code",
      "metadata": {
        "colab": {
          "base_uri": "https://localhost:8080/"
        },
        "id": "c07fiybdgiEh",
        "outputId": "609f29f4-c37b-46b9-83d2-cd0c96feac43"
      },
      "source": [
        "# 모델 평가\n",
        "model.evaluate(X_test,y_test)"
      ],
      "execution_count": 41,
      "outputs": [
        {
          "output_type": "stream",
          "text": [
            "5/5 [==============================] - 0s 2ms/step - loss: 0.3086 - acc: 0.9231\n"
          ],
          "name": "stdout"
        },
        {
          "output_type": "execute_result",
          "data": {
            "text/plain": [
              "[0.30863437056541443, 0.9230769276618958]"
            ]
          },
          "metadata": {
            "tags": []
          },
          "execution_count": 41
        }
      ]
    },
    {
      "cell_type": "code",
      "metadata": {
        "id": "7WdaTiO_giBv"
      },
      "source": [
        ""
      ],
      "execution_count": null,
      "outputs": []
    },
    {
      "cell_type": "code",
      "metadata": {
        "id": "yk8DhCNtgh-h"
      },
      "source": [
        ""
      ],
      "execution_count": null,
      "outputs": []
    },
    {
      "cell_type": "code",
      "metadata": {
        "id": "N-2Q0wKsghrB"
      },
      "source": [
        ""
      ],
      "execution_count": null,
      "outputs": []
    }
  ]
}