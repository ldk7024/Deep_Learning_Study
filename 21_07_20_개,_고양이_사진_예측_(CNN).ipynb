{
  "nbformat": 4,
  "nbformat_minor": 0,
  "metadata": {
    "accelerator": "GPU",
    "colab": {
      "name": "21.07.20_개, 고양이 사진 예측 (CNN)",
      "provenance": [],
      "collapsed_sections": [],
      "machine_shape": "hm",
      "mount_file_id": "1KZwKu_IbZfaJV5AbfifbcJxaiu1QN8J1",
      "authorship_tag": "ABX9TyNjmK2rV28s0KvahNCjhW5P",
      "include_colab_link": true
    },
    "kernelspec": {
      "display_name": "Python 3",
      "name": "python3"
    },
    "language_info": {
      "name": "python"
    }
  },
  "cells": [
    {
      "cell_type": "markdown",
      "metadata": {
        "id": "view-in-github",
        "colab_type": "text"
      },
      "source": [
        "<a href=\"https://colab.research.google.com/github/ldk7024/Deep_Learning_Study/blob/main/21_07_20_%EA%B0%9C%2C_%EA%B3%A0%EC%96%91%EC%9D%B4_%EC%82%AC%EC%A7%84_%EC%98%88%EC%B8%A1_(CNN).ipynb\" target=\"_parent\"><img src=\"https://colab.research.google.com/assets/colab-badge.svg\" alt=\"Open In Colab\"/></a>"
      ]
    },
    {
      "cell_type": "markdown",
      "metadata": {
        "id": "AMDPZVKTkZmK"
      },
      "source": [
        "- NPZ 파일 로딩"
      ]
    },
    {
      "cell_type": "code",
      "metadata": {
        "id": "_Xb8OuBHNwlM"
      },
      "source": [
        "import numpy as np\n",
        "import pandas as pd\n",
        "import matplotlib.pyplot as plt"
      ],
      "execution_count": 32,
      "outputs": []
    },
    {
      "cell_type": "code",
      "metadata": {
        "colab": {
          "base_uri": "https://localhost:8080/"
        },
        "id": "fE5GTTfYkONZ",
        "outputId": "8f872d37-71b1-4f2f-fe00-a03996cc2bdb"
      },
      "source": [
        "data = np.load('/content/drive/MyDrive/Colab Notebooks/빅데이터4차(딥러닝)/data/cats_and_dogs.npz')\n",
        "data"
      ],
      "execution_count": 33,
      "outputs": [
        {
          "output_type": "execute_result",
          "data": {
            "text/plain": [
              "<numpy.lib.npyio.NpzFile at 0x7fa98e570e90>"
            ]
          },
          "metadata": {
            "tags": []
          },
          "execution_count": 33
        }
      ]
    },
    {
      "cell_type": "code",
      "metadata": {
        "colab": {
          "base_uri": "https://localhost:8080/"
        },
        "id": "68X_PRtTkObL",
        "outputId": "32ed6af0-c160-4180-ab57-9aaac61f1fea"
      },
      "source": [
        "len(data)\n",
        "# X_train, X_test, y_train, y_test 총 4가지로 구성되어 있음"
      ],
      "execution_count": 34,
      "outputs": [
        {
          "output_type": "execute_result",
          "data": {
            "text/plain": [
              "4"
            ]
          },
          "metadata": {
            "tags": []
          },
          "execution_count": 34
        }
      ]
    },
    {
      "cell_type": "code",
      "metadata": {
        "id": "GzfOyCnqk4cw"
      },
      "source": [
        "X_train = data['X_train']\n",
        "X_test = data['X_test']\n",
        "y_train = data['y_train']\n",
        "y_test = data['y_test']"
      ],
      "execution_count": 35,
      "outputs": []
    },
    {
      "cell_type": "code",
      "metadata": {
        "colab": {
          "base_uri": "https://localhost:8080/"
        },
        "id": "LL4s6J_6k4ah",
        "outputId": "872a86bc-5fa5-488b-c3e8-0e31e664efc6"
      },
      "source": [
        "print(X_train.shape)\n",
        "print(X_test.shape)\n",
        "print(y_train.shape)\n",
        "print(y_test.shape)"
      ],
      "execution_count": 36,
      "outputs": [
        {
          "output_type": "stream",
          "text": [
            "(2000, 224, 224, 3)\n",
            "(1000, 224, 224, 3)\n",
            "(2000,)\n",
            "(1000,)\n"
          ],
          "name": "stdout"
        }
      ]
    },
    {
      "cell_type": "markdown",
      "metadata": {
        "id": "ILcPm9mSk4Xs"
      },
      "source": [
        "### CNN 신경망 모델링"
      ]
    },
    {
      "cell_type": "code",
      "metadata": {
        "id": "m-zconrik4VQ"
      },
      "source": [
        "from tensorflow.keras import Sequential\n",
        "from tensorflow.keras.layers import Dense, Flatten, Conv2D, MaxPooling2D, Dropout\n",
        "from tensorflow.keras.optimizers import Adam\n",
        "from tensorflow.keras.callbacks import ModelCheckpoint, EarlyStopping"
      ],
      "execution_count": 44,
      "outputs": []
    },
    {
      "cell_type": "code",
      "metadata": {
        "id": "ECgl89Vtk4St",
        "colab": {
          "base_uri": "https://localhost:8080/"
        },
        "outputId": "38ef831f-385f-4ae3-8db7-54500933e4ea"
      },
      "source": [
        "# 신경망 구조 설계\n",
        "cat_dog_model = Sequential()\n",
        "\n",
        "# 1. 특성추출부(Conv - 특징이 되는 부분의 정보를 부각시킴)\n",
        "# Conv2D : 2D 이미지 데이터에 대해 사용\n",
        "# MaxPooling2D : 2D 이미지 데이터에 대해 필요없는 부분을 삭제\n",
        "cat_dog_model.add(Conv2D(input_shape=(224,224,3),\n",
        "                         # 필터의 개수 -> 추출하는 특징의 개수를 설정\n",
        "                         filters=64,\n",
        "                         # 필터(커널)의 크기를 설정\n",
        "                         kernel_size = (5,5),\n",
        "                         # same : 원본 데이터의 크기에 맞게 알아서 패딩을 적용(valid : 패딩 적용 X)\n",
        "                         padding = 'same',\n",
        "                         # 필터로 합성곱 연산시 건너뛰는 크기를 지정(행,열), 일반적으로 필터 사이즈보다 작게 설정\n",
        "                         strides = (3,3),\n",
        "                         activation = 'relu'                         \n",
        "                         ))\n",
        "\n",
        "cat_dog_model.add(Conv2D(filters=64,\n",
        "                         kernel_size = (3,3),\n",
        "                         padding = 'same',\n",
        "                         activation = 'relu'\n",
        "                         ))\n",
        "\n",
        "cat_dog_model.add(Dropout(0.25))\n",
        "\n",
        "# 2. 특성추출부(Pooling - 불필요한 부분을 삭제)\n",
        "# Pool_size : 풀링층 필터의 크기\n",
        "cat_dog_model.add(MaxPool2D(pool_size=2,\n",
        "                               strides = (2,2)\n",
        "                               ))\n",
        "\n",
        "# MLP 층에 넣어주기\n",
        "cat_dog_model.add(Flatten()) # input_shape 사용하지 않아도 됨, 자동으로 전체 길이만큼 펴줌\n",
        "cat_dog_model.add(Dense(300, activation='relu'))\n",
        "cat_dog_model.add(Dense(150, activation='relu'))\n",
        "cat_dog_model.add(Dense(50, activation='relu'))\n",
        "cat_dog_model.add(Dense(1, activation='sigmoid'))\n",
        "\n",
        "cat_dog_model.summary()\n",
        "\n",
        " # CNN층에서의 파라미터수는 필터크기 * 필터수 * 채널수 + 필터수"
      ],
      "execution_count": 45,
      "outputs": [
        {
          "output_type": "stream",
          "text": [
            "Model: \"sequential_4\"\n",
            "_________________________________________________________________\n",
            "Layer (type)                 Output Shape              Param #   \n",
            "=================================================================\n",
            "conv2d_11 (Conv2D)           (None, 75, 75, 64)        4864      \n",
            "_________________________________________________________________\n",
            "conv2d_12 (Conv2D)           (None, 75, 75, 64)        36928     \n",
            "_________________________________________________________________\n",
            "dropout_4 (Dropout)          (None, 75, 75, 64)        0         \n",
            "_________________________________________________________________\n",
            "max_pooling2d_2 (MaxPooling2 (None, 37, 37, 64)        0         \n",
            "_________________________________________________________________\n",
            "flatten_3 (Flatten)          (None, 87616)             0         \n",
            "_________________________________________________________________\n",
            "dense_12 (Dense)             (None, 300)               26285100  \n",
            "_________________________________________________________________\n",
            "dense_13 (Dense)             (None, 150)               45150     \n",
            "_________________________________________________________________\n",
            "dense_14 (Dense)             (None, 50)                7550      \n",
            "_________________________________________________________________\n",
            "dense_15 (Dense)             (None, 1)                 51        \n",
            "=================================================================\n",
            "Total params: 26,379,643\n",
            "Trainable params: 26,379,643\n",
            "Non-trainable params: 0\n",
            "_________________________________________________________________\n"
          ],
          "name": "stdout"
        }
      ]
    },
    {
      "cell_type": "code",
      "metadata": {
        "id": "eUVWNuRPk4P_",
        "colab": {
          "base_uri": "https://localhost:8080/"
        },
        "outputId": "eab83a3a-ce12-4f7b-aa27-f5036acc14d7"
      },
      "source": [
        "# 학습/평가 방법 설정\n",
        "cat_dog_model.compile(loss = 'binary_crossentropy',\n",
        "                      optimizer=Adam(lr=0.00005),\n",
        "                      metrics = ['acc']\n",
        "                      )"
      ],
      "execution_count": 46,
      "outputs": [
        {
          "output_type": "stream",
          "text": [
            "/usr/local/lib/python3.7/dist-packages/tensorflow/python/keras/optimizer_v2/optimizer_v2.py:375: UserWarning: The `lr` argument is deprecated, use `learning_rate` instead.\n",
            "  \"The `lr` argument is deprecated, use `learning_rate` instead.\")\n"
          ],
          "name": "stderr"
        }
      ]
    },
    {
      "cell_type": "code",
      "metadata": {
        "id": "0SLIZfy42awY"
      },
      "source": [
        "save_path = '/content/drive/MyDrive/Colab Notebooks/빅데이터4차(딥러닝)/model/Cats_Dogs_Model_{epoch:03d}_{val_acc:4f}.hdf5'\n",
        "\n",
        "f_mckp = ModelCheckpoint(filepath = save_path,\n",
        "                         monitor = '',\n",
        "                         save_best_only = True,\n",
        "                         mode = 'max',\n",
        "                         verbose = 1\n",
        "                         )\n",
        "\n",
        "f_early = EarlyStopping(monitor='val_acc',\n",
        "                        patience = 5\n",
        "                                       )"
      ],
      "execution_count": 47,
      "outputs": []
    },
    {
      "cell_type": "code",
      "metadata": {
        "colab": {
          "base_uri": "https://localhost:8080/"
        },
        "id": "p2EyTS_G2auO",
        "outputId": "15f1f4eb-39f6-4c77-bf7c-f1673698b2fe"
      },
      "source": [
        "h1 = cat_dog_model.fit(X_train, y_train,\n",
        "                      validation_split = 0.2,\n",
        "                      epochs = 50,\n",
        "                      batch_size = 128,\n",
        "                      callbacks = [f_mckp, f_early]\n",
        "                                   )"
      ],
      "execution_count": 48,
      "outputs": [
        {
          "output_type": "stream",
          "text": [
            "Epoch 1/50\n",
            "13/13 [==============================] - 1s 66ms/step - loss: 0.6700 - acc: 0.5994 - val_loss: 0.9230 - val_acc: 0.0000e+00\n",
            "WARNING:tensorflow:Can save best model only with  available, skipping.\n",
            "Epoch 2/50\n",
            "13/13 [==============================] - 1s 60ms/step - loss: 0.6539 - acc: 0.6250 - val_loss: 0.8575 - val_acc: 0.0025\n",
            "WARNING:tensorflow:Can save best model only with  available, skipping.\n",
            "Epoch 3/50\n",
            "13/13 [==============================] - 1s 56ms/step - loss: 0.6376 - acc: 0.6388 - val_loss: 0.9962 - val_acc: 0.0175\n",
            "WARNING:tensorflow:Can save best model only with  available, skipping.\n",
            "Epoch 4/50\n",
            "13/13 [==============================] - 1s 56ms/step - loss: 0.6289 - acc: 0.6544 - val_loss: 0.7191 - val_acc: 0.4600\n",
            "WARNING:tensorflow:Can save best model only with  available, skipping.\n",
            "Epoch 5/50\n",
            "13/13 [==============================] - 1s 55ms/step - loss: 0.6066 - acc: 0.6900 - val_loss: 0.8903 - val_acc: 0.1900\n",
            "WARNING:tensorflow:Can save best model only with  available, skipping.\n",
            "Epoch 6/50\n",
            "13/13 [==============================] - 1s 55ms/step - loss: 0.5909 - acc: 0.6994 - val_loss: 0.6991 - val_acc: 0.5375\n",
            "WARNING:tensorflow:Can save best model only with  available, skipping.\n",
            "Epoch 7/50\n",
            "13/13 [==============================] - 1s 56ms/step - loss: 0.5665 - acc: 0.7169 - val_loss: 0.6654 - val_acc: 0.6050\n",
            "WARNING:tensorflow:Can save best model only with  available, skipping.\n",
            "Epoch 8/50\n",
            "13/13 [==============================] - 1s 56ms/step - loss: 0.5487 - acc: 0.7419 - val_loss: 0.7901 - val_acc: 0.4075\n",
            "WARNING:tensorflow:Can save best model only with  available, skipping.\n",
            "Epoch 9/50\n",
            "13/13 [==============================] - 1s 54ms/step - loss: 0.5185 - acc: 0.7531 - val_loss: 0.8550 - val_acc: 0.3575\n",
            "WARNING:tensorflow:Can save best model only with  available, skipping.\n",
            "Epoch 10/50\n",
            "13/13 [==============================] - 1s 57ms/step - loss: 0.5347 - acc: 0.7262 - val_loss: 0.8845 - val_acc: 0.3425\n",
            "WARNING:tensorflow:Can save best model only with  available, skipping.\n",
            "Epoch 11/50\n",
            "13/13 [==============================] - 1s 56ms/step - loss: 0.4982 - acc: 0.7688 - val_loss: 0.6927 - val_acc: 0.5725\n",
            "WARNING:tensorflow:Can save best model only with  available, skipping.\n",
            "Epoch 12/50\n",
            "13/13 [==============================] - 1s 56ms/step - loss: 0.4640 - acc: 0.8075 - val_loss: 0.6890 - val_acc: 0.5775\n",
            "WARNING:tensorflow:Can save best model only with  available, skipping.\n"
          ],
          "name": "stdout"
        }
      ]
    },
    {
      "cell_type": "code",
      "metadata": {
        "colab": {
          "base_uri": "https://localhost:8080/",
          "height": 320
        },
        "id": "KSJPpK9i2arp",
        "outputId": "7af841de-c8d0-45d0-ad35-f78c93b7ece5"
      },
      "source": [
        "plt.figure(figsize=(15,5))\n",
        "\n",
        "plt.plot(h1.history['acc'],\n",
        "         label = 'acc'\n",
        "         )\n",
        "\n",
        "plt.plot(h1.history['val_acc'],\n",
        "         label = 'val_acc'\n",
        "         )\n",
        "\n",
        "plt.legend()\n",
        "plt.show()"
      ],
      "execution_count": 50,
      "outputs": [
        {
          "output_type": "display_data",
          "data": {
            "image/png": "[encoded data removed]",
            "text/plain": [
              "<Figure size 1080x360 with 1 Axes>"
            ]
          },
          "metadata": {
            "tags": [],
            "needs_background": "light"
          }
        }
      ]
    },
    {
      "cell_type": "markdown",
      "metadata": {
        "id": "ZMtcSafb2ao5"
      },
      "source": [
        "- 개, 고양이 사진의 다양함과 데이터의 규모에 비해서 conv층과 Pooling층이 너무 간단해서 제대로 된 결과가 나오지 않음"
      ]
    },
    {
      "cell_type": "markdown",
      "metadata": {
        "id": "L9iZIUy_GQvJ"
      },
      "source": [
        "### VGG16 모델을 개, 고양이 이미지 데이터 분류에 활용해보자!"
      ]
    },
    {
      "cell_type": "code",
      "metadata": {
        "id": "P2uj_rhfGXxt"
      },
      "source": [
        "from tensorflow.keras.applications import VGG16"
      ],
      "execution_count": 61,
      "outputs": []
    },
    {
      "cell_type": "code",
      "metadata": {
        "id": "e-rlPFXNGqIO"
      },
      "source": [
        "vgg16 = VGG16(include_top=False,\n",
        "              weights = 'imagenet',\n",
        "              input_shape = (224,224,3)\n",
        "              )\n",
        "\n",
        "# include_top = False : 불러온 모델의 MLP층을 사용하지 않음 (특성추출방식)\n",
        "# -> 기존 이미지넷 대회에서는 1000가지 이미지를 분류했으나 우리는 개, 고양이로만 분류할 것이기 때문에 MLP층을 다르게 설정해줘야 함\n",
        "# weights = 'imagenet' : 이미지넷에서 학습된 가중치(w)를 그대로 가져옴"
      ],
      "execution_count": 62,
      "outputs": []
    },
    {
      "cell_type": "code",
      "metadata": {
        "colab": {
          "base_uri": "https://localhost:8080/"
        },
        "id": "PGs2Tl2yPztC",
        "outputId": "f62295cc-309d-4810-b997-ae71fa3d837f"
      },
      "source": [
        "vgg16.summary()"
      ],
      "execution_count": 63,
      "outputs": [
        {
          "output_type": "stream",
          "text": [
            "Model: \"vgg16\"\n",
            "_________________________________________________________________\n",
            "Layer (type)                 Output Shape              Param #   \n",
            "=================================================================\n",
            "input_2 (InputLayer)         [(None, 224, 224, 3)]     0         \n",
            "_________________________________________________________________\n",
            "block1_conv1 (Conv2D)        (None, 224, 224, 64)      1792      \n",
            "_________________________________________________________________\n",
            "block1_conv2 (Conv2D)        (None, 224, 224, 64)      36928     \n",
            "_________________________________________________________________\n",
            "block1_pool (MaxPooling2D)   (None, 112, 112, 64)      0         \n",
            "_________________________________________________________________\n",
            "block2_conv1 (Conv2D)        (None, 112, 112, 128)     73856     \n",
            "_________________________________________________________________\n",
            "block2_conv2 (Conv2D)        (None, 112, 112, 128)     147584    \n",
            "_________________________________________________________________\n",
            "block2_pool (MaxPooling2D)   (None, 56, 56, 128)       0         \n",
            "_________________________________________________________________\n",
            "block3_conv1 (Conv2D)        (None, 56, 56, 256)       295168    \n",
            "_________________________________________________________________\n",
            "block3_conv2 (Conv2D)        (None, 56, 56, 256)       590080    \n",
            "_________________________________________________________________\n",
            "block3_conv3 (Conv2D)        (None, 56, 56, 256)       590080    \n",
            "_________________________________________________________________\n",
            "block3_pool (MaxPooling2D)   (None, 28, 28, 256)       0         \n",
            "_________________________________________________________________\n",
            "block4_conv1 (Conv2D)        (None, 28, 28, 512)       1180160   \n",
            "_________________________________________________________________\n",
            "block4_conv2 (Conv2D)        (None, 28, 28, 512)       2359808   \n",
            "_________________________________________________________________\n",
            "block4_conv3 (Conv2D)        (None, 28, 28, 512)       2359808   \n",
            "_________________________________________________________________\n",
            "block4_pool (MaxPooling2D)   (None, 14, 14, 512)       0         \n",
            "_________________________________________________________________\n",
            "block5_conv1 (Conv2D)        (None, 14, 14, 512)       2359808   \n",
            "_________________________________________________________________\n",
            "block5_conv2 (Conv2D)        (None, 14, 14, 512)       2359808   \n",
            "_________________________________________________________________\n",
            "block5_conv3 (Conv2D)        (None, 14, 14, 512)       2359808   \n",
            "_________________________________________________________________\n",
            "block5_pool (MaxPooling2D)   (None, 7, 7, 512)         0         \n",
            "=================================================================\n",
            "Total params: 14,714,688\n",
            "Trainable params: 14,714,688\n",
            "Non-trainable params: 0\n",
            "_________________________________________________________________\n"
          ],
          "name": "stdout"
        }
      ]
    },
    {
      "cell_type": "code",
      "metadata": {
        "colab": {
          "base_uri": "https://localhost:8080/"
        },
        "id": "Mjate9DZHk-V",
        "outputId": "9523d851-f117-4e7e-9ee1-eb6d2ea5141a"
      },
      "source": [
        "# 신경망 설계\n",
        "transfer_model = Sequential()\n",
        "\n",
        "transfer_model.add(vgg16)\n",
        "\n",
        "# 미세조정방식 적용\n",
        "# VGG16 모델에서 마지막 conv층을 학습이 가능하도록 설정해보자!\n",
        "# 마지막 층을 제외한 나머지는 모두 동결시켜서 기존 학습된 w,b값을 보존하자!\n",
        "# --------------------------------------------\n",
        "for layer in vgg16.layers:\n",
        "  # block5_conv3 층만 학습이 가능하도록 설정\n",
        "  if layer .name == 'block5_conv3':\n",
        "    layer.trainable = True\n",
        "  # 나머지 층들은 학습이 불가능하도록 동결\n",
        "  else:\n",
        "    layer.trainable = False\n",
        "# --------------------------------------------\n",
        "\n",
        "transfer_model.add(Flatten())\n",
        "transfer_model.add(Dense(300, activation='relu'))\n",
        "transfer_model.add(Dense(150, activation='relu'))\n",
        "transfer_model.add(Dense(50, activation='relu'))\n",
        "transfer_model.add(Dense(1, activation='sigmoid'))\n",
        "\n",
        "transfer_model.summary()"
      ],
      "execution_count": 64,
      "outputs": [
        {
          "output_type": "stream",
          "text": [
            "Model: \"sequential_7\"\n",
            "_________________________________________________________________\n",
            "Layer (type)                 Output Shape              Param #   \n",
            "=================================================================\n",
            "vgg16 (Functional)           (None, 7, 7, 512)         14714688  \n",
            "_________________________________________________________________\n",
            "flatten_6 (Flatten)          (None, 25088)             0         \n",
            "_________________________________________________________________\n",
            "dense_24 (Dense)             (None, 300)               7526700   \n",
            "_________________________________________________________________\n",
            "dense_25 (Dense)             (None, 150)               45150     \n",
            "_________________________________________________________________\n",
            "dense_26 (Dense)             (None, 50)                7550      \n",
            "_________________________________________________________________\n",
            "dense_27 (Dense)             (None, 1)                 51        \n",
            "=================================================================\n",
            "Total params: 22,294,139\n",
            "Trainable params: 9,939,259\n",
            "Non-trainable params: 12,354,880\n",
            "_________________________________________________________________\n"
          ],
          "name": "stdout"
        }
      ]
    },
    {
      "cell_type": "code",
      "metadata": {
        "colab": {
          "base_uri": "https://localhost:8080/"
        },
        "id": "i5Mo-NUKHk6W",
        "outputId": "f6018569-637b-49c6-f140-c21ca963e422"
      },
      "source": [
        "# 학습/평가 방법 설정\n",
        "transfer_model.compile(loss = 'binary_crossentropy',\n",
        "                      optimizer=Adam(lr=0.0005),\n",
        "                      metrics = ['acc']\n",
        "                      )"
      ],
      "execution_count": 65,
      "outputs": [
        {
          "output_type": "stream",
          "text": [
            "/usr/local/lib/python3.7/dist-packages/tensorflow/python/keras/optimizer_v2/optimizer_v2.py:375: UserWarning: The `lr` argument is deprecated, use `learning_rate` instead.\n",
            "  \"The `lr` argument is deprecated, use `learning_rate` instead.\")\n"
          ],
          "name": "stderr"
        }
      ]
    },
    {
      "cell_type": "code",
      "metadata": {
        "colab": {
          "base_uri": "https://localhost:8080/"
        },
        "id": "GdhAulB3Hk3f",
        "outputId": "2aa4284c-c6ad-4067-b67e-2507ccc74153"
      },
      "source": [
        "h2 = transfer_model.fit(X_train, y_train,\n",
        "                      validation_split = 0.2,\n",
        "                      epochs = 30,\n",
        "                      batch_size = 128\n",
        "                                   )"
      ],
      "execution_count": 66,
      "outputs": [
        {
          "output_type": "stream",
          "text": [
            "Epoch 1/30\n",
            "13/13 [==============================] - 4s 205ms/step - loss: 0.5666 - acc: 0.7088 - val_loss: 0.1667 - val_acc: 0.9400\n",
            "Epoch 2/30\n",
            "13/13 [==============================] - 2s 190ms/step - loss: 0.1673 - acc: 0.9362 - val_loss: 0.1864 - val_acc: 0.9250\n",
            "Epoch 3/30\n",
            "13/13 [==============================] - 2s 191ms/step - loss: 0.0717 - acc: 0.9769 - val_loss: 0.4087 - val_acc: 0.8525\n",
            "Epoch 4/30\n",
            "13/13 [==============================] - 2s 191ms/step - loss: 0.0271 - acc: 0.9931 - val_loss: 0.3455 - val_acc: 0.8775\n",
            "Epoch 5/30\n",
            "13/13 [==============================] - 2s 190ms/step - loss: 0.0066 - acc: 0.9987 - val_loss: 0.1609 - val_acc: 0.9400\n",
            "Epoch 6/30\n",
            "13/13 [==============================] - 2s 191ms/step - loss: 0.0019 - acc: 1.0000 - val_loss: 0.2090 - val_acc: 0.9350\n",
            "Epoch 7/30\n",
            "13/13 [==============================] - 2s 192ms/step - loss: 5.3513e-04 - acc: 1.0000 - val_loss: 0.3020 - val_acc: 0.9150\n",
            "Epoch 8/30\n",
            "13/13 [==============================] - 2s 191ms/step - loss: 2.9708e-04 - acc: 1.0000 - val_loss: 0.3591 - val_acc: 0.9050\n",
            "Epoch 9/30\n",
            "13/13 [==============================] - 2s 190ms/step - loss: 1.6641e-04 - acc: 1.0000 - val_loss: 0.2983 - val_acc: 0.9225\n",
            "Epoch 10/30\n",
            "13/13 [==============================] - 2s 191ms/step - loss: 1.1672e-04 - acc: 1.0000 - val_loss: 0.3254 - val_acc: 0.9225\n",
            "Epoch 11/30\n",
            "13/13 [==============================] - 2s 193ms/step - loss: 8.8978e-05 - acc: 1.0000 - val_loss: 0.3474 - val_acc: 0.9175\n",
            "Epoch 12/30\n",
            "13/13 [==============================] - 2s 193ms/step - loss: 7.3575e-05 - acc: 1.0000 - val_loss: 0.3285 - val_acc: 0.9225\n",
            "Epoch 13/30\n",
            "13/13 [==============================] - 2s 192ms/step - loss: 6.3092e-05 - acc: 1.0000 - val_loss: 0.3427 - val_acc: 0.9225\n",
            "Epoch 14/30\n",
            "13/13 [==============================] - 2s 190ms/step - loss: 5.4401e-05 - acc: 1.0000 - val_loss: 0.3523 - val_acc: 0.9200\n",
            "Epoch 15/30\n",
            "13/13 [==============================] - 2s 191ms/step - loss: 4.7761e-05 - acc: 1.0000 - val_loss: 0.3468 - val_acc: 0.9225\n",
            "Epoch 16/30\n",
            "13/13 [==============================] - 2s 193ms/step - loss: 4.2539e-05 - acc: 1.0000 - val_loss: 0.3632 - val_acc: 0.9200\n",
            "Epoch 17/30\n",
            "13/13 [==============================] - 2s 192ms/step - loss: 3.7863e-05 - acc: 1.0000 - val_loss: 0.3583 - val_acc: 0.9225\n",
            "Epoch 18/30\n",
            "13/13 [==============================] - 2s 192ms/step - loss: 3.3586e-05 - acc: 1.0000 - val_loss: 0.3656 - val_acc: 0.9200\n",
            "Epoch 19/30\n",
            "13/13 [==============================] - 2s 192ms/step - loss: 3.0515e-05 - acc: 1.0000 - val_loss: 0.3643 - val_acc: 0.9225\n",
            "Epoch 20/30\n",
            "13/13 [==============================] - 2s 192ms/step - loss: 2.7442e-05 - acc: 1.0000 - val_loss: 0.3699 - val_acc: 0.9200\n",
            "Epoch 21/30\n",
            "13/13 [==============================] - 2s 192ms/step - loss: 2.4993e-05 - acc: 1.0000 - val_loss: 0.3787 - val_acc: 0.9200\n",
            "Epoch 22/30\n",
            "13/13 [==============================] - 2s 192ms/step - loss: 2.2944e-05 - acc: 1.0000 - val_loss: 0.3725 - val_acc: 0.9200\n",
            "Epoch 23/30\n",
            "13/13 [==============================] - 2s 192ms/step - loss: 2.0937e-05 - acc: 1.0000 - val_loss: 0.3871 - val_acc: 0.9200\n",
            "Epoch 24/30\n",
            "13/13 [==============================] - 2s 191ms/step - loss: 1.9171e-05 - acc: 1.0000 - val_loss: 0.3803 - val_acc: 0.9225\n",
            "Epoch 25/30\n",
            "13/13 [==============================] - 2s 192ms/step - loss: 1.7535e-05 - acc: 1.0000 - val_loss: 0.3823 - val_acc: 0.9225\n",
            "Epoch 26/30\n",
            "13/13 [==============================] - 2s 191ms/step - loss: 1.5881e-05 - acc: 1.0000 - val_loss: 0.3895 - val_acc: 0.9200\n",
            "Epoch 27/30\n",
            "13/13 [==============================] - 2s 192ms/step - loss: 1.3848e-05 - acc: 1.0000 - val_loss: 0.3947 - val_acc: 0.9225\n",
            "Epoch 28/30\n",
            "13/13 [==============================] - 2s 193ms/step - loss: 1.1655e-05 - acc: 1.0000 - val_loss: 0.3938 - val_acc: 0.9225\n",
            "Epoch 29/30\n",
            "13/13 [==============================] - 2s 192ms/step - loss: 9.1732e-06 - acc: 1.0000 - val_loss: 0.3909 - val_acc: 0.9250\n",
            "Epoch 30/30\n",
            "13/13 [==============================] - 2s 191ms/step - loss: 7.0381e-06 - acc: 1.0000 - val_loss: 0.3955 - val_acc: 0.9250\n"
          ],
          "name": "stdout"
        }
      ]
    },
    {
      "cell_type": "code",
      "metadata": {
        "colab": {
          "base_uri": "https://localhost:8080/"
        },
        "id": "O8BETEZ3Hkzn",
        "outputId": "986d315a-4dad-4c1c-e487-79ec6c388a14"
      },
      "source": [
        "# 동결시킬 층들을 확인하기 위해 vgg16 모델의 layer(층) 명 들을 확인\n",
        "for layer in vgg16.layers:\n",
        "  print (layer.name)"
      ],
      "execution_count": 56,
      "outputs": [
        {
          "output_type": "stream",
          "text": [
            "input_1\n",
            "block1_conv1\n",
            "block1_conv2\n",
            "block1_pool\n",
            "block2_conv1\n",
            "block2_conv2\n",
            "block2_pool\n",
            "block3_conv1\n",
            "block3_conv2\n",
            "block3_conv3\n",
            "block3_pool\n",
            "block4_conv1\n",
            "block4_conv2\n",
            "block4_conv3\n",
            "block4_pool\n",
            "block5_conv1\n",
            "block5_conv2\n",
            "block5_conv3\n",
            "block5_pool\n"
          ],
          "name": "stdout"
        }
      ]
    },
    {
      "cell_type": "code",
      "metadata": {
        "colab": {
          "base_uri": "https://localhost:8080/",
          "height": 320
        },
        "id": "32ovkOMRHkrX",
        "outputId": "6d00ea80-0e76-494c-8695-6126a15e0d11"
      },
      "source": [
        "plt.figure(figsize=(15,5))\n",
        "\n",
        "plt.plot(h2.history['acc'],\n",
        "         label = 'acc'\n",
        "         )\n",
        "\n",
        "plt.plot(h2.history['val_acc'],\n",
        "         label = 'val_acc'\n",
        "         )\n",
        "\n",
        "plt.legend()\n",
        "plt.show()"
      ],
      "execution_count": 67,
      "outputs": [
        {
          "output_type": "display_data",
          "data": {
            "image/png": "[encoded data removed]",
            "text/plain": [
              "<Figure size 1080x360 with 1 Axes>"
            ]
          },
          "metadata": {
            "tags": [],
            "needs_background": "light"
          }
        }
      ]
    },
    {
      "cell_type": "code",
      "metadata": {
        "colab": {
          "base_uri": "https://localhost:8080/"
        },
        "id": "z-uDuLJ0SVog",
        "outputId": "b8714cb0-2a32-45cf-bad3-2ec54cfcfa8b"
      },
      "source": [
        "transfer_model.evaluate(X_test, y_test)"
      ],
      "execution_count": 68,
      "outputs": [
        {
          "output_type": "stream",
          "text": [
            "32/32 [==============================] - 4s 59ms/step - loss: 0.3222 - acc: 0.9340\n"
          ],
          "name": "stdout"
        },
        {
          "output_type": "execute_result",
          "data": {
            "text/plain": [
              "[0.32218673825263977, 0.9340000152587891]"
            ]
          },
          "metadata": {
            "tags": []
          },
          "execution_count": 68
        }
      ]
    },
    {
      "cell_type": "markdown",
      "metadata": {
        "id": "dMEc-uF-VfCB"
      },
      "source": [
        "- 처음 MLP만 바꿔줬을 때 (특성추출방식)는 학습이 제대로 되지 않는 것을 확인\n",
        "- -> MLP층에서 발생된 오차가 역전파를 통해서 VGG16 Conv층으로 전달되면서 사전에 학습되어 있던 w,b값을 매우 손상시켰음\n",
        "- 사전에 잘 학습된 w,b값이 변경되지 않도록 VGG16모델의 일부층들을 동결시켜놓고 추가로 학습\n",
        "- -> 제대로 동작하는 것을 확인"
      ]
    },
    {
      "cell_type": "code",
      "metadata": {
        "id": "OBb2pifeV9Fa"
      },
      "source": [
        ""
      ],
      "execution_count": null,
      "outputs": []
    }
  ]
}