{
  "nbformat": 4,
  "nbformat_minor": 0,
  "metadata": {
    "accelerator": "GPU",
    "colab": {
      "name": "21.07.20_개, 고양이 사진 예측 (CNN)",
      "provenance": [],
      "collapsed_sections": [],
      "machine_shape": "hm",
      "mount_file_id": "1KZwKu_IbZfaJV5AbfifbcJxaiu1QN8J1",
      "authorship_tag": "ABX9TyPJ2h/X2/t0yUO0+Ra8hjgB",
      "include_colab_link": true
    },
    "kernelspec": {
      "display_name": "Python 3",
      "name": "python3"
    },
    "language_info": {
      "name": "python"
    }
  },
  "cells": [
    {
      "cell_type": "markdown",
      "metadata": {
        "id": "view-in-github",
        "colab_type": "text"
      },
      "source": [
        "<a href=\"https://colab.research.google.com/github/ldk7024/Deep_Learning_Study/blob/main/21_07_20_%EA%B0%9C%2C_%EA%B3%A0%EC%96%91%EC%9D%B4_%EC%82%AC%EC%A7%84_%EC%98%88%EC%B8%A1_(CNN).ipynb\" target=\"_parent\"><img src=\"https://colab.research.google.com/assets/colab-badge.svg\" alt=\"Open In Colab\"/></a>"
      ]
    },
    {
      "cell_type": "markdown",
      "metadata": {
        "id": "AMDPZVKTkZmK"
      },
      "source": [
        "- NPZ 파일 로딩"
      ]
    },
    {
      "cell_type": "code",
      "metadata": {
        "id": "_Xb8OuBHNwlM"
      },
      "source": [
        "import numpy as np\n",
        "import pandas as pd\n",
        "import matplotlib.pyplot as plt"
      ],
      "execution_count": 1,
      "outputs": []
    },
    {
      "cell_type": "code",
      "metadata": {
        "colab": {
          "base_uri": "https://localhost:8080/"
        },
        "id": "fE5GTTfYkONZ",
        "outputId": "9b3475a3-c2c5-4700-8263-6ed96560ee32"
      },
      "source": [
        "data = np.load('/content/drive/MyDrive/Colab Notebooks/빅데이터4차(딥러닝)/data/cats_and_dogs.npz')\n",
        "data"
      ],
      "execution_count": 2,
      "outputs": [
        {
          "output_type": "execute_result",
          "data": {
            "text/plain": [
              "<numpy.lib.npyio.NpzFile at 0x7fad76534690>"
            ]
          },
          "metadata": {
            "tags": []
          },
          "execution_count": 2
        }
      ]
    },
    {
      "cell_type": "code",
      "metadata": {
        "colab": {
          "base_uri": "https://localhost:8080/"
        },
        "id": "68X_PRtTkObL",
        "outputId": "6bfec7dc-2dfd-4eac-9bae-f26c6ef08ce8"
      },
      "source": [
        "len(data)\n",
        "# X_train, X_test, y_train, y_test 총 4가지로 구성되어 있음"
      ],
      "execution_count": 3,
      "outputs": [
        {
          "output_type": "execute_result",
          "data": {
            "text/plain": [
              "4"
            ]
          },
          "metadata": {
            "tags": []
          },
          "execution_count": 3
        }
      ]
    },
    {
      "cell_type": "code",
      "metadata": {
        "id": "GzfOyCnqk4cw"
      },
      "source": [
        "X_train = data['X_train']\n",
        "X_test = data['X_test']\n",
        "y_train = data['y_train']\n",
        "y_test = data['y_test']"
      ],
      "execution_count": 4,
      "outputs": []
    },
    {
      "cell_type": "code",
      "metadata": {
        "colab": {
          "base_uri": "https://localhost:8080/"
        },
        "id": "LL4s6J_6k4ah",
        "outputId": "61527405-1a5a-49f9-9352-b5d00730922d"
      },
      "source": [
        "print(X_train.shape)\n",
        "print(X_test.shape)\n",
        "print(y_train.shape)\n",
        "print(y_test.shape)"
      ],
      "execution_count": 5,
      "outputs": [
        {
          "output_type": "stream",
          "text": [
            "(2000, 224, 224, 3)\n",
            "(1000, 224, 224, 3)\n",
            "(2000,)\n",
            "(1000,)\n"
          ],
          "name": "stdout"
        }
      ]
    },
    {
      "cell_type": "code",
      "metadata": {
        "id": "ILcPm9mSk4Xs"
      },
      "source": [
        ""
      ],
      "execution_count": null,
      "outputs": []
    },
    {
      "cell_type": "code",
      "metadata": {
        "id": "m-zconrik4VQ"
      },
      "source": [
        ""
      ],
      "execution_count": null,
      "outputs": []
    },
    {
      "cell_type": "code",
      "metadata": {
        "id": "ECgl89Vtk4St"
      },
      "source": [
        ""
      ],
      "execution_count": null,
      "outputs": []
    },
    {
      "cell_type": "code",
      "metadata": {
        "id": "eUVWNuRPk4P_"
      },
      "source": [
        ""
      ],
      "execution_count": null,
      "outputs": []
    }
  ]
}