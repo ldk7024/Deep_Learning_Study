{
  "nbformat": 4,
  "nbformat_minor": 0,
  "metadata": {
    "accelerator": "GPU",
    "colab": {
      "name": "21.07.23_SimpleRNN을 활용하여 단어 예측(hello)",
      "provenance": [],
      "collapsed_sections": [],
      "machine_shape": "hm",
      "mount_file_id": "1jbmhotQ3gq8w-G2aa6YE989-NGOzycDX",
      "authorship_tag": "ABX9TyMAjnf/Lxhm8yKmftjhZ00s",
      "include_colab_link": true
    },
    "kernelspec": {
      "display_name": "Python 3",
      "name": "python3"
    },
    "language_info": {
      "name": "python"
    }
  },
  "cells": [
    {
      "cell_type": "markdown",
      "metadata": {
        "id": "view-in-github",
        "colab_type": "text"
      },
      "source": [
        "<a href=\"https://colab.research.google.com/github/ldk7024/Deep_Learning_Study/blob/main/21_07_23_SimpleRNN%EC%9D%84_%ED%99%9C%EC%9A%A9%ED%95%98%EC%97%AC_%EB%8B%A8%EC%96%B4_%EC%98%88%EC%B8%A1(hello).ipynb\" target=\"_parent\"><img src=\"https://colab.research.google.com/assets/colab-badge.svg\" alt=\"Open In Colab\"/></a>"
      ]
    },
    {
      "cell_type": "markdown",
      "metadata": {
        "id": "AMDPZVKTkZmK"
      },
      "source": [
        "### 간단한 단어 데이터를 만들어서 RNN의 구조를 익혀보자!"
      ]
    },
    {
      "cell_type": "code",
      "metadata": {
        "id": "_Xb8OuBHNwlM"
      },
      "source": [
        "import numpy as np\n",
        "import pandas as pd\n",
        "import matplotlib.pyplot as plt"
      ],
      "execution_count": 1,
      "outputs": []
    },
    {
      "cell_type": "markdown",
      "metadata": {
        "id": "o_L59Dq1B7hH"
      },
      "source": [
        "- 글자 하나하나를 단위로 RNN을 사용해보자!\n",
        "- hello, apple, lobby, daddy, bobby"
      ]
    },
    {
      "cell_type": "code",
      "metadata": {
        "id": "Bo6KNdW-Bkww"
      },
      "source": [
        "# 문제 데이터는 hell, appl, lobb, dadd, bobb\n",
        "# 정답 데이터는 o,e,y,y,y\n",
        "\n",
        "# timesteps: 4"
      ],
      "execution_count": 2,
      "outputs": []
    },
    {
      "cell_type": "markdown",
      "metadata": {
        "id": "1MofXZKrBkt_"
      },
      "source": [
        "### 우리의 목표는 앞의 4단어를 통해서 뒤에 나올 1단어를 예측하는 것!"
      ]
    },
    {
      "cell_type": "code",
      "metadata": {
        "id": "u_faXmj_BkrJ"
      },
      "source": [
        "# 원핫인코딩으로 문자를 숫자로 변경\n",
        "# 문제 + 정답의 전체 데이터에서 등장하는 문자는 h,e,l,o,a,p,b,y,d로 9개"
      ],
      "execution_count": 3,
      "outputs": []
    },
    {
      "cell_type": "code",
      "metadata": {
        "id": "-PNqAlq_BkoI"
      },
      "source": [
        "### RNN 데이터의 구조 파악을 위해 직접 원핫인코딩을 해보자!"
      ],
      "execution_count": 4,
      "outputs": []
    },
    {
      "cell_type": "code",
      "metadata": {
        "id": "5qpLf4H_BklP"
      },
      "source": [
        "# 문제 데이터\n",
        "X_train = np.array(\n",
        "    [\n",
        "     [ [1,0,0,0,0,0,0,0,0],[0,1,0,0,0,0,0,0,0],[0,0,1,0,0,0,0,0,0],[0,0,1,0,0,0,0,0,0] ],   # hell\n",
        "     [ [0,0,0,0,1,0,0,0,0],[0,0,0,0,0,1,0,0,0],[0,0,0,0,0,1,0,0,0],[0,0,1,0,0,0,0,0,0] ],   # appl\n",
        "     [ [0,0,1,0,0,0,0,0,0],[0,0,0,1,0,0,0,0,0],[0,0,0,0,0,0,1,0,0],[0,0,0,0,0,0,1,0,0] ],   # lobb\n",
        "     [ [0,0,0,0,0,0,0,0,1],[0,0,0,0,1,0,0,0,0],[0,0,0,0,0,0,0,0,1],[0,0,0,0,0,0,0,0,1] ],   # dadd\n",
        "     [ [0,0,0,0,0,0,1,0,0],[0,0,0,1,0,0,0,0,0],[0,0,0,0,0,0,1,0,0],[0,0,0,0,0,0,1,0,0] ],   # bobb\n",
        "    ]\n",
        ")"
      ],
      "execution_count": 5,
      "outputs": []
    },
    {
      "cell_type": "code",
      "metadata": {
        "id": "NlbHqOLYBkif"
      },
      "source": [
        "# 정답 데이터\n",
        "y_train = np.array(\n",
        "    [\n",
        "     [0,0,0,1,0,0,0,0,0],   # o\n",
        "     [0,1,0,0,0,0,0,0,0],   # e\n",
        "     [0,0,0,0,0,0,0,1,0],   # y\n",
        "     [0,0,0,0,0,0,0,1,0],   # y\n",
        "     [0,0,0,0,0,0,0,1,0]    # y\n",
        "    ]\n",
        ")"
      ],
      "execution_count": 6,
      "outputs": []
    },
    {
      "cell_type": "code",
      "metadata": {
        "colab": {
          "base_uri": "https://localhost:8080/"
        },
        "id": "iJI9srkpBkf3",
        "outputId": "8f92fe40-33dd-4d8b-aedc-a43728277cbe"
      },
      "source": [
        "X_train.shape, y_train.shape\n",
        "# samples (데이터의 수), timesteps(순환 횟수), fetures(데이터의 특성 수 = 원핫인코딩된 레이블 수)"
      ],
      "execution_count": 7,
      "outputs": [
        {
          "output_type": "execute_result",
          "data": {
            "text/plain": [
              "((5, 4, 9), (5, 9))"
            ]
          },
          "metadata": {
            "tags": []
          },
          "execution_count": 7
        }
      ]
    },
    {
      "cell_type": "markdown",
      "metadata": {
        "id": "46uP9etmHWM0"
      },
      "source": [
        "- 출력되는 값을 영어 알파벳 전체로 하고 싶다면 26개로 원핫인코딩을 하면 됨\n",
        "- 현재는 RNN을 알아보기 위해 간단히 9개의 단어로만 문제와 정답을 설정"
      ]
    },
    {
      "cell_type": "markdown",
      "metadata": {
        "id": "QBXjYf5EHjT0"
      },
      "source": [
        "### RNN 신경망 모델링"
      ]
    },
    {
      "cell_type": "code",
      "metadata": {
        "id": "RD9WobwrGvEt"
      },
      "source": [
        "from tensorflow.keras import Sequential\n",
        "from tensorflow.keras.layers import SimpleRNN, Dense"
      ],
      "execution_count": 8,
      "outputs": []
    },
    {
      "cell_type": "markdown",
      "metadata": {
        "id": "HQy0n30FSukA"
      },
      "source": [
        "- 입력층은 문제 데이터를 보고, 출력층은 정답 데이터를 보고 결정할 것!"
      ]
    },
    {
      "cell_type": "code",
      "metadata": {
        "colab": {
          "base_uri": "https://localhost:8080/"
        },
        "id": "hJaqJFQYH0ks",
        "outputId": "767b0056-e0f7-4f8e-82d2-9d2523f3691a"
      },
      "source": [
        "model = Sequential()\n",
        "\n",
        "# 입력층 + 중간층\n",
        "# 8개의 뉴런을 가지고 각 뉴런이 4번씩 순환하며 각 순화마다 9개의 숫자가 들어감\n",
        "model.add(SimpleRNN(8,input_shape=(4,9)))\n",
        "\n",
        "# 출력층\n",
        "# 사용되는 단어가 총 9개이고, 그 중에서 정답(다음에 나올 단어)을 찾아내는 것이기 때문에 다중분류\n",
        "model.add(Dense(9,activation='softmax'))\n",
        "\n",
        "model.summary()\n",
        "\n",
        "# RNN은 가중치가 두 종류가 있음 (과거데이터의 가중치, 현재 데이터의 가중치)\n",
        "# 현재데이터의 가중치 -> 9(입력특성) * 8(RNN층의 뉴런수)+ 8(RNN층의 뉴런수)\n",
        "# 과거데이터의 가중치 -> 8(RNN층 뉴런수) * 8(RNN층 뉴런수)\n",
        "# RNN층의 각 뉴런층에 뽑아낸 결과값은 다시 모든 뉴런들에게 과거데이터로 들어가게 됨\n",
        "# 순환횟수와는 상관없이 최종 결과 값에 대한 가중치를 카운트"
      ],
      "execution_count": 9,
      "outputs": [
        {
          "output_type": "stream",
          "text": [
            "Model: \"sequential\"\n",
            "_________________________________________________________________\n",
            "Layer (type)                 Output Shape              Param #   \n",
            "=================================================================\n",
            "simple_rnn (SimpleRNN)       (None, 8)                 144       \n",
            "_________________________________________________________________\n",
            "dense (Dense)                (None, 9)                 81        \n",
            "=================================================================\n",
            "Total params: 225\n",
            "Trainable params: 225\n",
            "Non-trainable params: 0\n",
            "_________________________________________________________________\n"
          ],
          "name": "stdout"
        }
      ]
    },
    {
      "cell_type": "code",
      "metadata": {
        "id": "ZBMU0sQlQaJC"
      },
      "source": [
        "model.compile(loss='categorical_crossentropy',\n",
        "              optimizer= 'Adam',\n",
        "              metrics=['acc']\n",
        "              )"
      ],
      "execution_count": 11,
      "outputs": []
    },
    {
      "cell_type": "code",
      "metadata": {
        "colab": {
          "base_uri": "https://localhost:8080/"
        },
        "id": "3JThI74GThBB",
        "outputId": "834fa7bd-dc0a-4da1-d2ad-1d9835afc568"
      },
      "source": [
        "h = model.fit(X_train, y_train, epochs=200)"
      ],
      "execution_count": 12,
      "outputs": [
        {
          "output_type": "stream",
          "text": [
            "Epoch 1/200\n",
            "1/1 [==============================] - 2s 2s/step - loss: 2.3152 - acc: 0.0000e+00\n",
            "Epoch 2/200\n",
            "1/1 [==============================] - 0s 6ms/step - loss: 2.3009 - acc: 0.0000e+00\n",
            "Epoch 3/200\n",
            "1/1 [==============================] - 0s 6ms/step - loss: 2.2866 - acc: 0.0000e+00\n",
            "Epoch 4/200\n",
            "1/1 [==============================] - 0s 5ms/step - loss: 2.2724 - acc: 0.0000e+00\n",
            "Epoch 5/200\n",
            "1/1 [==============================] - 0s 6ms/step - loss: 2.2583 - acc: 0.0000e+00\n",
            "Epoch 6/200\n",
            "1/1 [==============================] - 0s 6ms/step - loss: 2.2442 - acc: 0.0000e+00\n",
            "Epoch 7/200\n",
            "1/1 [==============================] - 0s 5ms/step - loss: 2.2302 - acc: 0.0000e+00\n",
            "Epoch 8/200\n",
            "1/1 [==============================] - 0s 6ms/step - loss: 2.2163 - acc: 0.0000e+00\n",
            "Epoch 9/200\n",
            "1/1 [==============================] - 0s 7ms/step - loss: 2.2024 - acc: 0.0000e+00\n",
            "Epoch 10/200\n",
            "1/1 [==============================] - 0s 6ms/step - loss: 2.1886 - acc: 0.2000\n",
            "Epoch 11/200\n",
            "1/1 [==============================] - 0s 6ms/step - loss: 2.1749 - acc: 0.2000\n",
            "Epoch 12/200\n",
            "1/1 [==============================] - 0s 6ms/step - loss: 2.1612 - acc: 0.2000\n",
            "Epoch 13/200\n",
            "1/1 [==============================] - 0s 6ms/step - loss: 2.1476 - acc: 0.2000\n",
            "Epoch 14/200\n",
            "1/1 [==============================] - 0s 5ms/step - loss: 2.1340 - acc: 0.2000\n",
            "Epoch 15/200\n",
            "1/1 [==============================] - 0s 5ms/step - loss: 2.1205 - acc: 0.2000\n",
            "Epoch 16/200\n",
            "1/1 [==============================] - 0s 6ms/step - loss: 2.1071 - acc: 0.2000\n",
            "Epoch 17/200\n",
            "1/1 [==============================] - 0s 6ms/step - loss: 2.0937 - acc: 0.2000\n",
            "Epoch 18/200\n",
            "1/1 [==============================] - 0s 5ms/step - loss: 2.0804 - acc: 0.2000\n",
            "Epoch 19/200\n",
            "1/1 [==============================] - 0s 5ms/step - loss: 2.0671 - acc: 0.4000\n",
            "Epoch 20/200\n",
            "1/1 [==============================] - 0s 5ms/step - loss: 2.0539 - acc: 0.4000\n",
            "Epoch 21/200\n",
            "1/1 [==============================] - 0s 6ms/step - loss: 2.0407 - acc: 0.4000\n",
            "Epoch 22/200\n",
            "1/1 [==============================] - 0s 6ms/step - loss: 2.0276 - acc: 0.4000\n",
            "Epoch 23/200\n",
            "1/1 [==============================] - 0s 6ms/step - loss: 2.0145 - acc: 0.4000\n",
            "Epoch 24/200\n",
            "1/1 [==============================] - 0s 6ms/step - loss: 2.0015 - acc: 0.4000\n",
            "Epoch 25/200\n",
            "1/1 [==============================] - 0s 6ms/step - loss: 1.9886 - acc: 0.4000\n",
            "Epoch 26/200\n",
            "1/1 [==============================] - 0s 5ms/step - loss: 1.9756 - acc: 0.4000\n",
            "Epoch 27/200\n",
            "1/1 [==============================] - 0s 6ms/step - loss: 1.9628 - acc: 0.4000\n",
            "Epoch 28/200\n",
            "1/1 [==============================] - 0s 6ms/step - loss: 1.9499 - acc: 0.4000\n",
            "Epoch 29/200\n",
            "1/1 [==============================] - 0s 6ms/step - loss: 1.9371 - acc: 0.4000\n",
            "Epoch 30/200\n",
            "1/1 [==============================] - 0s 8ms/step - loss: 1.9243 - acc: 0.4000\n",
            "Epoch 31/200\n",
            "1/1 [==============================] - 0s 5ms/step - loss: 1.9116 - acc: 0.4000\n",
            "Epoch 32/200\n",
            "1/1 [==============================] - 0s 6ms/step - loss: 1.8989 - acc: 0.4000\n",
            "Epoch 33/200\n",
            "1/1 [==============================] - 0s 6ms/step - loss: 1.8862 - acc: 0.4000\n",
            "Epoch 34/200\n",
            "1/1 [==============================] - 0s 5ms/step - loss: 1.8736 - acc: 0.4000\n",
            "Epoch 35/200\n",
            "1/1 [==============================] - 0s 5ms/step - loss: 1.8609 - acc: 0.4000\n",
            "Epoch 36/200\n",
            "1/1 [==============================] - 0s 5ms/step - loss: 1.8483 - acc: 0.4000\n",
            "Epoch 37/200\n",
            "1/1 [==============================] - 0s 6ms/step - loss: 1.8358 - acc: 0.4000\n",
            "Epoch 38/200\n",
            "1/1 [==============================] - 0s 6ms/step - loss: 1.8232 - acc: 0.4000\n",
            "Epoch 39/200\n",
            "1/1 [==============================] - 0s 7ms/step - loss: 1.8107 - acc: 0.4000\n",
            "Epoch 40/200\n",
            "1/1 [==============================] - 0s 9ms/step - loss: 1.7982 - acc: 0.6000\n",
            "Epoch 41/200\n",
            "1/1 [==============================] - 0s 5ms/step - loss: 1.7857 - acc: 0.6000\n",
            "Epoch 42/200\n",
            "1/1 [==============================] - 0s 7ms/step - loss: 1.7732 - acc: 0.6000\n",
            "Epoch 43/200\n",
            "1/1 [==============================] - 0s 7ms/step - loss: 1.7607 - acc: 0.6000\n",
            "Epoch 44/200\n",
            "1/1 [==============================] - 0s 6ms/step - loss: 1.7482 - acc: 0.6000\n",
            "Epoch 45/200\n",
            "1/1 [==============================] - 0s 6ms/step - loss: 1.7358 - acc: 0.6000\n",
            "Epoch 46/200\n",
            "1/1 [==============================] - 0s 6ms/step - loss: 1.7233 - acc: 0.6000\n",
            "Epoch 47/200\n",
            "1/1 [==============================] - 0s 6ms/step - loss: 1.7109 - acc: 0.6000\n",
            "Epoch 48/200\n",
            "1/1 [==============================] - 0s 5ms/step - loss: 1.6985 - acc: 0.6000\n",
            "Epoch 49/200\n",
            "1/1 [==============================] - 0s 6ms/step - loss: 1.6860 - acc: 0.6000\n",
            "Epoch 50/200\n",
            "1/1 [==============================] - 0s 5ms/step - loss: 1.6736 - acc: 0.6000\n",
            "Epoch 51/200\n",
            "1/1 [==============================] - 0s 7ms/step - loss: 1.6612 - acc: 0.8000\n",
            "Epoch 52/200\n",
            "1/1 [==============================] - 0s 5ms/step - loss: 1.6488 - acc: 0.8000\n",
            "Epoch 53/200\n",
            "1/1 [==============================] - 0s 6ms/step - loss: 1.6364 - acc: 0.8000\n",
            "Epoch 54/200\n",
            "1/1 [==============================] - 0s 7ms/step - loss: 1.6240 - acc: 0.8000\n",
            "Epoch 55/200\n",
            "1/1 [==============================] - 0s 6ms/step - loss: 1.6115 - acc: 0.8000\n",
            "Epoch 56/200\n",
            "1/1 [==============================] - 0s 7ms/step - loss: 1.5991 - acc: 0.8000\n",
            "Epoch 57/200\n",
            "1/1 [==============================] - 0s 6ms/step - loss: 1.5867 - acc: 0.8000\n",
            "Epoch 58/200\n",
            "1/1 [==============================] - 0s 6ms/step - loss: 1.5743 - acc: 0.8000\n",
            "Epoch 59/200\n",
            "1/1 [==============================] - 0s 6ms/step - loss: 1.5619 - acc: 0.8000\n",
            "Epoch 60/200\n",
            "1/1 [==============================] - 0s 6ms/step - loss: 1.5494 - acc: 0.8000\n",
            "Epoch 61/200\n",
            "1/1 [==============================] - 0s 5ms/step - loss: 1.5370 - acc: 0.8000\n",
            "Epoch 62/200\n",
            "1/1 [==============================] - 0s 6ms/step - loss: 1.5246 - acc: 0.8000\n",
            "Epoch 63/200\n",
            "1/1 [==============================] - 0s 6ms/step - loss: 1.5121 - acc: 0.8000\n",
            "Epoch 64/200\n",
            "1/1 [==============================] - 0s 7ms/step - loss: 1.4997 - acc: 0.8000\n",
            "Epoch 65/200\n",
            "1/1 [==============================] - 0s 6ms/step - loss: 1.4872 - acc: 0.8000\n",
            "Epoch 66/200\n",
            "1/1 [==============================] - 0s 6ms/step - loss: 1.4748 - acc: 0.8000\n",
            "Epoch 67/200\n",
            "1/1 [==============================] - 0s 8ms/step - loss: 1.4623 - acc: 0.8000\n",
            "Epoch 68/200\n",
            "1/1 [==============================] - 0s 7ms/step - loss: 1.4499 - acc: 0.8000\n",
            "Epoch 69/200\n",
            "1/1 [==============================] - 0s 6ms/step - loss: 1.4375 - acc: 0.8000\n",
            "Epoch 70/200\n",
            "1/1 [==============================] - 0s 7ms/step - loss: 1.4250 - acc: 0.8000\n",
            "Epoch 71/200\n",
            "1/1 [==============================] - 0s 7ms/step - loss: 1.4126 - acc: 0.8000\n",
            "Epoch 72/200\n",
            "1/1 [==============================] - 0s 8ms/step - loss: 1.4002 - acc: 1.0000\n",
            "Epoch 73/200\n",
            "1/1 [==============================] - 0s 7ms/step - loss: 1.3878 - acc: 1.0000\n",
            "Epoch 74/200\n",
            "1/1 [==============================] - 0s 7ms/step - loss: 1.3753 - acc: 1.0000\n",
            "Epoch 75/200\n",
            "1/1 [==============================] - 0s 8ms/step - loss: 1.3629 - acc: 1.0000\n",
            "Epoch 76/200\n",
            "1/1 [==============================] - 0s 7ms/step - loss: 1.3506 - acc: 1.0000\n",
            "Epoch 77/200\n",
            "1/1 [==============================] - 0s 9ms/step - loss: 1.3382 - acc: 1.0000\n",
            "Epoch 78/200\n",
            "1/1 [==============================] - 0s 7ms/step - loss: 1.3258 - acc: 1.0000\n",
            "Epoch 79/200\n",
            "1/1 [==============================] - 0s 7ms/step - loss: 1.3135 - acc: 1.0000\n",
            "Epoch 80/200\n",
            "1/1 [==============================] - 0s 6ms/step - loss: 1.3012 - acc: 1.0000\n",
            "Epoch 81/200\n",
            "1/1 [==============================] - 0s 6ms/step - loss: 1.2889 - acc: 1.0000\n",
            "Epoch 82/200\n",
            "1/1 [==============================] - 0s 5ms/step - loss: 1.2767 - acc: 1.0000\n",
            "Epoch 83/200\n",
            "1/1 [==============================] - 0s 6ms/step - loss: 1.2644 - acc: 1.0000\n",
            "Epoch 84/200\n",
            "1/1 [==============================] - 0s 7ms/step - loss: 1.2522 - acc: 1.0000\n",
            "Epoch 85/200\n",
            "1/1 [==============================] - 0s 8ms/step - loss: 1.2401 - acc: 1.0000\n",
            "Epoch 86/200\n",
            "1/1 [==============================] - 0s 7ms/step - loss: 1.2280 - acc: 1.0000\n",
            "Epoch 87/200\n",
            "1/1 [==============================] - 0s 7ms/step - loss: 1.2159 - acc: 1.0000\n",
            "Epoch 88/200\n",
            "1/1 [==============================] - 0s 6ms/step - loss: 1.2038 - acc: 1.0000\n",
            "Epoch 89/200\n",
            "1/1 [==============================] - 0s 7ms/step - loss: 1.1918 - acc: 1.0000\n",
            "Epoch 90/200\n",
            "1/1 [==============================] - 0s 6ms/step - loss: 1.1799 - acc: 1.0000\n",
            "Epoch 91/200\n",
            "1/1 [==============================] - 0s 6ms/step - loss: 1.1680 - acc: 1.0000\n",
            "Epoch 92/200\n",
            "1/1 [==============================] - 0s 6ms/step - loss: 1.1562 - acc: 1.0000\n",
            "Epoch 93/200\n",
            "1/1 [==============================] - 0s 6ms/step - loss: 1.1444 - acc: 1.0000\n",
            "Epoch 94/200\n",
            "1/1 [==============================] - 0s 7ms/step - loss: 1.1326 - acc: 1.0000\n",
            "Epoch 95/200\n",
            "1/1 [==============================] - 0s 7ms/step - loss: 1.1210 - acc: 1.0000\n",
            "Epoch 96/200\n",
            "1/1 [==============================] - 0s 7ms/step - loss: 1.1094 - acc: 1.0000\n",
            "Epoch 97/200\n",
            "1/1 [==============================] - 0s 6ms/step - loss: 1.0979 - acc: 1.0000\n",
            "Epoch 98/200\n",
            "1/1 [==============================] - 0s 10ms/step - loss: 1.0864 - acc: 1.0000\n",
            "Epoch 99/200\n",
            "1/1 [==============================] - 0s 7ms/step - loss: 1.0750 - acc: 1.0000\n",
            "Epoch 100/200\n",
            "1/1 [==============================] - 0s 7ms/step - loss: 1.0637 - acc: 1.0000\n",
            "Epoch 101/200\n",
            "1/1 [==============================] - 0s 8ms/step - loss: 1.0525 - acc: 1.0000\n",
            "Epoch 102/200\n",
            "1/1 [==============================] - 0s 6ms/step - loss: 1.0414 - acc: 1.0000\n",
            "Epoch 103/200\n",
            "1/1 [==============================] - 0s 7ms/step - loss: 1.0303 - acc: 1.0000\n",
            "Epoch 104/200\n",
            "1/1 [==============================] - 0s 7ms/step - loss: 1.0193 - acc: 1.0000\n",
            "Epoch 105/200\n",
            "1/1 [==============================] - 0s 7ms/step - loss: 1.0084 - acc: 1.0000\n",
            "Epoch 106/200\n",
            "1/1 [==============================] - 0s 8ms/step - loss: 0.9977 - acc: 1.0000\n",
            "Epoch 107/200\n",
            "1/1 [==============================] - 0s 6ms/step - loss: 0.9870 - acc: 1.0000\n",
            "Epoch 108/200\n",
            "1/1 [==============================] - 0s 6ms/step - loss: 0.9764 - acc: 1.0000\n",
            "Epoch 109/200\n",
            "1/1 [==============================] - 0s 7ms/step - loss: 0.9658 - acc: 1.0000\n",
            "Epoch 110/200\n",
            "1/1 [==============================] - 0s 5ms/step - loss: 0.9554 - acc: 1.0000\n",
            "Epoch 111/200\n",
            "1/1 [==============================] - 0s 7ms/step - loss: 0.9451 - acc: 1.0000\n",
            "Epoch 112/200\n",
            "1/1 [==============================] - 0s 7ms/step - loss: 0.9349 - acc: 1.0000\n",
            "Epoch 113/200\n",
            "1/1 [==============================] - 0s 8ms/step - loss: 0.9248 - acc: 1.0000\n",
            "Epoch 114/200\n",
            "1/1 [==============================] - 0s 7ms/step - loss: 0.9148 - acc: 1.0000\n",
            "Epoch 115/200\n",
            "1/1 [==============================] - 0s 7ms/step - loss: 0.9049 - acc: 1.0000\n",
            "Epoch 116/200\n",
            "1/1 [==============================] - 0s 6ms/step - loss: 0.8951 - acc: 1.0000\n",
            "Epoch 117/200\n",
            "1/1 [==============================] - 0s 5ms/step - loss: 0.8854 - acc: 1.0000\n",
            "Epoch 118/200\n",
            "1/1 [==============================] - 0s 6ms/step - loss: 0.8758 - acc: 1.0000\n",
            "Epoch 119/200\n",
            "1/1 [==============================] - 0s 5ms/step - loss: 0.8664 - acc: 1.0000\n",
            "Epoch 120/200\n",
            "1/1 [==============================] - 0s 5ms/step - loss: 0.8570 - acc: 1.0000\n",
            "Epoch 121/200\n",
            "1/1 [==============================] - 0s 5ms/step - loss: 0.8477 - acc: 1.0000\n",
            "Epoch 122/200\n",
            "1/1 [==============================] - 0s 6ms/step - loss: 0.8386 - acc: 1.0000\n",
            "Epoch 123/200\n",
            "1/1 [==============================] - 0s 8ms/step - loss: 0.8295 - acc: 1.0000\n",
            "Epoch 124/200\n",
            "1/1 [==============================] - 0s 7ms/step - loss: 0.8206 - acc: 1.0000\n",
            "Epoch 125/200\n",
            "1/1 [==============================] - 0s 6ms/step - loss: 0.8117 - acc: 1.0000\n",
            "Epoch 126/200\n",
            "1/1 [==============================] - 0s 7ms/step - loss: 0.8030 - acc: 1.0000\n",
            "Epoch 127/200\n",
            "1/1 [==============================] - 0s 7ms/step - loss: 0.7944 - acc: 1.0000\n",
            "Epoch 128/200\n",
            "1/1 [==============================] - 0s 6ms/step - loss: 0.7858 - acc: 1.0000\n",
            "Epoch 129/200\n",
            "1/1 [==============================] - 0s 7ms/step - loss: 0.7774 - acc: 1.0000\n",
            "Epoch 130/200\n",
            "1/1 [==============================] - 0s 8ms/step - loss: 0.7691 - acc: 1.0000\n",
            "Epoch 131/200\n",
            "1/1 [==============================] - 0s 6ms/step - loss: 0.7609 - acc: 1.0000\n",
            "Epoch 132/200\n",
            "1/1 [==============================] - 0s 8ms/step - loss: 0.7528 - acc: 1.0000\n",
            "Epoch 133/200\n",
            "1/1 [==============================] - 0s 6ms/step - loss: 0.7448 - acc: 1.0000\n",
            "Epoch 134/200\n",
            "1/1 [==============================] - 0s 8ms/step - loss: 0.7368 - acc: 1.0000\n",
            "Epoch 135/200\n",
            "1/1 [==============================] - 0s 6ms/step - loss: 0.7290 - acc: 1.0000\n",
            "Epoch 136/200\n",
            "1/1 [==============================] - 0s 7ms/step - loss: 0.7213 - acc: 1.0000\n",
            "Epoch 137/200\n",
            "1/1 [==============================] - 0s 7ms/step - loss: 0.7137 - acc: 1.0000\n",
            "Epoch 138/200\n",
            "1/1 [==============================] - 0s 7ms/step - loss: 0.7062 - acc: 1.0000\n",
            "Epoch 139/200\n",
            "1/1 [==============================] - 0s 7ms/step - loss: 0.6987 - acc: 1.0000\n",
            "Epoch 140/200\n",
            "1/1 [==============================] - 0s 8ms/step - loss: 0.6914 - acc: 1.0000\n",
            "Epoch 141/200\n",
            "1/1 [==============================] - 0s 7ms/step - loss: 0.6841 - acc: 1.0000\n",
            "Epoch 142/200\n",
            "1/1 [==============================] - 0s 7ms/step - loss: 0.6770 - acc: 1.0000\n",
            "Epoch 143/200\n",
            "1/1 [==============================] - 0s 7ms/step - loss: 0.6699 - acc: 1.0000\n",
            "Epoch 144/200\n",
            "1/1 [==============================] - 0s 5ms/step - loss: 0.6630 - acc: 1.0000\n",
            "Epoch 145/200\n",
            "1/1 [==============================] - 0s 6ms/step - loss: 0.6561 - acc: 1.0000\n",
            "Epoch 146/200\n",
            "1/1 [==============================] - 0s 7ms/step - loss: 0.6493 - acc: 1.0000\n",
            "Epoch 147/200\n",
            "1/1 [==============================] - 0s 5ms/step - loss: 0.6426 - acc: 1.0000\n",
            "Epoch 148/200\n",
            "1/1 [==============================] - 0s 8ms/step - loss: 0.6359 - acc: 1.0000\n",
            "Epoch 149/200\n",
            "1/1 [==============================] - 0s 6ms/step - loss: 0.6294 - acc: 1.0000\n",
            "Epoch 150/200\n",
            "1/1 [==============================] - 0s 7ms/step - loss: 0.6230 - acc: 1.0000\n",
            "Epoch 151/200\n",
            "1/1 [==============================] - 0s 8ms/step - loss: 0.6166 - acc: 1.0000\n",
            "Epoch 152/200\n",
            "1/1 [==============================] - 0s 8ms/step - loss: 0.6103 - acc: 1.0000\n",
            "Epoch 153/200\n",
            "1/1 [==============================] - 0s 6ms/step - loss: 0.6041 - acc: 1.0000\n",
            "Epoch 154/200\n",
            "1/1 [==============================] - 0s 7ms/step - loss: 0.5979 - acc: 1.0000\n",
            "Epoch 155/200\n",
            "1/1 [==============================] - 0s 7ms/step - loss: 0.5919 - acc: 1.0000\n",
            "Epoch 156/200\n",
            "1/1 [==============================] - 0s 8ms/step - loss: 0.5859 - acc: 1.0000\n",
            "Epoch 157/200\n",
            "1/1 [==============================] - 0s 6ms/step - loss: 0.5800 - acc: 1.0000\n",
            "Epoch 158/200\n",
            "1/1 [==============================] - 0s 6ms/step - loss: 0.5742 - acc: 1.0000\n",
            "Epoch 159/200\n",
            "1/1 [==============================] - 0s 8ms/step - loss: 0.5684 - acc: 1.0000\n",
            "Epoch 160/200\n",
            "1/1 [==============================] - 0s 7ms/step - loss: 0.5627 - acc: 1.0000\n",
            "Epoch 161/200\n",
            "1/1 [==============================] - 0s 7ms/step - loss: 0.5571 - acc: 1.0000\n",
            "Epoch 162/200\n",
            "1/1 [==============================] - 0s 7ms/step - loss: 0.5516 - acc: 1.0000\n",
            "Epoch 163/200\n",
            "1/1 [==============================] - 0s 6ms/step - loss: 0.5461 - acc: 1.0000\n",
            "Epoch 164/200\n",
            "1/1 [==============================] - 0s 6ms/step - loss: 0.5407 - acc: 1.0000\n",
            "Epoch 165/200\n",
            "1/1 [==============================] - 0s 6ms/step - loss: 0.5354 - acc: 1.0000\n",
            "Epoch 166/200\n",
            "1/1 [==============================] - 0s 6ms/step - loss: 0.5301 - acc: 1.0000\n",
            "Epoch 167/200\n",
            "1/1 [==============================] - 0s 6ms/step - loss: 0.5249 - acc: 1.0000\n",
            "Epoch 168/200\n",
            "1/1 [==============================] - 0s 6ms/step - loss: 0.5198 - acc: 1.0000\n",
            "Epoch 169/200\n",
            "1/1 [==============================] - 0s 7ms/step - loss: 0.5147 - acc: 1.0000\n",
            "Epoch 170/200\n",
            "1/1 [==============================] - 0s 7ms/step - loss: 0.5097 - acc: 1.0000\n",
            "Epoch 171/200\n",
            "1/1 [==============================] - 0s 9ms/step - loss: 0.5048 - acc: 1.0000\n",
            "Epoch 172/200\n",
            "1/1 [==============================] - 0s 12ms/step - loss: 0.4999 - acc: 1.0000\n",
            "Epoch 173/200\n",
            "1/1 [==============================] - 0s 7ms/step - loss: 0.4951 - acc: 1.0000\n",
            "Epoch 174/200\n",
            "1/1 [==============================] - 0s 5ms/step - loss: 0.4904 - acc: 1.0000\n",
            "Epoch 175/200\n",
            "1/1 [==============================] - 0s 5ms/step - loss: 0.4857 - acc: 1.0000\n",
            "Epoch 176/200\n",
            "1/1 [==============================] - 0s 7ms/step - loss: 0.4810 - acc: 1.0000\n",
            "Epoch 177/200\n",
            "1/1 [==============================] - 0s 10ms/step - loss: 0.4765 - acc: 1.0000\n",
            "Epoch 178/200\n",
            "1/1 [==============================] - 0s 7ms/step - loss: 0.4719 - acc: 1.0000\n",
            "Epoch 179/200\n",
            "1/1 [==============================] - 0s 6ms/step - loss: 0.4675 - acc: 1.0000\n",
            "Epoch 180/200\n",
            "1/1 [==============================] - 0s 6ms/step - loss: 0.4631 - acc: 1.0000\n",
            "Epoch 181/200\n",
            "1/1 [==============================] - 0s 6ms/step - loss: 0.4587 - acc: 1.0000\n",
            "Epoch 182/200\n",
            "1/1 [==============================] - 0s 8ms/step - loss: 0.4544 - acc: 1.0000\n",
            "Epoch 183/200\n",
            "1/1 [==============================] - 0s 7ms/step - loss: 0.4502 - acc: 1.0000\n",
            "Epoch 184/200\n",
            "1/1 [==============================] - 0s 6ms/step - loss: 0.4460 - acc: 1.0000\n",
            "Epoch 185/200\n",
            "1/1 [==============================] - 0s 6ms/step - loss: 0.4419 - acc: 1.0000\n",
            "Epoch 186/200\n",
            "1/1 [==============================] - 0s 8ms/step - loss: 0.4378 - acc: 1.0000\n",
            "Epoch 187/200\n",
            "1/1 [==============================] - 0s 7ms/step - loss: 0.4338 - acc: 1.0000\n",
            "Epoch 188/200\n",
            "1/1 [==============================] - 0s 5ms/step - loss: 0.4298 - acc: 1.0000\n",
            "Epoch 189/200\n",
            "1/1 [==============================] - 0s 8ms/step - loss: 0.4258 - acc: 1.0000\n",
            "Epoch 190/200\n",
            "1/1 [==============================] - 0s 8ms/step - loss: 0.4220 - acc: 1.0000\n",
            "Epoch 191/200\n",
            "1/1 [==============================] - 0s 8ms/step - loss: 0.4181 - acc: 1.0000\n",
            "Epoch 192/200\n",
            "1/1 [==============================] - 0s 6ms/step - loss: 0.4143 - acc: 1.0000\n",
            "Epoch 193/200\n",
            "1/1 [==============================] - 0s 5ms/step - loss: 0.4106 - acc: 1.0000\n",
            "Epoch 194/200\n",
            "1/1 [==============================] - 0s 6ms/step - loss: 0.4069 - acc: 1.0000\n",
            "Epoch 195/200\n",
            "1/1 [==============================] - 0s 6ms/step - loss: 0.4033 - acc: 1.0000\n",
            "Epoch 196/200\n",
            "1/1 [==============================] - 0s 7ms/step - loss: 0.3997 - acc: 1.0000\n",
            "Epoch 197/200\n",
            "1/1 [==============================] - 0s 6ms/step - loss: 0.3961 - acc: 1.0000\n",
            "Epoch 198/200\n",
            "1/1 [==============================] - 0s 8ms/step - loss: 0.3926 - acc: 1.0000\n",
            "Epoch 199/200\n",
            "1/1 [==============================] - 0s 5ms/step - loss: 0.3891 - acc: 1.0000\n",
            "Epoch 200/200\n",
            "1/1 [==============================] - 0s 6ms/step - loss: 0.3857 - acc: 1.0000\n"
          ],
          "name": "stdout"
        }
      ]
    },
    {
      "cell_type": "code",
      "metadata": {
        "colab": {
          "base_uri": "https://localhost:8080/",
          "height": 241
        },
        "id": "nKf46WI2ZJP1",
        "outputId": "8e9fe7c5-a949-4b7c-9a35-4acff44c6ea3"
      },
      "source": [
        "plt.figure(figsize=(15,5))\n",
        "plt.plot(h.history['acc'],\n",
        "         label='acc'\n",
        "          )\n",
        "plt.legend()\n",
        "plt.show()"
      ],
      "execution_count": 13,
      "outputs": [
        {
          "output_type": "display_data",
          "data": {
            "image/png": "[encoded data removed]",
            "text/plain": [
              "<Figure size 1080x360 with 1 Axes>"
            ]
          },
          "metadata": {
            "tags": [],
            "needs_background": "light"
          }
        }
      ]
    },
    {
      "cell_type": "code",
      "metadata": {
        "id": "Zihv8cdTZwZm"
      },
      "source": [
        ""
      ],
      "execution_count": null,
      "outputs": []
    },
    {
      "cell_type": "code",
      "metadata": {
        "id": "Bp60iSzgZJFm"
      },
      "source": [
        ""
      ],
      "execution_count": null,
      "outputs": []
    }
  ]
}