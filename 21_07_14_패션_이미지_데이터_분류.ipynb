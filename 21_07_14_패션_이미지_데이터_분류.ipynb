{
  "nbformat": 4,
  "nbformat_minor": 0,
  "metadata": {
    "colab": {
      "name": "21.07.14_패션 이미지 데이터 분류",
      "provenance": [],
      "collapsed_sections": [],
      "mount_file_id": "1xYZq0FK777_G8Saoxdk4_cePFCHMUFfC",
      "authorship_tag": "ABX9TyNhFmdaXpVt9weLkm6sORcR",
      "include_colab_link": true
    },
    "kernelspec": {
      "name": "python3",
      "display_name": "Python 3"
    },
    "language_info": {
      "name": "python"
    },
    "accelerator": "GPU"
  },
  "cells": [
    {
      "cell_type": "markdown",
      "metadata": {
        "id": "view-in-github",
        "colab_type": "text"
      },
      "source": [
        "<a href=\"https://colab.research.google.com/github/ldk7024/Deep_Learning_Study/blob/main/21_07_14_%ED%8C%A8%EC%85%98_%EC%9D%B4%EB%AF%B8%EC%A7%80_%EB%8D%B0%EC%9D%B4%ED%84%B0_%EB%B6%84%EB%A5%98.ipynb\" target=\"_parent\"><img src=\"https://colab.research.google.com/assets/colab-badge.svg\" alt=\"Open In Colab\"/></a>"
      ]
    },
    {
      "cell_type": "markdown",
      "metadata": {
        "id": "aUo8lE7vATmm"
      },
      "source": [
        "### 목표\n",
        "- 패션 이미지 데이터 (10가지)를 분류하는 모델을 만들어보자!"
      ]
    },
    {
      "cell_type": "code",
      "metadata": {
        "id": "cpjyS72vAPTv"
      },
      "source": [
        "import numpy as np\n",
        "import pandas as pd\n",
        "import matplotlib.pyplot as plt\n",
        "from tensorflow.keras.datasets import fashion_mnist"
      ],
      "execution_count": 2,
      "outputs": []
    },
    {
      "cell_type": "code",
      "metadata": {
        "colab": {
          "base_uri": "https://localhost:8080/"
        },
        "id": "CTeT99jRjsjy",
        "outputId": "4e9db727-18b2-4576-b2b5-337d34a697a8"
      },
      "source": [
        "data = fashion_mnist.load_data()\n",
        "data"
      ],
      "execution_count": 3,
      "outputs": [
        {
          "output_type": "stream",
          "text": [
            "Downloading data from https://storage.googleapis.com/tensorflow/tf-keras-datasets/train-labels-idx1-ubyte.gz\n",
            "32768/29515 [=================================] - 0s 0us/step\n",
            "Downloading data from https://storage.googleapis.com/tensorflow/tf-keras-datasets/train-images-idx3-ubyte.gz\n",
            "26427392/26421880 [==============================] - 0s 0us/step\n",
            "Downloading data from https://storage.googleapis.com/tensorflow/tf-keras-datasets/t10k-labels-idx1-ubyte.gz\n",
            "8192/5148 [===============================================] - 0s 0us/step\n",
            "Downloading data from https://storage.googleapis.com/tensorflow/tf-keras-datasets/t10k-images-idx3-ubyte.gz\n",
            "4423680/4422102 [==============================] - 0s 0us/step\n"
          ],
          "name": "stdout"
        },
        {
          "output_type": "execute_result",
          "data": {
            "text/plain": [
              "((array([[[0, 0, 0, ..., 0, 0, 0],\n",
              "          [0, 0, 0, ..., 0, 0, 0],\n",
              "          [0, 0, 0, ..., 0, 0, 0],\n",
              "          ...,\n",
              "          [0, 0, 0, ..., 0, 0, 0],\n",
              "          [0, 0, 0, ..., 0, 0, 0],\n",
              "          [0, 0, 0, ..., 0, 0, 0]],\n",
              "  \n",
              "         [[0, 0, 0, ..., 0, 0, 0],\n",
              "          [0, 0, 0, ..., 0, 0, 0],\n",
              "          [0, 0, 0, ..., 0, 0, 0],\n",
              "          ...,\n",
              "          [0, 0, 0, ..., 0, 0, 0],\n",
              "          [0, 0, 0, ..., 0, 0, 0],\n",
              "          [0, 0, 0, ..., 0, 0, 0]],\n",
              "  \n",
              "         [[0, 0, 0, ..., 0, 0, 0],\n",
              "          [0, 0, 0, ..., 0, 0, 0],\n",
              "          [0, 0, 0, ..., 0, 0, 0],\n",
              "          ...,\n",
              "          [0, 0, 0, ..., 0, 0, 0],\n",
              "          [0, 0, 0, ..., 0, 0, 0],\n",
              "          [0, 0, 0, ..., 0, 0, 0]],\n",
              "  \n",
              "         ...,\n",
              "  \n",
              "         [[0, 0, 0, ..., 0, 0, 0],\n",
              "          [0, 0, 0, ..., 0, 0, 0],\n",
              "          [0, 0, 0, ..., 0, 0, 0],\n",
              "          ...,\n",
              "          [0, 0, 0, ..., 0, 0, 0],\n",
              "          [0, 0, 0, ..., 0, 0, 0],\n",
              "          [0, 0, 0, ..., 0, 0, 0]],\n",
              "  \n",
              "         [[0, 0, 0, ..., 0, 0, 0],\n",
              "          [0, 0, 0, ..., 0, 0, 0],\n",
              "          [0, 0, 0, ..., 0, 0, 0],\n",
              "          ...,\n",
              "          [0, 0, 0, ..., 0, 0, 0],\n",
              "          [0, 0, 0, ..., 0, 0, 0],\n",
              "          [0, 0, 0, ..., 0, 0, 0]],\n",
              "  \n",
              "         [[0, 0, 0, ..., 0, 0, 0],\n",
              "          [0, 0, 0, ..., 0, 0, 0],\n",
              "          [0, 0, 0, ..., 0, 0, 0],\n",
              "          ...,\n",
              "          [0, 0, 0, ..., 0, 0, 0],\n",
              "          [0, 0, 0, ..., 0, 0, 0],\n",
              "          [0, 0, 0, ..., 0, 0, 0]]], dtype=uint8),\n",
              "  array([9, 0, 0, ..., 3, 0, 5], dtype=uint8)),\n",
              " (array([[[0, 0, 0, ..., 0, 0, 0],\n",
              "          [0, 0, 0, ..., 0, 0, 0],\n",
              "          [0, 0, 0, ..., 0, 0, 0],\n",
              "          ...,\n",
              "          [0, 0, 0, ..., 0, 0, 0],\n",
              "          [0, 0, 0, ..., 0, 0, 0],\n",
              "          [0, 0, 0, ..., 0, 0, 0]],\n",
              "  \n",
              "         [[0, 0, 0, ..., 0, 0, 0],\n",
              "          [0, 0, 0, ..., 0, 0, 0],\n",
              "          [0, 0, 0, ..., 0, 0, 0],\n",
              "          ...,\n",
              "          [0, 0, 0, ..., 0, 0, 0],\n",
              "          [0, 0, 0, ..., 0, 0, 0],\n",
              "          [0, 0, 0, ..., 0, 0, 0]],\n",
              "  \n",
              "         [[0, 0, 0, ..., 0, 0, 0],\n",
              "          [0, 0, 0, ..., 0, 0, 0],\n",
              "          [0, 0, 0, ..., 0, 0, 0],\n",
              "          ...,\n",
              "          [0, 0, 0, ..., 0, 0, 0],\n",
              "          [0, 0, 0, ..., 0, 0, 0],\n",
              "          [0, 0, 0, ..., 0, 0, 0]],\n",
              "  \n",
              "         ...,\n",
              "  \n",
              "         [[0, 0, 0, ..., 0, 0, 0],\n",
              "          [0, 0, 0, ..., 0, 0, 0],\n",
              "          [0, 0, 0, ..., 0, 0, 0],\n",
              "          ...,\n",
              "          [0, 0, 0, ..., 0, 0, 0],\n",
              "          [0, 0, 0, ..., 0, 0, 0],\n",
              "          [0, 0, 0, ..., 0, 0, 0]],\n",
              "  \n",
              "         [[0, 0, 0, ..., 0, 0, 0],\n",
              "          [0, 0, 0, ..., 0, 0, 0],\n",
              "          [0, 0, 0, ..., 0, 0, 0],\n",
              "          ...,\n",
              "          [0, 0, 0, ..., 0, 0, 0],\n",
              "          [0, 0, 0, ..., 0, 0, 0],\n",
              "          [0, 0, 0, ..., 0, 0, 0]],\n",
              "  \n",
              "         [[0, 0, 0, ..., 0, 0, 0],\n",
              "          [0, 0, 0, ..., 0, 0, 0],\n",
              "          [0, 0, 0, ..., 0, 0, 0],\n",
              "          ...,\n",
              "          [0, 0, 0, ..., 0, 0, 0],\n",
              "          [0, 0, 0, ..., 0, 0, 0],\n",
              "          [0, 0, 0, ..., 0, 0, 0]]], dtype=uint8),\n",
              "  array([9, 2, 1, ..., 8, 1, 5], dtype=uint8)))"
            ]
          },
          "metadata": {
            "tags": []
          },
          "execution_count": 3
        }
      ]
    },
    {
      "cell_type": "code",
      "metadata": {
        "id": "XMpD9vsdjshI"
      },
      "source": [
        "X_train = data[0][0]  # X_train\n",
        "y_train = data[0][1]  # y_train\n",
        "X_test = data[1][0]  # X_test\n",
        "y_test = data[1][1]  # y_test"
      ],
      "execution_count": 4,
      "outputs": []
    },
    {
      "cell_type": "code",
      "metadata": {
        "colab": {
          "base_uri": "https://localhost:8080/"
        },
        "id": "v51z_GXqo8oj",
        "outputId": "35372aa5-9781-4ff6-de66-5f8b1f346d9d"
      },
      "source": [
        "print(X_train.shape)  # 데이터 개수, 가로 픽셀수, 세로 픽셀수\n",
        "print(y_train.shape)\n",
        "print(X_test.shape)   # 데이터 개수, 가로 픽셀수, 세로 픽셀수\n",
        "print(y_test.shape)"
      ],
      "execution_count": 5,
      "outputs": [
        {
          "output_type": "stream",
          "text": [
            "(60000, 28, 28)\n",
            "(60000,)\n",
            "(10000, 28, 28)\n",
            "(10000,)\n"
          ],
          "name": "stdout"
        }
      ]
    },
    {
      "cell_type": "code",
      "metadata": {
        "colab": {
          "base_uri": "https://localhost:8080/",
          "height": 265
        },
        "id": "IIwjwh3No8lM",
        "outputId": "127b741c-038a-4792-9b3d-56a29b4946d0"
      },
      "source": [
        "plt.imshow(X_train[59999], cmap ='gray')\n",
        "# imshow: 이미지 데이터를 그림으로 출력해주는 명령\n",
        "plt.show()"
      ],
      "execution_count": 6,
      "outputs": [
        {
          "output_type": "display_data",
          "data": {
            "image/png": "[encoded data removed]",
            "text/plain": [
              "<Figure size 432x288 with 1 Axes>"
            ]
          },
          "metadata": {
            "tags": [],
            "needs_background": "light"
          }
        }
      ]
    },
    {
      "cell_type": "code",
      "metadata": {
        "colab": {
          "base_uri": "https://localhost:8080/"
        },
        "id": "ynIMvCeeo8ib",
        "outputId": "7e4ebbcd-58d9-4f5e-be17-39182d26e6d7"
      },
      "source": [
        "print(X_train)"
      ],
      "execution_count": 7,
      "outputs": [
        {
          "output_type": "stream",
          "text": [
            "[[[0 0 0 ... 0 0 0]\n",
            "  [0 0 0 ... 0 0 0]\n",
            "  [0 0 0 ... 0 0 0]\n",
            "  ...\n",
            "  [0 0 0 ... 0 0 0]\n",
            "  [0 0 0 ... 0 0 0]\n",
            "  [0 0 0 ... 0 0 0]]\n",
            "\n",
            " [[0 0 0 ... 0 0 0]\n",
            "  [0 0 0 ... 0 0 0]\n",
            "  [0 0 0 ... 0 0 0]\n",
            "  ...\n",
            "  [0 0 0 ... 0 0 0]\n",
            "  [0 0 0 ... 0 0 0]\n",
            "  [0 0 0 ... 0 0 0]]\n",
            "\n",
            " [[0 0 0 ... 0 0 0]\n",
            "  [0 0 0 ... 0 0 0]\n",
            "  [0 0 0 ... 0 0 0]\n",
            "  ...\n",
            "  [0 0 0 ... 0 0 0]\n",
            "  [0 0 0 ... 0 0 0]\n",
            "  [0 0 0 ... 0 0 0]]\n",
            "\n",
            " ...\n",
            "\n",
            " [[0 0 0 ... 0 0 0]\n",
            "  [0 0 0 ... 0 0 0]\n",
            "  [0 0 0 ... 0 0 0]\n",
            "  ...\n",
            "  [0 0 0 ... 0 0 0]\n",
            "  [0 0 0 ... 0 0 0]\n",
            "  [0 0 0 ... 0 0 0]]\n",
            "\n",
            " [[0 0 0 ... 0 0 0]\n",
            "  [0 0 0 ... 0 0 0]\n",
            "  [0 0 0 ... 0 0 0]\n",
            "  ...\n",
            "  [0 0 0 ... 0 0 0]\n",
            "  [0 0 0 ... 0 0 0]\n",
            "  [0 0 0 ... 0 0 0]]\n",
            "\n",
            " [[0 0 0 ... 0 0 0]\n",
            "  [0 0 0 ... 0 0 0]\n",
            "  [0 0 0 ... 0 0 0]\n",
            "  ...\n",
            "  [0 0 0 ... 0 0 0]\n",
            "  [0 0 0 ... 0 0 0]\n",
            "  [0 0 0 ... 0 0 0]]]\n"
          ],
          "name": "stdout"
        }
      ]
    },
    {
      "cell_type": "markdown",
      "metadata": {
        "id": "JAcDItStqetW"
      },
      "source": [
        "### 직접 처음부터 모든 단계를 설정해보자!"
      ]
    },
    {
      "cell_type": "code",
      "metadata": {
        "id": "JPq5_g0po8f2"
      },
      "source": [
        "y_train_one_hot = pd.get_dummies(y_train)\n",
        "y_test_one_hot = pd.get_dummies(y_test)"
      ],
      "execution_count": 8,
      "outputs": []
    },
    {
      "cell_type": "code",
      "metadata": {
        "colab": {
          "base_uri": "https://localhost:8080/"
        },
        "id": "qbz5CUZvo8dC",
        "outputId": "5df044a2-8aec-4df6-da58-de60ffddd54f"
      },
      "source": [
        "y_train_one_hot.shape"
      ],
      "execution_count": 9,
      "outputs": [
        {
          "output_type": "execute_result",
          "data": {
            "text/plain": [
              "(60000, 10)"
            ]
          },
          "metadata": {
            "tags": []
          },
          "execution_count": 9
        }
      ]
    },
    {
      "cell_type": "code",
      "metadata": {
        "id": "dRVwhNGWo8aV"
      },
      "source": [
        "# -1은 60000을 제외한 나머지 값들을 다 곱해서 일렬로 퍼줌\n",
        "# X_train = X_train.reshape(60000, -1)\n",
        "# X_test = X_test.reshape(10000, -1)"
      ],
      "execution_count": 11,
      "outputs": []
    },
    {
      "cell_type": "code",
      "metadata": {
        "colab": {
          "base_uri": "https://localhost:8080/"
        },
        "id": "_fa8NlEoq7dc",
        "outputId": "f583aecf-c700-48d3-fa4d-815b9dad9070"
      },
      "source": [
        "# X_train.shape, X_test.shape"
      ],
      "execution_count": 12,
      "outputs": [
        {
          "output_type": "execute_result",
          "data": {
            "text/plain": [
              "((60000, 784), (10000, 784))"
            ]
          },
          "metadata": {
            "tags": []
          },
          "execution_count": 12
        }
      ]
    },
    {
      "cell_type": "code",
      "metadata": {
        "id": "tQWSQ_NR7R60"
      },
      "source": [
        "# train_test_split : 무조건 train, test 셋만 나눠주는게 아니라 데이터를 일정 비율로 랜덤하게 나누어주는 명령\n",
        "from sklearn.model_selection import train_test_split"
      ],
      "execution_count": 42,
      "outputs": []
    },
    {
      "cell_type": "code",
      "metadata": {
        "id": "pH3_-9wY7Mq4"
      },
      "source": [
        "X_train, X_val, y_train_one_hot, y_val_one_hot = train_test_split(X_train, \n",
        "                                                                  y_train_one_hot,\n",
        "                                                                  random_state = 3\n",
        "                                                                  )"
      ],
      "execution_count": 43,
      "outputs": []
    },
    {
      "cell_type": "code",
      "metadata": {
        "id": "HWwcFKnxrDJj"
      },
      "source": [
        "# 딥러닝을 위한 라이브러리를 임포트\n",
        "from tensorflow.keras import Sequential  # 신경망의 뼈대를 구성\n",
        "from tensorflow.keras.layers import Dense   # 신경망의 층을 구성\n",
        "from tensorflow.keras.layers import Flatten # Flatten: 데이터를 1차원으로 자동으로 펴주는 모듈\n",
        "from tensorflow.keras.layers import InputLayer,Dense"
      ],
      "execution_count": 44,
      "outputs": []
    },
    {
      "cell_type": "code",
      "metadata": {
        "colab": {
          "base_uri": "https://localhost:8080/"
        },
        "id": "89e2e4qxrDHH",
        "outputId": "897d96d9-bdab-4da2-84a5-adc909f08ae7"
      },
      "source": [
        "# 신경망의 뼈대를 설정\n",
        "model = Sequential()\n",
        "\n",
        "# Flatten 명령을 통해서 한번에 바로 2차원 이미지 데이터를 1차원으로 펴줌\n",
        "model.add (Flatten(input_shape = (28,28)))\n",
        "# 입력층 + 중간층\n",
        "# input_dim : 데이터 특성의 개수\n",
        "# activation: 활성화 함수를 설정 (들어온 자극 (데이터)에 대한 응답여부를 결정하는 함수)\n",
        "model.add(Dense(500, activation=\"sigmoid\"))\n",
        "\n",
        "# 중간층\n",
        "model.add(Dense(500,activation=\"sigmoid\"))   # 하나의 층\n",
        "model.add(Dense(300, activation=\"sigmoid\"))   # 하나의 층\n",
        "model.add(Dense(100, activation=\"sigmoid\"))   # 하나의 층\n",
        "\n",
        "\n",
        "# 출력층\n",
        "model.add(Dense(10, activation=\"softmax\"))   # 0~9까지의 정답레이블 (10개)\n",
        "\n",
        "model.summary()"
      ],
      "execution_count": 45,
      "outputs": [
        {
          "output_type": "stream",
          "text": [
            "Model: \"sequential_5\"\n",
            "_________________________________________________________________\n",
            "Layer (type)                 Output Shape              Param #   \n",
            "=================================================================\n",
            "flatten_1 (Flatten)          (None, 784)               0         \n",
            "_________________________________________________________________\n",
            "dense_14 (Dense)             (None, 500)               392500    \n",
            "_________________________________________________________________\n",
            "dense_15 (Dense)             (None, 500)               250500    \n",
            "_________________________________________________________________\n",
            "dense_16 (Dense)             (None, 300)               150300    \n",
            "_________________________________________________________________\n",
            "dense_17 (Dense)             (None, 100)               30100     \n",
            "_________________________________________________________________\n",
            "dense_18 (Dense)             (None, 10)                1010      \n",
            "=================================================================\n",
            "Total params: 824,410\n",
            "Trainable params: 824,410\n",
            "Non-trainable params: 0\n",
            "_________________________________________________________________\n"
          ],
          "name": "stdout"
        }
      ]
    },
    {
      "cell_type": "code",
      "metadata": {
        "id": "FKB7GE4qrDEg"
      },
      "source": [
        "# 2. 학습/ 평가 방법 설정\n",
        "model.compile(loss =\"categorical_crossentropy\",\n",
        "               optimizer = 'Adam',            # Adam : 최근에 가장 많이 사용되는 성능이 높은 최적화 함수\n",
        "               metrics = [\"acc\"]               # metrics: 평가 방법을 설정 (분류 문제이기 때문에 정확도(acc)를 확인)\n",
        "               )"
      ],
      "execution_count": 46,
      "outputs": []
    },
    {
      "cell_type": "code",
      "metadata": {
        "colab": {
          "base_uri": "https://localhost:8080/"
        },
        "id": "d7p84R7arDB9",
        "outputId": "630a38f6-771f-4a26-d903-150303368dd6"
      },
      "source": [
        "h = model.fit(X_train, \n",
        "              y_train_one_hot,\n",
        "              validation_data = (X_val, y_val_one_hot), \n",
        "              epochs=30, \n",
        "              verbose =1)\n",
        "# verbose: 학습 결과의 출력 형태를 설정하는 명령 (0: 출력 x, 1: bar 형태 (디폴트 값), 2: bar가 없는 형태로 출력)"
      ],
      "execution_count": 48,
      "outputs": [
        {
          "output_type": "stream",
          "text": [
            "Epoch 1/30\n",
            "1407/1407 [==============================] - 6s 5ms/step - loss: 0.8365 - acc: 0.6749 - val_loss: 0.8001 - val_acc: 0.6641\n",
            "Epoch 2/30\n",
            "1407/1407 [==============================] - 6s 5ms/step - loss: 0.7928 - acc: 0.6844 - val_loss: 0.7811 - val_acc: 0.7003\n",
            "Epoch 3/30\n",
            "1407/1407 [==============================] - 6s 4ms/step - loss: 0.7680 - acc: 0.6968 - val_loss: 0.7353 - val_acc: 0.7143\n",
            "Epoch 4/30\n",
            "1407/1407 [==============================] - 6s 4ms/step - loss: 0.7615 - acc: 0.6972 - val_loss: 0.7303 - val_acc: 0.7269\n",
            "Epoch 5/30\n",
            "1407/1407 [==============================] - 6s 4ms/step - loss: 0.7379 - acc: 0.7097 - val_loss: 0.6966 - val_acc: 0.7399\n",
            "Epoch 6/30\n",
            "1407/1407 [==============================] - 6s 5ms/step - loss: 0.6971 - acc: 0.7273 - val_loss: 0.7443 - val_acc: 0.7109\n",
            "Epoch 7/30\n",
            "1407/1407 [==============================] - 6s 4ms/step - loss: 0.6977 - acc: 0.7283 - val_loss: 0.6510 - val_acc: 0.7473\n",
            "Epoch 8/30\n",
            "1407/1407 [==============================] - 6s 4ms/step - loss: 0.6797 - acc: 0.7333 - val_loss: 0.7846 - val_acc: 0.7076\n",
            "Epoch 9/30\n",
            "1407/1407 [==============================] - 6s 4ms/step - loss: 0.6856 - acc: 0.7341 - val_loss: 0.6660 - val_acc: 0.7423\n",
            "Epoch 10/30\n",
            "1407/1407 [==============================] - 6s 4ms/step - loss: 0.6666 - acc: 0.7381 - val_loss: 0.6337 - val_acc: 0.7544\n",
            "Epoch 11/30\n",
            "1407/1407 [==============================] - 6s 4ms/step - loss: 0.6796 - acc: 0.7394 - val_loss: 0.6837 - val_acc: 0.7398\n",
            "Epoch 12/30\n",
            "1407/1407 [==============================] - 6s 5ms/step - loss: 0.6617 - acc: 0.7431 - val_loss: 0.6368 - val_acc: 0.7529\n",
            "Epoch 13/30\n",
            "1407/1407 [==============================] - 6s 4ms/step - loss: 0.6539 - acc: 0.7456 - val_loss: 0.6527 - val_acc: 0.7487\n",
            "Epoch 14/30\n",
            "1407/1407 [==============================] - 6s 5ms/step - loss: 0.6839 - acc: 0.7297 - val_loss: 0.6340 - val_acc: 0.7663\n",
            "Epoch 15/30\n",
            "1407/1407 [==============================] - 6s 5ms/step - loss: 0.6308 - acc: 0.7518 - val_loss: 0.6658 - val_acc: 0.7399\n",
            "Epoch 16/30\n",
            "1407/1407 [==============================] - 6s 5ms/step - loss: 0.6476 - acc: 0.7479 - val_loss: 0.6392 - val_acc: 0.7534\n",
            "Epoch 17/30\n",
            "1407/1407 [==============================] - 6s 4ms/step - loss: 0.6400 - acc: 0.7508 - val_loss: 0.6017 - val_acc: 0.7719\n",
            "Epoch 18/30\n",
            "1407/1407 [==============================] - 6s 4ms/step - loss: 0.6276 - acc: 0.7570 - val_loss: 0.5977 - val_acc: 0.7743\n",
            "Epoch 19/30\n",
            "1407/1407 [==============================] - 6s 5ms/step - loss: 0.6209 - acc: 0.7573 - val_loss: 0.6050 - val_acc: 0.7593\n",
            "Epoch 20/30\n",
            "1407/1407 [==============================] - 6s 4ms/step - loss: 0.6212 - acc: 0.7551 - val_loss: 0.6337 - val_acc: 0.7399\n",
            "Epoch 21/30\n",
            "1407/1407 [==============================] - 6s 5ms/step - loss: 0.6435 - acc: 0.7379 - val_loss: 0.6370 - val_acc: 0.7311\n",
            "Epoch 22/30\n",
            "1407/1407 [==============================] - 6s 4ms/step - loss: 0.6392 - acc: 0.7488 - val_loss: 0.6851 - val_acc: 0.7441\n",
            "Epoch 23/30\n",
            "1407/1407 [==============================] - 6s 4ms/step - loss: 0.6213 - acc: 0.7531 - val_loss: 0.6033 - val_acc: 0.7535\n",
            "Epoch 24/30\n",
            "1407/1407 [==============================] - 6s 4ms/step - loss: 0.6038 - acc: 0.7635 - val_loss: 0.6020 - val_acc: 0.7654\n",
            "Epoch 25/30\n",
            "1407/1407 [==============================] - 6s 4ms/step - loss: 0.6062 - acc: 0.7577 - val_loss: 0.6068 - val_acc: 0.7632\n",
            "Epoch 26/30\n",
            "1407/1407 [==============================] - 6s 4ms/step - loss: 0.6020 - acc: 0.7595 - val_loss: 0.6484 - val_acc: 0.7336\n",
            "Epoch 27/30\n",
            "1407/1407 [==============================] - 6s 4ms/step - loss: 0.5992 - acc: 0.7659 - val_loss: 0.5796 - val_acc: 0.7793\n",
            "Epoch 28/30\n",
            "1407/1407 [==============================] - 6s 5ms/step - loss: 0.6076 - acc: 0.7608 - val_loss: 0.5948 - val_acc: 0.7648\n",
            "Epoch 29/30\n",
            "1407/1407 [==============================] - 6s 4ms/step - loss: 0.6138 - acc: 0.7564 - val_loss: 0.6426 - val_acc: 0.7447\n",
            "Epoch 30/30\n",
            "1407/1407 [==============================] - 6s 4ms/step - loss: 0.6098 - acc: 0.7564 - val_loss: 0.6432 - val_acc: 0.7504\n"
          ],
          "name": "stdout"
        }
      ]
    },
    {
      "cell_type": "code",
      "metadata": {
        "colab": {
          "base_uri": "https://localhost:8080/",
          "height": 320
        },
        "id": "vpBkZH0RrC_V",
        "outputId": "18616e64-4d0b-4ab5-eba4-ed53cec896d5"
      },
      "source": [
        "# 시각화\n",
        "\n",
        "plt.figure(figsize=(15,5))\n",
        "\n",
        "# train 데이터\n",
        "plt.plot(range(1,31),\n",
        "         h.history['acc'],\n",
        "         label ='acc'\n",
        "         )\n",
        "# val 데이터\n",
        "plt.plot(range(1,31),\n",
        "         h.history['val_acc'],\n",
        "         label ='val_acc'\n",
        "         )\n",
        "\n",
        "\n",
        "\n",
        "plt.legend()\n",
        "plt.show()"
      ],
      "execution_count": 51,
      "outputs": [
        {
          "output_type": "display_data",
          "data": {
            "image/png": "[encoded data removed]",
            "text/plain": [
              "<Figure size 1080x360 with 1 Axes>"
            ]
          },
          "metadata": {
            "tags": [],
            "needs_background": "light"
          }
        }
      ]
    },
    {
      "cell_type": "code",
      "metadata": {
        "colab": {
          "base_uri": "https://localhost:8080/",
          "height": 320
        },
        "id": "hZMGGiyt2f9D",
        "outputId": "7ee4f21c-4130-43e5-ed66-8277be463daa"
      },
      "source": [
        "# loss 시각화\n",
        "\n",
        "plt.figure(figsize=(15,5))\n",
        "\n",
        "# train 데이터\n",
        "plt.plot(range(1,31),\n",
        "         h.history['loss'],\n",
        "         label ='loss'\n",
        "         )\n",
        "\n",
        "# val 데이터\n",
        "plt.plot(range(1,31),\n",
        "         h.history['val_loss'],\n",
        "         label ='val_loss'\n",
        "         )\n",
        "\n",
        "\n",
        "\n",
        "plt.legend()\n",
        "plt.show()"
      ],
      "execution_count": 52,
      "outputs": [
        {
          "output_type": "display_data",
          "data": {
            "image/png": "[encoded data removed]",
            "text/plain": [
              "<Figure size 1080x360 with 1 Axes>"
            ]
          },
          "metadata": {
            "tags": [],
            "needs_background": "light"
          }
        }
      ]
    },
    {
      "cell_type": "code",
      "metadata": {
        "colab": {
          "base_uri": "https://localhost:8080/"
        },
        "id": "8tow7wlprC8n",
        "outputId": "7d0c68ea-1d69-48e6-f64b-e9b8893d5d65"
      },
      "source": [
        "# 모델 평가\n",
        "model.evaluate(X_test,y_test_one_hot)"
      ],
      "execution_count": 53,
      "outputs": [
        {
          "output_type": "stream",
          "text": [
            "313/313 [==============================] - 1s 3ms/step - loss: 0.6612 - acc: 0.7484\n"
          ],
          "name": "stdout"
        },
        {
          "output_type": "execute_result",
          "data": {
            "text/plain": [
              "[0.6611799597740173, 0.7483999729156494]"
            ]
          },
          "metadata": {
            "tags": []
          },
          "execution_count": 53
        }
      ]
    },
    {
      "cell_type": "code",
      "metadata": {
        "id": "baAvwswLrC53"
      },
      "source": [
        ""
      ],
      "execution_count": null,
      "outputs": []
    }
  ]
}