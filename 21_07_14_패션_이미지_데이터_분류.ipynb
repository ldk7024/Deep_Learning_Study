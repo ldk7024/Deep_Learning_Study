{
  "nbformat": 4,
  "nbformat_minor": 0,
  "metadata": {
    "colab": {
      "name": "21.07.14_패션 이미지 데이터 분류",
      "provenance": [],
      "collapsed_sections": [],
      "mount_file_id": "1xYZq0FK777_G8Saoxdk4_cePFCHMUFfC",
      "authorship_tag": "ABX9TyOyHyLvZ1mzWfv7TPGNeq0s",
      "include_colab_link": true
    },
    "kernelspec": {
      "name": "python3",
      "display_name": "Python 3"
    },
    "language_info": {
      "name": "python"
    },
    "accelerator": "GPU"
  },
  "cells": [
    {
      "cell_type": "markdown",
      "metadata": {
        "id": "view-in-github",
        "colab_type": "text"
      },
      "source": [
        "<a href=\"https://colab.research.google.com/github/ldk7024/Deep_Learning_Study/blob/main/21_07_14_%ED%8C%A8%EC%85%98_%EC%9D%B4%EB%AF%B8%EC%A7%80_%EB%8D%B0%EC%9D%B4%ED%84%B0_%EB%B6%84%EB%A5%98.ipynb\" target=\"_parent\"><img src=\"https://colab.research.google.com/assets/colab-badge.svg\" alt=\"Open In Colab\"/></a>"
      ]
    },
    {
      "cell_type": "markdown",
      "metadata": {
        "id": "aUo8lE7vATmm"
      },
      "source": [
        "### 목표\n",
        "- 패션 이미지 데이터 (10가지)를 분류하는 모델을 만들어보자!"
      ]
    },
    {
      "cell_type": "code",
      "metadata": {
        "id": "cpjyS72vAPTv"
      },
      "source": [
        "import numpy as np\n",
        "import pandas as pd\n",
        "import matplotlib.pyplot as plt\n",
        "from tensorflow.keras.datasets import fashion_mnist"
      ],
      "execution_count": 2,
      "outputs": []
    },
    {
      "cell_type": "code",
      "metadata": {
        "colab": {
          "base_uri": "https://localhost:8080/"
        },
        "id": "CTeT99jRjsjy",
        "outputId": "4e9db727-18b2-4576-b2b5-337d34a697a8"
      },
      "source": [
        "data = fashion_mnist.load_data()\n",
        "data"
      ],
      "execution_count": 3,
      "outputs": [
        {
          "output_type": "stream",
          "text": [
            "Downloading data from https://storage.googleapis.com/tensorflow/tf-keras-datasets/train-labels-idx1-ubyte.gz\n",
            "32768/29515 [=================================] - 0s 0us/step\n",
            "Downloading data from https://storage.googleapis.com/tensorflow/tf-keras-datasets/train-images-idx3-ubyte.gz\n",
            "26427392/26421880 [==============================] - 0s 0us/step\n",
            "Downloading data from https://storage.googleapis.com/tensorflow/tf-keras-datasets/t10k-labels-idx1-ubyte.gz\n",
            "8192/5148 [===============================================] - 0s 0us/step\n",
            "Downloading data from https://storage.googleapis.com/tensorflow/tf-keras-datasets/t10k-images-idx3-ubyte.gz\n",
            "4423680/4422102 [==============================] - 0s 0us/step\n"
          ],
          "name": "stdout"
        },
        {
          "output_type": "execute_result",
          "data": {
            "text/plain": [
              "((array([[[0, 0, 0, ..., 0, 0, 0],\n",
              "          [0, 0, 0, ..., 0, 0, 0],\n",
              "          [0, 0, 0, ..., 0, 0, 0],\n",
              "          ...,\n",
              "          [0, 0, 0, ..., 0, 0, 0],\n",
              "          [0, 0, 0, ..., 0, 0, 0],\n",
              "          [0, 0, 0, ..., 0, 0, 0]],\n",
              "  \n",
              "         [[0, 0, 0, ..., 0, 0, 0],\n",
              "          [0, 0, 0, ..., 0, 0, 0],\n",
              "          [0, 0, 0, ..., 0, 0, 0],\n",
              "          ...,\n",
              "          [0, 0, 0, ..., 0, 0, 0],\n",
              "          [0, 0, 0, ..., 0, 0, 0],\n",
              "          [0, 0, 0, ..., 0, 0, 0]],\n",
              "  \n",
              "         [[0, 0, 0, ..., 0, 0, 0],\n",
              "          [0, 0, 0, ..., 0, 0, 0],\n",
              "          [0, 0, 0, ..., 0, 0, 0],\n",
              "          ...,\n",
              "          [0, 0, 0, ..., 0, 0, 0],\n",
              "          [0, 0, 0, ..., 0, 0, 0],\n",
              "          [0, 0, 0, ..., 0, 0, 0]],\n",
              "  \n",
              "         ...,\n",
              "  \n",
              "         [[0, 0, 0, ..., 0, 0, 0],\n",
              "          [0, 0, 0, ..., 0, 0, 0],\n",
              "          [0, 0, 0, ..., 0, 0, 0],\n",
              "          ...,\n",
              "          [0, 0, 0, ..., 0, 0, 0],\n",
              "          [0, 0, 0, ..., 0, 0, 0],\n",
              "          [0, 0, 0, ..., 0, 0, 0]],\n",
              "  \n",
              "         [[0, 0, 0, ..., 0, 0, 0],\n",
              "          [0, 0, 0, ..., 0, 0, 0],\n",
              "          [0, 0, 0, ..., 0, 0, 0],\n",
              "          ...,\n",
              "          [0, 0, 0, ..., 0, 0, 0],\n",
              "          [0, 0, 0, ..., 0, 0, 0],\n",
              "          [0, 0, 0, ..., 0, 0, 0]],\n",
              "  \n",
              "         [[0, 0, 0, ..., 0, 0, 0],\n",
              "          [0, 0, 0, ..., 0, 0, 0],\n",
              "          [0, 0, 0, ..., 0, 0, 0],\n",
              "          ...,\n",
              "          [0, 0, 0, ..., 0, 0, 0],\n",
              "          [0, 0, 0, ..., 0, 0, 0],\n",
              "          [0, 0, 0, ..., 0, 0, 0]]], dtype=uint8),\n",
              "  array([9, 0, 0, ..., 3, 0, 5], dtype=uint8)),\n",
              " (array([[[0, 0, 0, ..., 0, 0, 0],\n",
              "          [0, 0, 0, ..., 0, 0, 0],\n",
              "          [0, 0, 0, ..., 0, 0, 0],\n",
              "          ...,\n",
              "          [0, 0, 0, ..., 0, 0, 0],\n",
              "          [0, 0, 0, ..., 0, 0, 0],\n",
              "          [0, 0, 0, ..., 0, 0, 0]],\n",
              "  \n",
              "         [[0, 0, 0, ..., 0, 0, 0],\n",
              "          [0, 0, 0, ..., 0, 0, 0],\n",
              "          [0, 0, 0, ..., 0, 0, 0],\n",
              "          ...,\n",
              "          [0, 0, 0, ..., 0, 0, 0],\n",
              "          [0, 0, 0, ..., 0, 0, 0],\n",
              "          [0, 0, 0, ..., 0, 0, 0]],\n",
              "  \n",
              "         [[0, 0, 0, ..., 0, 0, 0],\n",
              "          [0, 0, 0, ..., 0, 0, 0],\n",
              "          [0, 0, 0, ..., 0, 0, 0],\n",
              "          ...,\n",
              "          [0, 0, 0, ..., 0, 0, 0],\n",
              "          [0, 0, 0, ..., 0, 0, 0],\n",
              "          [0, 0, 0, ..., 0, 0, 0]],\n",
              "  \n",
              "         ...,\n",
              "  \n",
              "         [[0, 0, 0, ..., 0, 0, 0],\n",
              "          [0, 0, 0, ..., 0, 0, 0],\n",
              "          [0, 0, 0, ..., 0, 0, 0],\n",
              "          ...,\n",
              "          [0, 0, 0, ..., 0, 0, 0],\n",
              "          [0, 0, 0, ..., 0, 0, 0],\n",
              "          [0, 0, 0, ..., 0, 0, 0]],\n",
              "  \n",
              "         [[0, 0, 0, ..., 0, 0, 0],\n",
              "          [0, 0, 0, ..., 0, 0, 0],\n",
              "          [0, 0, 0, ..., 0, 0, 0],\n",
              "          ...,\n",
              "          [0, 0, 0, ..., 0, 0, 0],\n",
              "          [0, 0, 0, ..., 0, 0, 0],\n",
              "          [0, 0, 0, ..., 0, 0, 0]],\n",
              "  \n",
              "         [[0, 0, 0, ..., 0, 0, 0],\n",
              "          [0, 0, 0, ..., 0, 0, 0],\n",
              "          [0, 0, 0, ..., 0, 0, 0],\n",
              "          ...,\n",
              "          [0, 0, 0, ..., 0, 0, 0],\n",
              "          [0, 0, 0, ..., 0, 0, 0],\n",
              "          [0, 0, 0, ..., 0, 0, 0]]], dtype=uint8),\n",
              "  array([9, 2, 1, ..., 8, 1, 5], dtype=uint8)))"
            ]
          },
          "metadata": {
            "tags": []
          },
          "execution_count": 3
        }
      ]
    },
    {
      "cell_type": "code",
      "metadata": {
        "id": "XMpD9vsdjshI"
      },
      "source": [
        "X_train = data[0][0]  # X_train\n",
        "y_train = data[0][1]  # y_train\n",
        "X_test = data[1][0]  # X_test\n",
        "y_test = data[1][1]  # y_test"
      ],
      "execution_count": 4,
      "outputs": []
    },
    {
      "cell_type": "code",
      "metadata": {
        "colab": {
          "base_uri": "https://localhost:8080/"
        },
        "id": "v51z_GXqo8oj",
        "outputId": "35372aa5-9781-4ff6-de66-5f8b1f346d9d"
      },
      "source": [
        "print(X_train.shape)  # 데이터 개수, 가로 픽셀수, 세로 픽셀수\n",
        "print(y_train.shape)\n",
        "print(X_test.shape)   # 데이터 개수, 가로 픽셀수, 세로 픽셀수\n",
        "print(y_test.shape)"
      ],
      "execution_count": 5,
      "outputs": [
        {
          "output_type": "stream",
          "text": [
            "(60000, 28, 28)\n",
            "(60000,)\n",
            "(10000, 28, 28)\n",
            "(10000,)\n"
          ],
          "name": "stdout"
        }
      ]
    },
    {
      "cell_type": "code",
      "metadata": {
        "colab": {
          "base_uri": "https://localhost:8080/",
          "height": 265
        },
        "id": "IIwjwh3No8lM",
        "outputId": "127b741c-038a-4792-9b3d-56a29b4946d0"
      },
      "source": [
        "plt.imshow(X_train[59999], cmap ='gray')\n",
        "# imshow: 이미지 데이터를 그림으로 출력해주는 명령\n",
        "plt.show()"
      ],
      "execution_count": 6,
      "outputs": [
        {
          "output_type": "display_data",
          "data": {
            "image/png": "[encoded data removed]",
            "text/plain": [
              "<Figure size 432x288 with 1 Axes>"
            ]
          },
          "metadata": {
            "tags": [],
            "needs_background": "light"
          }
        }
      ]
    },
    {
      "cell_type": "code",
      "metadata": {
        "colab": {
          "base_uri": "https://localhost:8080/"
        },
        "id": "ynIMvCeeo8ib",
        "outputId": "7e4ebbcd-58d9-4f5e-be17-39182d26e6d7"
      },
      "source": [
        "print(X_train)"
      ],
      "execution_count": 7,
      "outputs": [
        {
          "output_type": "stream",
          "text": [
            "[[[0 0 0 ... 0 0 0]\n",
            "  [0 0 0 ... 0 0 0]\n",
            "  [0 0 0 ... 0 0 0]\n",
            "  ...\n",
            "  [0 0 0 ... 0 0 0]\n",
            "  [0 0 0 ... 0 0 0]\n",
            "  [0 0 0 ... 0 0 0]]\n",
            "\n",
            " [[0 0 0 ... 0 0 0]\n",
            "  [0 0 0 ... 0 0 0]\n",
            "  [0 0 0 ... 0 0 0]\n",
            "  ...\n",
            "  [0 0 0 ... 0 0 0]\n",
            "  [0 0 0 ... 0 0 0]\n",
            "  [0 0 0 ... 0 0 0]]\n",
            "\n",
            " [[0 0 0 ... 0 0 0]\n",
            "  [0 0 0 ... 0 0 0]\n",
            "  [0 0 0 ... 0 0 0]\n",
            "  ...\n",
            "  [0 0 0 ... 0 0 0]\n",
            "  [0 0 0 ... 0 0 0]\n",
            "  [0 0 0 ... 0 0 0]]\n",
            "\n",
            " ...\n",
            "\n",
            " [[0 0 0 ... 0 0 0]\n",
            "  [0 0 0 ... 0 0 0]\n",
            "  [0 0 0 ... 0 0 0]\n",
            "  ...\n",
            "  [0 0 0 ... 0 0 0]\n",
            "  [0 0 0 ... 0 0 0]\n",
            "  [0 0 0 ... 0 0 0]]\n",
            "\n",
            " [[0 0 0 ... 0 0 0]\n",
            "  [0 0 0 ... 0 0 0]\n",
            "  [0 0 0 ... 0 0 0]\n",
            "  ...\n",
            "  [0 0 0 ... 0 0 0]\n",
            "  [0 0 0 ... 0 0 0]\n",
            "  [0 0 0 ... 0 0 0]]\n",
            "\n",
            " [[0 0 0 ... 0 0 0]\n",
            "  [0 0 0 ... 0 0 0]\n",
            "  [0 0 0 ... 0 0 0]\n",
            "  ...\n",
            "  [0 0 0 ... 0 0 0]\n",
            "  [0 0 0 ... 0 0 0]\n",
            "  [0 0 0 ... 0 0 0]]]\n"
          ],
          "name": "stdout"
        }
      ]
    },
    {
      "cell_type": "markdown",
      "metadata": {
        "id": "JAcDItStqetW"
      },
      "source": [
        "### 직접 처음부터 모든 단계를 설정해보자!"
      ]
    },
    {
      "cell_type": "code",
      "metadata": {
        "id": "JPq5_g0po8f2"
      },
      "source": [
        "y_train_one_hot = pd.get_dummies(y_train)\n",
        "y_test_one_hot = pd.get_dummies(y_test)"
      ],
      "execution_count": 8,
      "outputs": []
    },
    {
      "cell_type": "code",
      "metadata": {
        "colab": {
          "base_uri": "https://localhost:8080/"
        },
        "id": "qbz5CUZvo8dC",
        "outputId": "5df044a2-8aec-4df6-da58-de60ffddd54f"
      },
      "source": [
        "y_train_one_hot.shape"
      ],
      "execution_count": 9,
      "outputs": [
        {
          "output_type": "execute_result",
          "data": {
            "text/plain": [
              "(60000, 10)"
            ]
          },
          "metadata": {
            "tags": []
          },
          "execution_count": 9
        }
      ]
    },
    {
      "cell_type": "code",
      "metadata": {
        "id": "dRVwhNGWo8aV"
      },
      "source": [
        "# -1은 60000을 제외한 나머지 값들을 다 곱해서 일렬로 퍼줌\n",
        "# X_train = X_train.reshape(60000, -1)\n",
        "# X_test = X_test.reshape(10000, -1)"
      ],
      "execution_count": 11,
      "outputs": []
    },
    {
      "cell_type": "code",
      "metadata": {
        "colab": {
          "base_uri": "https://localhost:8080/"
        },
        "id": "_fa8NlEoq7dc",
        "outputId": "f583aecf-c700-48d3-fa4d-815b9dad9070"
      },
      "source": [
        "# X_train.shape, X_test.shape"
      ],
      "execution_count": 12,
      "outputs": [
        {
          "output_type": "execute_result",
          "data": {
            "text/plain": [
              "((60000, 784), (10000, 784))"
            ]
          },
          "metadata": {
            "tags": []
          },
          "execution_count": 12
        }
      ]
    },
    {
      "cell_type": "code",
      "metadata": {
        "id": "HWwcFKnxrDJj"
      },
      "source": [
        "# 딥러닝을 위한 라이브러리를 임포트\n",
        "from tensorflow.keras import Sequential  # 신경망의 뼈대를 구성\n",
        "from tensorflow.keras.layers import Dense   # 신경망의 층을 구성\n",
        "from tensorflow.keras.layers import Flatten # Flatten: 데이터를 1차원으로 자동으로 펴주는 모듈\n",
        "from tensorflow.keras.layers import InputLayer,Dense"
      ],
      "execution_count": 31,
      "outputs": []
    },
    {
      "cell_type": "code",
      "metadata": {
        "colab": {
          "base_uri": "https://localhost:8080/"
        },
        "id": "89e2e4qxrDHH",
        "outputId": "e585c851-8fd2-4f26-d7f4-5f2bfcba93ca"
      },
      "source": [
        "# 신경망의 뼈대를 설정\n",
        "model = Sequential()\n",
        "\n",
        "# Flatten 명령을 통해서 한번에 바로 2차원 이미지 데이터를 1차원으로 펴줌\n",
        "model.add (Flatten(input_shape = (28,28)))\n",
        "# 입력층 + 중간층\n",
        "# input_dim : 데이터 특성의 개수\n",
        "# activation: 활성화 함수를 설정 (들어온 자극 (데이터)에 대한 응답여부를 결정하는 함수)\n",
        "model.add(Dense(500, activation=\"sigmoid\"))\n",
        "\n",
        "# 중간층\n",
        "model.add(Dense(500,activation=\"sigmoid\"))   # 하나의 층\n",
        "model.add(Dense(300, activation=\"sigmoid\"))   # 하나의 층\n",
        "model.add(Dense(100, activation=\"sigmoid\"))   # 하나의 층\n",
        "\n",
        "\n",
        "# 출력층\n",
        "model.add(Dense(10, activation=\"softmax\"))   # 0~9까지의 정답레이블 (10개)\n",
        "\n",
        "model.summary()"
      ],
      "execution_count": 32,
      "outputs": [
        {
          "output_type": "stream",
          "text": [
            "Model: \"sequential_4\"\n",
            "_________________________________________________________________\n",
            "Layer (type)                 Output Shape              Param #   \n",
            "=================================================================\n",
            "flatten (Flatten)            (None, 784)               0         \n",
            "_________________________________________________________________\n",
            "dense_9 (Dense)              (None, 500)               392500    \n",
            "_________________________________________________________________\n",
            "dense_10 (Dense)             (None, 500)               250500    \n",
            "_________________________________________________________________\n",
            "dense_11 (Dense)             (None, 300)               150300    \n",
            "_________________________________________________________________\n",
            "dense_12 (Dense)             (None, 100)               30100     \n",
            "_________________________________________________________________\n",
            "dense_13 (Dense)             (None, 10)                1010      \n",
            "=================================================================\n",
            "Total params: 824,410\n",
            "Trainable params: 824,410\n",
            "Non-trainable params: 0\n",
            "_________________________________________________________________\n"
          ],
          "name": "stdout"
        }
      ]
    },
    {
      "cell_type": "code",
      "metadata": {
        "id": "FKB7GE4qrDEg"
      },
      "source": [
        "# 2. 학습/ 평가 방법 설정\n",
        "model.compile(loss =\"categorical_crossentropy\",\n",
        "               optimizer = 'Adam',            # Adam : 최근에 가장 많이 사용되는 성능이 높은 최적화 함수\n",
        "               metrics = [\"acc\"]               # metrics: 평가 방법을 설정 (분류 문제이기 때문에 정확도(acc)를 확인)\n",
        "               )"
      ],
      "execution_count": 34,
      "outputs": []
    },
    {
      "cell_type": "code",
      "metadata": {
        "colab": {
          "base_uri": "https://localhost:8080/"
        },
        "id": "d7p84R7arDB9",
        "outputId": "89d6b42b-1d9c-4ef7-c0f2-5543fd557ac0"
      },
      "source": [
        "h = model.fit(X_train, \n",
        "              y_train_one_hot, \n",
        "              epochs=70, \n",
        "              verbose =2)\n",
        "# verbose: 학습 결과의 출력 형태를 설정하는 명령 (0: 출력 x, 1: bar 형태 (디폴트 값), 2: bar가 없는 형태로 출력)"
      ],
      "execution_count": 37,
      "outputs": [
        {
          "output_type": "stream",
          "text": [
            "Epoch 1/70\n",
            "1875/1875 - 4s - loss: 0.6977 - acc: 0.7325\n",
            "Epoch 2/70\n",
            "1875/1875 - 4s - loss: 0.6929 - acc: 0.7348\n",
            "Epoch 3/70\n",
            "1875/1875 - 4s - loss: 0.6616 - acc: 0.7446\n",
            "Epoch 4/70\n",
            "1875/1875 - 4s - loss: 0.6511 - acc: 0.7474\n",
            "Epoch 5/70\n",
            "1875/1875 - 4s - loss: 0.6417 - acc: 0.7516\n",
            "Epoch 6/70\n",
            "1875/1875 - 4s - loss: 0.6305 - acc: 0.7566\n",
            "Epoch 7/70\n",
            "1875/1875 - 4s - loss: 0.6392 - acc: 0.7504\n",
            "Epoch 8/70\n",
            "1875/1875 - 4s - loss: 0.6388 - acc: 0.7477\n",
            "Epoch 9/70\n",
            "1875/1875 - 4s - loss: 0.6253 - acc: 0.7576\n",
            "Epoch 10/70\n",
            "1875/1875 - 4s - loss: 0.6308 - acc: 0.7557\n",
            "Epoch 11/70\n",
            "1875/1875 - 4s - loss: 0.6276 - acc: 0.7556\n",
            "Epoch 12/70\n",
            "1875/1875 - 4s - loss: 0.6322 - acc: 0.7562\n",
            "Epoch 13/70\n",
            "1875/1875 - 4s - loss: 0.6194 - acc: 0.7600\n",
            "Epoch 14/70\n",
            "1875/1875 - 4s - loss: 0.6082 - acc: 0.7667\n",
            "Epoch 15/70\n",
            "1875/1875 - 4s - loss: 0.5929 - acc: 0.7730\n",
            "Epoch 16/70\n",
            "1875/1875 - 4s - loss: 0.5831 - acc: 0.7786\n",
            "Epoch 17/70\n",
            "1875/1875 - 4s - loss: 0.5902 - acc: 0.7721\n",
            "Epoch 18/70\n",
            "1875/1875 - 4s - loss: 0.5919 - acc: 0.7694\n",
            "Epoch 19/70\n",
            "1875/1875 - 4s - loss: 0.5807 - acc: 0.7724\n",
            "Epoch 20/70\n",
            "1875/1875 - 4s - loss: 0.5732 - acc: 0.7764\n",
            "Epoch 21/70\n",
            "1875/1875 - 4s - loss: 0.5755 - acc: 0.7800\n",
            "Epoch 22/70\n",
            "1875/1875 - 4s - loss: 0.5805 - acc: 0.7789\n",
            "Epoch 23/70\n",
            "1875/1875 - 4s - loss: 0.5916 - acc: 0.7718\n",
            "Epoch 24/70\n",
            "1875/1875 - 4s - loss: 0.5866 - acc: 0.7754\n",
            "Epoch 25/70\n",
            "1875/1875 - 4s - loss: 0.5762 - acc: 0.7807\n",
            "Epoch 26/70\n",
            "1875/1875 - 4s - loss: 0.5947 - acc: 0.7674\n",
            "Epoch 27/70\n",
            "1875/1875 - 4s - loss: 0.5983 - acc: 0.7660\n",
            "Epoch 28/70\n",
            "1875/1875 - 4s - loss: 0.5677 - acc: 0.7821\n",
            "Epoch 29/70\n",
            "1875/1875 - 4s - loss: 0.5722 - acc: 0.7789\n",
            "Epoch 30/70\n",
            "1875/1875 - 4s - loss: 0.5823 - acc: 0.7817\n",
            "Epoch 31/70\n",
            "1875/1875 - 4s - loss: 0.5722 - acc: 0.7854\n",
            "Epoch 32/70\n",
            "1875/1875 - 4s - loss: 0.5685 - acc: 0.7773\n",
            "Epoch 33/70\n",
            "1875/1875 - 4s - loss: 0.5623 - acc: 0.7878\n",
            "Epoch 34/70\n",
            "1875/1875 - 4s - loss: 0.5609 - acc: 0.7860\n",
            "Epoch 35/70\n",
            "1875/1875 - 4s - loss: 0.5538 - acc: 0.7948\n",
            "Epoch 36/70\n",
            "1875/1875 - 4s - loss: 0.5602 - acc: 0.7861\n",
            "Epoch 37/70\n",
            "1875/1875 - 4s - loss: 0.5668 - acc: 0.7807\n",
            "Epoch 38/70\n",
            "1875/1875 - 4s - loss: 0.5645 - acc: 0.7839\n",
            "Epoch 39/70\n",
            "1875/1875 - 4s - loss: 0.5651 - acc: 0.7847\n",
            "Epoch 40/70\n",
            "1875/1875 - 4s - loss: 0.5513 - acc: 0.7925\n",
            "Epoch 41/70\n",
            "1875/1875 - 4s - loss: 0.5671 - acc: 0.7778\n",
            "Epoch 42/70\n",
            "1875/1875 - 4s - loss: 0.5576 - acc: 0.7867\n",
            "Epoch 43/70\n",
            "1875/1875 - 4s - loss: 0.5685 - acc: 0.7842\n",
            "Epoch 44/70\n",
            "1875/1875 - 4s - loss: 0.5644 - acc: 0.7806\n",
            "Epoch 45/70\n",
            "1875/1875 - 4s - loss: 0.5407 - acc: 0.7955\n",
            "Epoch 46/70\n",
            "1875/1875 - 4s - loss: 0.5431 - acc: 0.7921\n",
            "Epoch 47/70\n",
            "1875/1875 - 4s - loss: 0.5556 - acc: 0.7876\n",
            "Epoch 48/70\n",
            "1875/1875 - 4s - loss: 0.5476 - acc: 0.7936\n",
            "Epoch 49/70\n",
            "1875/1875 - 4s - loss: 0.5628 - acc: 0.7854\n",
            "Epoch 50/70\n",
            "1875/1875 - 4s - loss: 0.5666 - acc: 0.7829\n",
            "Epoch 51/70\n",
            "1875/1875 - 4s - loss: 0.5421 - acc: 0.7914\n",
            "Epoch 52/70\n",
            "1875/1875 - 4s - loss: 0.5411 - acc: 0.7904\n",
            "Epoch 53/70\n",
            "1875/1875 - 4s - loss: 0.5454 - acc: 0.7954\n",
            "Epoch 54/70\n",
            "1875/1875 - 4s - loss: 0.5460 - acc: 0.7955\n",
            "Epoch 55/70\n",
            "1875/1875 - 4s - loss: 0.5379 - acc: 0.7978\n",
            "Epoch 56/70\n",
            "1875/1875 - 4s - loss: 0.5377 - acc: 0.7971\n",
            "Epoch 57/70\n",
            "1875/1875 - 4s - loss: 0.5473 - acc: 0.7909\n",
            "Epoch 58/70\n",
            "1875/1875 - 4s - loss: 0.5590 - acc: 0.7870\n",
            "Epoch 59/70\n",
            "1875/1875 - 4s - loss: 0.5321 - acc: 0.8001\n",
            "Epoch 60/70\n",
            "1875/1875 - 4s - loss: 0.5251 - acc: 0.8036\n",
            "Epoch 61/70\n",
            "1875/1875 - 4s - loss: 0.5257 - acc: 0.7996\n",
            "Epoch 62/70\n",
            "1875/1875 - 4s - loss: 0.5227 - acc: 0.8055\n",
            "Epoch 63/70\n",
            "1875/1875 - 4s - loss: 0.5282 - acc: 0.8037\n",
            "Epoch 64/70\n",
            "1875/1875 - 4s - loss: 0.5254 - acc: 0.8036\n",
            "Epoch 65/70\n",
            "1875/1875 - 4s - loss: 0.5223 - acc: 0.8049\n",
            "Epoch 66/70\n",
            "1875/1875 - 4s - loss: 0.5325 - acc: 0.7963\n",
            "Epoch 67/70\n",
            "1875/1875 - 4s - loss: 0.5285 - acc: 0.7971\n",
            "Epoch 68/70\n",
            "1875/1875 - 4s - loss: 0.5176 - acc: 0.8065\n",
            "Epoch 69/70\n",
            "1875/1875 - 4s - loss: 0.5268 - acc: 0.7978\n",
            "Epoch 70/70\n",
            "1875/1875 - 4s - loss: 0.5177 - acc: 0.8014\n"
          ],
          "name": "stdout"
        }
      ]
    },
    {
      "cell_type": "code",
      "metadata": {
        "colab": {
          "base_uri": "https://localhost:8080/",
          "height": 323
        },
        "id": "vpBkZH0RrC_V",
        "outputId": "d744adf7-dfff-4e50-a444-0a474a0f1497"
      },
      "source": [
        "# 시각화\n",
        "\n",
        "plt.figure(figsize=(15,5))\n",
        "\n",
        "plt.plot(range(1,71),\n",
        "         h.history['acc'],\n",
        "         label ='acc'\n",
        "         )\n",
        "\n",
        "plt.legend()\n",
        "plt.show()"
      ],
      "execution_count": 38,
      "outputs": [
        {
          "output_type": "display_data",
          "data": {
            "image/png": "[encoded data removed]",
            "text/plain": [
              "<Figure size 1080x360 with 1 Axes>"
            ]
          },
          "metadata": {
            "tags": [],
            "needs_background": "light"
          }
        }
      ]
    },
    {
      "cell_type": "code",
      "metadata": {
        "colab": {
          "base_uri": "https://localhost:8080/",
          "height": 320
        },
        "id": "hZMGGiyt2f9D",
        "outputId": "f5169c6c-9862-42ad-d966-f107fd68daac"
      },
      "source": [
        "# loss 시각화\n",
        "\n",
        "plt.figure(figsize=(15,5))\n",
        "\n",
        "plt.plot(range(1,71),\n",
        "         h.history['loss'],\n",
        "         label ='loss'\n",
        "         )\n",
        "\n",
        "plt.legend()\n",
        "plt.show()"
      ],
      "execution_count": 39,
      "outputs": [
        {
          "output_type": "display_data",
          "data": {
            "image/png": "[encoded data removed]",
            "text/plain": [
              "<Figure size 1080x360 with 1 Axes>"
            ]
          },
          "metadata": {
            "tags": [],
            "needs_background": "light"
          }
        }
      ]
    },
    {
      "cell_type": "code",
      "metadata": {
        "colab": {
          "base_uri": "https://localhost:8080/"
        },
        "id": "8tow7wlprC8n",
        "outputId": "e26f923a-3dd0-47e1-fc00-9042720be960"
      },
      "source": [
        "# 모델 평가\n",
        "model.evaluate(X_test,y_test_one_hot)"
      ],
      "execution_count": 40,
      "outputs": [
        {
          "output_type": "stream",
          "text": [
            "WARNING:tensorflow:Model was constructed with shape (None, 28, 28) for input KerasTensor(type_spec=TensorSpec(shape=(None, 28, 28), dtype=tf.float32, name='flatten_input'), name='flatten_input', description=\"created by layer 'flatten_input'\"), but it was called on an input with incompatible shape (None, 784).\n",
            "313/313 [==============================] - 1s 3ms/step - loss: 0.5907 - acc: 0.7742\n"
          ],
          "name": "stdout"
        },
        {
          "output_type": "execute_result",
          "data": {
            "text/plain": [
              "[0.5907405614852905, 0.7742000222206116]"
            ]
          },
          "metadata": {
            "tags": []
          },
          "execution_count": 40
        }
      ]
    },
    {
      "cell_type": "code",
      "metadata": {
        "id": "baAvwswLrC53"
      },
      "source": [
        ""
      ],
      "execution_count": null,
      "outputs": []
    }
  ]
}