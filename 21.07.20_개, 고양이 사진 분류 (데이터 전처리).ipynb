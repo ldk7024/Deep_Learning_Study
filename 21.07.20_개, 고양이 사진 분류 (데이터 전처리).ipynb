{
 "cells": [
  {
   "cell_type": "markdown",
   "metadata": {},
   "source": [
    "- 데이터가 복잡하고 양이 많다면 클라우드환경 (ex 구글 코랩, 드라이브)에 업로드하는 시간이 매우 오래걸림\n",
    "- 로컬 환경인 쥬피터 노트북으로 빠르게 전처리를 하고 그 결과를 NPZ(numpy zip)파일로 저장\n",
    "- 저장된 NPZ 파일을 원하는 환경으로 불러와서 사용하자!"
   ]
  },
  {
   "cell_type": "code",
   "execution_count": 7,
   "metadata": {},
   "outputs": [],
   "source": [
    "import numpy as np\n",
    "import pandas as pd\n",
    "import matplotlib.pyplot as plt\n",
    "from PIL import Image\n",
    "from sklearn.model_selection import train_test_split\n",
    "# os: 파일, 폴더 처리에 관련된 라이브러리\n",
    "import os"
   ]
  },
  {
   "cell_type": "code",
   "execution_count": 10,
   "metadata": {},
   "outputs": [],
   "source": [
    "# cats_and_dogs_filtered 폴더 내에 각각 데이터셋들의 경로를 설정\n",
    "train_cats_dir = './data/cats_and_dogs_filtered/train/cats/'\n",
    "train_dogs_dir = './data/cats_and_dogs_filtered/train/dogs/'\n",
    "test_cats_dir = './data/cats_and_dogs_filtered/test/cats/'\n",
    "test_dogs_dir = './data/cats_and_dogs_filtered/test/dogs/'"
   ]
  },
  {
   "cell_type": "code",
   "execution_count": 11,
   "metadata": {},
   "outputs": [],
   "source": [
    "# os.listdir() : 해당 경로에 있는 파일명들을 리스트에 순서대로 저장\n",
    "train_cats_fnames = os.listdir(train_cats_dir)\n",
    "train_dogs_fnames = os.listdir(train_dogs_dir)\n",
    "test_cats_fnames = os.listdir(test_cats_dir)\n",
    "test_dogs_fnames = os.listdir(test_dogs_dir)"
   ]
  },
  {
   "cell_type": "code",
   "execution_count": 13,
   "metadata": {},
   "outputs": [
    {
     "data": {
      "text/plain": [
       "'./data/cats_and_dogs_filtered/train/cats/cat.0.jpg'"
      ]
     },
     "execution_count": 13,
     "metadata": {},
     "output_type": "execute_result"
    }
   ],
   "source": [
    "# os.path.join : 파일 경로와 파일명을 결합\n",
    "test_path = os.path.join(train_cats_dir, train_cats_fnames[0])\n",
    "test_path"
   ]
  },
  {
   "cell_type": "code",
   "execution_count": 21,
   "metadata": {},
   "outputs": [],
   "source": [
    "# 사진을 로딩하는 함수를 만들어보자!\n",
    "# 사진 크기는 전부 224 x 224로 고정시키자\n",
    "# 신경망에 넣기위해서는 데이터의 크기를 같게 만들어줘야 함\n",
    "\n",
    "def load_images(folder_path, file_names, img_size_shape=(224,224)) :\n",
    "    images = []\n",
    "    \n",
    "    for i in file_names :\n",
    "        # 폴더 경로 + 파일명 합치기\n",
    "        path = os.path.join(folder_path, i)\n",
    "        # 파일 오픈 및 크기조정(resize : 파일의 형태(사이즈)를 변형시켜줌)\n",
    "        img = Image.open(path).resize(img_size_shape)\n",
    "        # numpy 배열로 변경 후 리스트에 추가\n",
    "        images.append(np.array(img))\n",
    "        \n",
    "    # 리스트도 numpy 배열로 변환하여 리턴\n",
    "    return np.array(images)"
   ]
  },
  {
   "cell_type": "code",
   "execution_count": 22,
   "metadata": {},
   "outputs": [],
   "source": [
    "X_train_cats = load_images (train_cats_dir, train_cats_fnames)\n",
    "X_train_dogs = load_images (train_dogs_dir, train_dogs_fnames)\n",
    "X_test_cats = load_images (test_cats_dir, test_cats_fnames)\n",
    "X_test_dogs = load_images (test_dogs_dir, test_dogs_fnames)"
   ]
  },
  {
   "cell_type": "code",
   "execution_count": 24,
   "metadata": {},
   "outputs": [
    {
     "name": "stdout",
     "output_type": "stream",
     "text": [
      "(1000, 224, 224, 3)\n",
      "(1000, 224, 224, 3)\n",
      "(500, 224, 224, 3)\n",
      "(500, 224, 224, 3)\n"
     ]
    }
   ],
   "source": [
    "print(X_train_cats.shape)\n",
    "print(X_train_dogs.shape)\n",
    "print(X_test_cats.shape)\n",
    "print(X_test_dogs.shape)"
   ]
  },
  {
   "cell_type": "code",
   "execution_count": 25,
   "metadata": {},
   "outputs": [],
   "source": [
    "# 데이터 병합 (고양이, 개 이미지 배열 데이터를 순서대로 합쳐줌)\n",
    "X_train = np.concatenate((X_train_cats, X_train_dogs))\n",
    "X_test = np.concatenate((X_test_cats,X_test_dogs))"
   ]
  },
  {
   "cell_type": "code",
   "execution_count": 27,
   "metadata": {},
   "outputs": [
    {
     "data": {
      "text/plain": [
       "((2000, 224, 224, 3), (1000, 224, 224, 3))"
      ]
     },
     "execution_count": 27,
     "metadata": {},
     "output_type": "execute_result"
    }
   ],
   "source": [
    "X_train.shape, X_test.shape"
   ]
  },
  {
   "cell_type": "code",
   "execution_count": 29,
   "metadata": {},
   "outputs": [],
   "source": [
    "# 정답 데이터 만들기 (고양이 : 0, 개 : 1)\n",
    "y_train = np.array([0]*1000 + [1]*1000)\n",
    "y_test = np.array([0]*500 + [1]*500)"
   ]
  },
  {
   "cell_type": "code",
   "execution_count": 30,
   "metadata": {},
   "outputs": [
    {
     "data": {
      "text/plain": [
       "array([0, 0, 0, ..., 1, 1, 1])"
      ]
     },
     "execution_count": 30,
     "metadata": {},
     "output_type": "execute_result"
    }
   ],
   "source": [
    "y_train"
   ]
  },
  {
   "cell_type": "code",
   "execution_count": 31,
   "metadata": {},
   "outputs": [],
   "source": [
    "# 0~255 사이의 픽셀 값을 0~1사이로 줄여줄 수 있음\n",
    "# 수치값이 작아지기 때문에 연산속도를 향상시킬 수 있음\n",
    "# 데이터의 픽셀 수치값들을 실수로 변경 시킨 후에 나눠줌\n",
    "X_train = X_train.astype(\"float32\") /255\n",
    "X_test = X_test.astype (\"float32\") /255"
   ]
  },
  {
   "cell_type": "code",
   "execution_count": 32,
   "metadata": {},
   "outputs": [],
   "source": [
    "# NPZ 파일로 저장\n",
    "np.savez_compressed ('./data/cats_and_dogs.npz', # 폴더 경로와 파일명을 설정\n",
    "                    X_train = X_train,           # 학습용 문제 데이터 설정\n",
    "                    X_test = X_test,             # 평가용 문제 데이터 설정\n",
    "                    y_train = y_train,           # 학습용 정답 데이터 설정\n",
    "                    y_test = y_test              # 평가용 정답 데이터 설정\n",
    "                    )"
   ]
  },
  {
   "cell_type": "code",
   "execution_count": null,
   "metadata": {},
   "outputs": [],
   "source": []
  },
  {
   "cell_type": "code",
   "execution_count": null,
   "metadata": {},
   "outputs": [],
   "source": []
  },
  {
   "cell_type": "code",
   "execution_count": null,
   "metadata": {},
   "outputs": [],
   "source": []
  },
  {
   "cell_type": "code",
   "execution_count": null,
   "metadata": {},
   "outputs": [],
   "source": []
  },
  {
   "cell_type": "code",
   "execution_count": null,
   "metadata": {},
   "outputs": [],
   "source": []
  },
  {
   "cell_type": "code",
   "execution_count": null,
   "metadata": {},
   "outputs": [],
   "source": []
  },
  {
   "cell_type": "code",
   "execution_count": null,
   "metadata": {},
   "outputs": [],
   "source": []
  },
  {
   "cell_type": "code",
   "execution_count": null,
   "metadata": {},
   "outputs": [],
   "source": []
  },
  {
   "cell_type": "code",
   "execution_count": null,
   "metadata": {},
   "outputs": [],
   "source": []
  }
 ],
 "metadata": {
  "kernelspec": {
   "display_name": "Python 3",
   "language": "python",
   "name": "python3"
  },
  "language_info": {
   "codemirror_mode": {
    "name": "ipython",
    "version": 3
   },
   "file_extension": ".py",
   "mimetype": "text/x-python",
   "name": "python",
   "nbconvert_exporter": "python",
   "pygments_lexer": "ipython3",
   "version": "3.8.5"
  },
  "toc": {
   "base_numbering": 1,
   "nav_menu": {},
   "number_sections": true,
   "sideBar": true,
   "skip_h1_title": false,
   "title_cell": "Table of Contents",
   "title_sidebar": "Contents",
   "toc_cell": false,
   "toc_position": {},
   "toc_section_display": true,
   "toc_window_display": false
  }
 },
 "nbformat": 4,
 "nbformat_minor": 4
}
