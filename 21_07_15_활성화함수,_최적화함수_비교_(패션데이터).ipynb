{
  "nbformat": 4,
  "nbformat_minor": 0,
  "metadata": {
    "accelerator": "GPU",
    "colab": {
      "name": "21.07.15_활성화함수,  최적화함수 비교 (패션데이터)",
      "provenance": [],
      "collapsed_sections": [],
      "mount_file_id": "1xYZq0FK777_G8Saoxdk4_cePFCHMUFfC",
      "authorship_tag": "ABX9TyNFZEZ/CNFKh/ah/HcyXUjv",
      "include_colab_link": true
    },
    "kernelspec": {
      "display_name": "Python 3",
      "name": "python3"
    },
    "language_info": {
      "name": "python"
    }
  },
  "cells": [
    {
      "cell_type": "markdown",
      "metadata": {
        "id": "view-in-github",
        "colab_type": "text"
      },
      "source": [
        "<a href=\"https://colab.research.google.com/github/ldk7024/Deep_Learning_Study/blob/main/21_07_15_%ED%99%9C%EC%84%B1%ED%99%94%ED%95%A8%EC%88%98%2C_%EC%B5%9C%EC%A0%81%ED%99%94%ED%95%A8%EC%88%98_%EB%B9%84%EA%B5%90_(%ED%8C%A8%EC%85%98%EB%8D%B0%EC%9D%B4%ED%84%B0).ipynb\" target=\"_parent\"><img src=\"https://colab.research.google.com/assets/colab-badge.svg\" alt=\"Open In Colab\"/></a>"
      ]
    },
    {
      "cell_type": "code",
      "metadata": {
        "id": "_Xb8OuBHNwlM"
      },
      "source": [
        "import numpy as np\n",
        "import pandas as pd\n",
        "import matplotlib.pyplot as plt\n",
        "from tensorflow.keras.datasets import fashion_mnist"
      ],
      "execution_count": 2,
      "outputs": []
    },
    {
      "cell_type": "code",
      "metadata": {
        "colab": {
          "base_uri": "https://localhost:8080/"
        },
        "id": "3BXAIzXtNwiU",
        "outputId": "8c75a7b9-6f1f-4bf3-ba91-ab1ef16c3085"
      },
      "source": [
        "data = fashion_mnist.load_data()\n",
        "data"
      ],
      "execution_count": 3,
      "outputs": [
        {
          "output_type": "stream",
          "text": [
            "Downloading data from https://storage.googleapis.com/tensorflow/tf-keras-datasets/train-labels-idx1-ubyte.gz\n",
            "32768/29515 [=================================] - 0s 0us/step\n",
            "Downloading data from https://storage.googleapis.com/tensorflow/tf-keras-datasets/train-images-idx3-ubyte.gz\n",
            "26427392/26421880 [==============================] - 0s 0us/step\n",
            "Downloading data from https://storage.googleapis.com/tensorflow/tf-keras-datasets/t10k-labels-idx1-ubyte.gz\n",
            "8192/5148 [===============================================] - 0s 0us/step\n",
            "Downloading data from https://storage.googleapis.com/tensorflow/tf-keras-datasets/t10k-images-idx3-ubyte.gz\n",
            "4423680/4422102 [==============================] - 0s 0us/step\n"
          ],
          "name": "stdout"
        },
        {
          "output_type": "execute_result",
          "data": {
            "text/plain": [
              "((array([[[0, 0, 0, ..., 0, 0, 0],\n",
              "          [0, 0, 0, ..., 0, 0, 0],\n",
              "          [0, 0, 0, ..., 0, 0, 0],\n",
              "          ...,\n",
              "          [0, 0, 0, ..., 0, 0, 0],\n",
              "          [0, 0, 0, ..., 0, 0, 0],\n",
              "          [0, 0, 0, ..., 0, 0, 0]],\n",
              "  \n",
              "         [[0, 0, 0, ..., 0, 0, 0],\n",
              "          [0, 0, 0, ..., 0, 0, 0],\n",
              "          [0, 0, 0, ..., 0, 0, 0],\n",
              "          ...,\n",
              "          [0, 0, 0, ..., 0, 0, 0],\n",
              "          [0, 0, 0, ..., 0, 0, 0],\n",
              "          [0, 0, 0, ..., 0, 0, 0]],\n",
              "  \n",
              "         [[0, 0, 0, ..., 0, 0, 0],\n",
              "          [0, 0, 0, ..., 0, 0, 0],\n",
              "          [0, 0, 0, ..., 0, 0, 0],\n",
              "          ...,\n",
              "          [0, 0, 0, ..., 0, 0, 0],\n",
              "          [0, 0, 0, ..., 0, 0, 0],\n",
              "          [0, 0, 0, ..., 0, 0, 0]],\n",
              "  \n",
              "         ...,\n",
              "  \n",
              "         [[0, 0, 0, ..., 0, 0, 0],\n",
              "          [0, 0, 0, ..., 0, 0, 0],\n",
              "          [0, 0, 0, ..., 0, 0, 0],\n",
              "          ...,\n",
              "          [0, 0, 0, ..., 0, 0, 0],\n",
              "          [0, 0, 0, ..., 0, 0, 0],\n",
              "          [0, 0, 0, ..., 0, 0, 0]],\n",
              "  \n",
              "         [[0, 0, 0, ..., 0, 0, 0],\n",
              "          [0, 0, 0, ..., 0, 0, 0],\n",
              "          [0, 0, 0, ..., 0, 0, 0],\n",
              "          ...,\n",
              "          [0, 0, 0, ..., 0, 0, 0],\n",
              "          [0, 0, 0, ..., 0, 0, 0],\n",
              "          [0, 0, 0, ..., 0, 0, 0]],\n",
              "  \n",
              "         [[0, 0, 0, ..., 0, 0, 0],\n",
              "          [0, 0, 0, ..., 0, 0, 0],\n",
              "          [0, 0, 0, ..., 0, 0, 0],\n",
              "          ...,\n",
              "          [0, 0, 0, ..., 0, 0, 0],\n",
              "          [0, 0, 0, ..., 0, 0, 0],\n",
              "          [0, 0, 0, ..., 0, 0, 0]]], dtype=uint8),\n",
              "  array([9, 0, 0, ..., 3, 0, 5], dtype=uint8)),\n",
              " (array([[[0, 0, 0, ..., 0, 0, 0],\n",
              "          [0, 0, 0, ..., 0, 0, 0],\n",
              "          [0, 0, 0, ..., 0, 0, 0],\n",
              "          ...,\n",
              "          [0, 0, 0, ..., 0, 0, 0],\n",
              "          [0, 0, 0, ..., 0, 0, 0],\n",
              "          [0, 0, 0, ..., 0, 0, 0]],\n",
              "  \n",
              "         [[0, 0, 0, ..., 0, 0, 0],\n",
              "          [0, 0, 0, ..., 0, 0, 0],\n",
              "          [0, 0, 0, ..., 0, 0, 0],\n",
              "          ...,\n",
              "          [0, 0, 0, ..., 0, 0, 0],\n",
              "          [0, 0, 0, ..., 0, 0, 0],\n",
              "          [0, 0, 0, ..., 0, 0, 0]],\n",
              "  \n",
              "         [[0, 0, 0, ..., 0, 0, 0],\n",
              "          [0, 0, 0, ..., 0, 0, 0],\n",
              "          [0, 0, 0, ..., 0, 0, 0],\n",
              "          ...,\n",
              "          [0, 0, 0, ..., 0, 0, 0],\n",
              "          [0, 0, 0, ..., 0, 0, 0],\n",
              "          [0, 0, 0, ..., 0, 0, 0]],\n",
              "  \n",
              "         ...,\n",
              "  \n",
              "         [[0, 0, 0, ..., 0, 0, 0],\n",
              "          [0, 0, 0, ..., 0, 0, 0],\n",
              "          [0, 0, 0, ..., 0, 0, 0],\n",
              "          ...,\n",
              "          [0, 0, 0, ..., 0, 0, 0],\n",
              "          [0, 0, 0, ..., 0, 0, 0],\n",
              "          [0, 0, 0, ..., 0, 0, 0]],\n",
              "  \n",
              "         [[0, 0, 0, ..., 0, 0, 0],\n",
              "          [0, 0, 0, ..., 0, 0, 0],\n",
              "          [0, 0, 0, ..., 0, 0, 0],\n",
              "          ...,\n",
              "          [0, 0, 0, ..., 0, 0, 0],\n",
              "          [0, 0, 0, ..., 0, 0, 0],\n",
              "          [0, 0, 0, ..., 0, 0, 0]],\n",
              "  \n",
              "         [[0, 0, 0, ..., 0, 0, 0],\n",
              "          [0, 0, 0, ..., 0, 0, 0],\n",
              "          [0, 0, 0, ..., 0, 0, 0],\n",
              "          ...,\n",
              "          [0, 0, 0, ..., 0, 0, 0],\n",
              "          [0, 0, 0, ..., 0, 0, 0],\n",
              "          [0, 0, 0, ..., 0, 0, 0]]], dtype=uint8),\n",
              "  array([9, 2, 1, ..., 8, 1, 5], dtype=uint8)))"
            ]
          },
          "metadata": {
            "tags": []
          },
          "execution_count": 3
        }
      ]
    },
    {
      "cell_type": "code",
      "metadata": {
        "id": "7eHcrwUqNwfd"
      },
      "source": [
        "X_train = data[0][0]  # X_train\n",
        "y_train = data[0][1]  # y_train\n",
        "X_test = data[1][0]  # X_test\n",
        "y_test = data[1][1]  # y_test"
      ],
      "execution_count": 4,
      "outputs": []
    },
    {
      "cell_type": "code",
      "metadata": {
        "colab": {
          "base_uri": "https://localhost:8080/"
        },
        "id": "fXpmupfSPYih",
        "outputId": "965937ca-f31d-47c3-ad1b-198c4b5fbe41"
      },
      "source": [
        "print(X_train.shape)  # 데이터 개수, 가로 픽셀수, 세로 픽셀수\n",
        "print(y_train.shape)\n",
        "print(X_test.shape)   # 데이터 개수, 가로 픽셀수, 세로 픽셀수\n",
        "print(y_test.shape)"
      ],
      "execution_count": 5,
      "outputs": [
        {
          "output_type": "stream",
          "text": [
            "(60000, 28, 28)\n",
            "(60000,)\n",
            "(10000, 28, 28)\n",
            "(10000,)\n"
          ],
          "name": "stdout"
        }
      ]
    },
    {
      "cell_type": "code",
      "metadata": {
        "id": "rmy_j4FiQX1m"
      },
      "source": [
        "y_train_one_hot = pd.get_dummies(y_train)\n",
        "y_test_one_hot = pd.get_dummies(y_test)"
      ],
      "execution_count": 6,
      "outputs": []
    },
    {
      "cell_type": "code",
      "metadata": {
        "colab": {
          "base_uri": "https://localhost:8080/"
        },
        "id": "5zRCv8pFQ48c",
        "outputId": "4d8fc0a0-679b-480f-e269-6313fa82f2a3"
      },
      "source": [
        "y_train_one_hot.shape"
      ],
      "execution_count": 7,
      "outputs": [
        {
          "output_type": "execute_result",
          "data": {
            "text/plain": [
              "(60000, 10)"
            ]
          },
          "metadata": {
            "tags": []
          },
          "execution_count": 7
        }
      ]
    },
    {
      "cell_type": "code",
      "metadata": {
        "id": "_vgakBdGQ6fc"
      },
      "source": [
        "from sklearn.model_selection import train_test_split"
      ],
      "execution_count": 8,
      "outputs": []
    },
    {
      "cell_type": "code",
      "metadata": {
        "id": "y7PifzKuQ7UY"
      },
      "source": [
        "X_train, X_val, y_train_one_hot, y_val_one_hot = train_test_split(X_train, \n",
        "                                                                  y_train_one_hot,\n",
        "                                                                  random_state = 3\n",
        "                                                                  )"
      ],
      "execution_count": 9,
      "outputs": []
    },
    {
      "cell_type": "code",
      "metadata": {
        "id": "sfIpao63Q7Rz"
      },
      "source": [
        "# 딥러닝을 위한 라이브러리를 임포트\n",
        "from tensorflow.keras import Sequential  # 신경망의 뼈대를 구성\n",
        "from tensorflow.keras.layers import Dense   # 신경망의 층을 구성\n",
        "from tensorflow.keras.layers import Flatten # Flatten: 데이터를 1차원으로 자동으로 펴주는 모듈\n",
        "from tensorflow.keras.layers import InputLayer,Dense"
      ],
      "execution_count": 10,
      "outputs": []
    },
    {
      "cell_type": "code",
      "metadata": {
        "colab": {
          "base_uri": "https://localhost:8080/"
        },
        "id": "KAO7EOfIQ7PM",
        "outputId": "ae7ca7a6-cafb-4842-9c06-4532c022ae38"
      },
      "source": [
        "# 1번 중간층 활성화 함수 sigmoid\n",
        "\n",
        "# 신경망의 뼈대를 설정\n",
        "model = Sequential()\n",
        "\n",
        "# Flatten 명령을 통해서 한번에 바로 2차원 이미지 데이터를 1차원으로 펴줌\n",
        "model.add (Flatten(input_shape = (28,28)))\n",
        "# 입력층 + 중간층\n",
        "# input_dim : 데이터 특성의 개수\n",
        "# activation: 활성화 함수를 설정 (들어온 자극 (데이터)에 대한 응답여부를 결정하는 함수)\n",
        "model.add(Dense(500, activation=\"sigmoid\"))\n",
        "\n",
        "# 중간층\n",
        "model.add(Dense(500,activation=\"sigmoid\"))   # 하나의 층\n",
        "model.add(Dense(300, activation=\"sigmoid\"))   # 하나의 층\n",
        "model.add(Dense(100, activation=\"sigmoid\"))   # 하나의 층\n",
        "\n",
        "\n",
        "# 출력층\n",
        "model.add(Dense(10, activation=\"softmax\"))   # 0~9까지의 정답레이블 (10개)\n",
        "\n",
        "model.summary()"
      ],
      "execution_count": 11,
      "outputs": [
        {
          "output_type": "stream",
          "text": [
            "Model: \"sequential\"\n",
            "_________________________________________________________________\n",
            "Layer (type)                 Output Shape              Param #   \n",
            "=================================================================\n",
            "flatten (Flatten)            (None, 784)               0         \n",
            "_________________________________________________________________\n",
            "dense (Dense)                (None, 500)               392500    \n",
            "_________________________________________________________________\n",
            "dense_1 (Dense)              (None, 500)               250500    \n",
            "_________________________________________________________________\n",
            "dense_2 (Dense)              (None, 300)               150300    \n",
            "_________________________________________________________________\n",
            "dense_3 (Dense)              (None, 100)               30100     \n",
            "_________________________________________________________________\n",
            "dense_4 (Dense)              (None, 10)                1010      \n",
            "=================================================================\n",
            "Total params: 824,410\n",
            "Trainable params: 824,410\n",
            "Non-trainable params: 0\n",
            "_________________________________________________________________\n"
          ],
          "name": "stdout"
        }
      ]
    },
    {
      "cell_type": "code",
      "metadata": {
        "id": "KaQnrNi7Q7Mj"
      },
      "source": [
        "# 2. 학습/ 평가 방법 설정\n",
        "model.compile(loss =\"categorical_crossentropy\",\n",
        "               optimizer = 'SGD',            # Adam : 최근에 가장 많이 사용되는 성능이 높은 최적화 함수\n",
        "               metrics = [\"acc\"]               # metrics: 평가 방법을 설정 (분류 문제이기 때문에 정확도(acc)를 확인)\n",
        "               )"
      ],
      "execution_count": 12,
      "outputs": []
    },
    {
      "cell_type": "code",
      "metadata": {
        "colab": {
          "base_uri": "https://localhost:8080/"
        },
        "id": "DEkHnpjoQ7KD",
        "outputId": "53d4de7c-b0e3-4636-d6fb-abcf7b8140b8"
      },
      "source": [
        "h = model.fit(X_train, \n",
        "              y_train_one_hot,\n",
        "              validation_data = (X_val, y_val_one_hot), \n",
        "              epochs=30, \n",
        "              verbose =1)\n",
        "# verbose: 학습 결과의 출력 형태를 설정하는 명령 (0: 출력 x, 1: bar 형태 (디폴트 값), 2: bar가 없는 형태로 출력)"
      ],
      "execution_count": 13,
      "outputs": [
        {
          "output_type": "stream",
          "text": [
            "Epoch 1/30\n",
            "1407/1407 [==============================] - 8s 3ms/step - loss: 2.2714 - acc: 0.1977 - val_loss: 2.2140 - val_acc: 0.4741\n",
            "Epoch 2/30\n",
            "1407/1407 [==============================] - 4s 3ms/step - loss: 2.0032 - acc: 0.3981 - val_loss: 1.6799 - val_acc: 0.5107\n",
            "Epoch 3/30\n",
            "1407/1407 [==============================] - 5s 3ms/step - loss: 1.4609 - acc: 0.5166 - val_loss: 1.2838 - val_acc: 0.5365\n",
            "Epoch 4/30\n",
            "1407/1407 [==============================] - 4s 3ms/step - loss: 1.1613 - acc: 0.6007 - val_loss: 1.0542 - val_acc: 0.6331\n",
            "Epoch 5/30\n",
            "1407/1407 [==============================] - 4s 3ms/step - loss: 0.9725 - acc: 0.6523 - val_loss: 0.9002 - val_acc: 0.6631\n",
            "Epoch 6/30\n",
            "1407/1407 [==============================] - 4s 3ms/step - loss: 0.8530 - acc: 0.6864 - val_loss: 0.8120 - val_acc: 0.6999\n",
            "Epoch 7/30\n",
            "1407/1407 [==============================] - 5s 3ms/step - loss: 0.7755 - acc: 0.7206 - val_loss: 0.7420 - val_acc: 0.7377\n",
            "Epoch 8/30\n",
            "1407/1407 [==============================] - 4s 3ms/step - loss: 0.7228 - acc: 0.7433 - val_loss: 0.7119 - val_acc: 0.7385\n",
            "Epoch 9/30\n",
            "1407/1407 [==============================] - 5s 3ms/step - loss: 0.6890 - acc: 0.7560 - val_loss: 0.6779 - val_acc: 0.7543\n",
            "Epoch 10/30\n",
            "1407/1407 [==============================] - 5s 3ms/step - loss: 0.6636 - acc: 0.7666 - val_loss: 0.6478 - val_acc: 0.7729\n",
            "Epoch 11/30\n",
            "1407/1407 [==============================] - 5s 3ms/step - loss: 0.6512 - acc: 0.7714 - val_loss: 0.6807 - val_acc: 0.7633\n",
            "Epoch 12/30\n",
            "1407/1407 [==============================] - 5s 3ms/step - loss: 0.6391 - acc: 0.7756 - val_loss: 0.6432 - val_acc: 0.7615\n",
            "Epoch 13/30\n",
            "1407/1407 [==============================] - 5s 3ms/step - loss: 0.6295 - acc: 0.7786 - val_loss: 0.6678 - val_acc: 0.7619\n",
            "Epoch 14/30\n",
            "1407/1407 [==============================] - 4s 3ms/step - loss: 0.6329 - acc: 0.7801 - val_loss: 0.6412 - val_acc: 0.7437\n",
            "Epoch 15/30\n",
            "1407/1407 [==============================] - 5s 3ms/step - loss: 0.6384 - acc: 0.7726 - val_loss: 0.6395 - val_acc: 0.7800\n",
            "Epoch 16/30\n",
            "1407/1407 [==============================] - 4s 3ms/step - loss: 0.6412 - acc: 0.7717 - val_loss: 0.6450 - val_acc: 0.7564\n",
            "Epoch 17/30\n",
            "1407/1407 [==============================] - 5s 3ms/step - loss: 0.6391 - acc: 0.7676 - val_loss: 0.6401 - val_acc: 0.7615\n",
            "Epoch 18/30\n",
            "1407/1407 [==============================] - 5s 3ms/step - loss: 0.6420 - acc: 0.7709 - val_loss: 0.6736 - val_acc: 0.7447\n",
            "Epoch 19/30\n",
            "1407/1407 [==============================] - 4s 3ms/step - loss: 0.6527 - acc: 0.7673 - val_loss: 0.6526 - val_acc: 0.7609\n",
            "Epoch 20/30\n",
            "1407/1407 [==============================] - 4s 3ms/step - loss: 0.6586 - acc: 0.7630 - val_loss: 0.6350 - val_acc: 0.7750\n",
            "Epoch 21/30\n",
            "1407/1407 [==============================] - 4s 3ms/step - loss: 0.6502 - acc: 0.7635 - val_loss: 0.6552 - val_acc: 0.7693\n",
            "Epoch 22/30\n",
            "1407/1407 [==============================] - 5s 3ms/step - loss: 0.6518 - acc: 0.7562 - val_loss: 0.6657 - val_acc: 0.7619\n",
            "Epoch 23/30\n",
            "1407/1407 [==============================] - 4s 3ms/step - loss: 0.6679 - acc: 0.7503 - val_loss: 0.6856 - val_acc: 0.7550\n",
            "Epoch 24/30\n",
            "1407/1407 [==============================] - 5s 3ms/step - loss: 0.6723 - acc: 0.7499 - val_loss: 0.7000 - val_acc: 0.7242\n",
            "Epoch 25/30\n",
            "1407/1407 [==============================] - 4s 3ms/step - loss: 0.6547 - acc: 0.7579 - val_loss: 0.7337 - val_acc: 0.7278\n",
            "Epoch 26/30\n",
            "1407/1407 [==============================] - 4s 3ms/step - loss: 0.6605 - acc: 0.7497 - val_loss: 0.6643 - val_acc: 0.7367\n",
            "Epoch 27/30\n",
            "1407/1407 [==============================] - 5s 3ms/step - loss: 0.6657 - acc: 0.7482 - val_loss: 0.6529 - val_acc: 0.7367\n",
            "Epoch 28/30\n",
            "1407/1407 [==============================] - 5s 3ms/step - loss: 0.6740 - acc: 0.7459 - val_loss: 0.6946 - val_acc: 0.7507\n",
            "Epoch 29/30\n",
            "1407/1407 [==============================] - 4s 3ms/step - loss: 0.6838 - acc: 0.7406 - val_loss: 0.7311 - val_acc: 0.7075\n",
            "Epoch 30/30\n",
            "1407/1407 [==============================] - 4s 3ms/step - loss: 0.6874 - acc: 0.7336 - val_loss: 0.6534 - val_acc: 0.7603\n"
          ],
          "name": "stdout"
        }
      ]
    },
    {
      "cell_type": "code",
      "metadata": {
        "colab": {
          "base_uri": "https://localhost:8080/",
          "height": 320
        },
        "id": "0dv_aH8kQ7Hb",
        "outputId": "449b39e4-7480-4f3c-812d-898d62e302ad"
      },
      "source": [
        "# 시각화\n",
        "\n",
        "plt.figure(figsize=(15,5))\n",
        "\n",
        "# train 데이터\n",
        "plt.plot(range(1,31),\n",
        "         h.history['acc'],\n",
        "         label ='acc'\n",
        "         )\n",
        "# val 데이터\n",
        "plt.plot(range(1,31),\n",
        "         h.history['val_acc'],\n",
        "         label ='val_acc'\n",
        "         )\n",
        "\n",
        "\n",
        "\n",
        "plt.legend()\n",
        "plt.show()"
      ],
      "execution_count": 14,
      "outputs": [
        {
          "output_type": "display_data",
          "data": {
            "image/png": "[encoded data removed]",
            "text/plain": [
              "<Figure size 1080x360 with 1 Axes>"
            ]
          },
          "metadata": {
            "tags": [],
            "needs_background": "light"
          }
        }
      ]
    },
    {
      "cell_type": "code",
      "metadata": {
        "colab": {
          "base_uri": "https://localhost:8080/"
        },
        "id": "ppHTvN4TQ7Ej",
        "outputId": "39545a32-7bd5-4a4a-8683-151808cbc820"
      },
      "source": [
        "# 모델 평가\n",
        "model.evaluate(X_test,y_test_one_hot)"
      ],
      "execution_count": 15,
      "outputs": [
        {
          "output_type": "stream",
          "text": [
            "313/313 [==============================] - 1s 2ms/step - loss: 0.6791 - acc: 0.7476\n"
          ],
          "name": "stdout"
        },
        {
          "output_type": "execute_result",
          "data": {
            "text/plain": [
              "[0.6791396141052246, 0.7476000189781189]"
            ]
          },
          "metadata": {
            "tags": []
          },
          "execution_count": 15
        }
      ]
    },
    {
      "cell_type": "code",
      "metadata": {
        "colab": {
          "base_uri": "https://localhost:8080/"
        },
        "id": "2qYK9-9FQ7CF",
        "outputId": "dc995e3c-62f1-473f-f693-acd6b513f224"
      },
      "source": [
        "# 2번 중간층 활성화 함수 relu, SGD\n",
        "# 신경망의 뼈대를 설정\n",
        "model2 = Sequential()\n",
        "\n",
        "# Flatten 명령을 통해서 한번에 바로 2차원 이미지 데이터를 1차원으로 펴줌\n",
        "model2.add (Flatten(input_shape = (28,28)))\n",
        "# 입력층 + 중간층\n",
        "# input_dim : 데이터 특성의 개수\n",
        "# activation: 활성화 함수를 설정 (들어온 자극 (데이터)에 대한 응답여부를 결정하는 함수)\n",
        "model2.add(Dense(500, activation=\"relu\"))\n",
        "\n",
        "# 중간층\n",
        "model2.add(Dense(500,activation=\"relu\"))   # 하나의 층\n",
        "model2.add(Dense(300, activation=\"relu\"))   # 하나의 층\n",
        "model2.add(Dense(100, activation=\"relu\"))   # 하나의 층\n",
        "\n",
        "\n",
        "# 출력층\n",
        "model2.add(Dense(10, activation=\"softmax\"))   # 0~9까지의 정답레이블 (10개)\n",
        "\n",
        "model2.summary()"
      ],
      "execution_count": 16,
      "outputs": [
        {
          "output_type": "stream",
          "text": [
            "Model: \"sequential_1\"\n",
            "_________________________________________________________________\n",
            "Layer (type)                 Output Shape              Param #   \n",
            "=================================================================\n",
            "flatten_1 (Flatten)          (None, 784)               0         \n",
            "_________________________________________________________________\n",
            "dense_5 (Dense)              (None, 500)               392500    \n",
            "_________________________________________________________________\n",
            "dense_6 (Dense)              (None, 500)               250500    \n",
            "_________________________________________________________________\n",
            "dense_7 (Dense)              (None, 300)               150300    \n",
            "_________________________________________________________________\n",
            "dense_8 (Dense)              (None, 100)               30100     \n",
            "_________________________________________________________________\n",
            "dense_9 (Dense)              (None, 10)                1010      \n",
            "=================================================================\n",
            "Total params: 824,410\n",
            "Trainable params: 824,410\n",
            "Non-trainable params: 0\n",
            "_________________________________________________________________\n"
          ],
          "name": "stdout"
        }
      ]
    },
    {
      "cell_type": "code",
      "metadata": {
        "id": "sk9E2aKRS7hT"
      },
      "source": [
        "# 2. 학습/ 평가 방법 설정\n",
        "model2.compile(loss =\"categorical_crossentropy\",\n",
        "               optimizer = 'SGD',            # Adam : 최근에 가장 많이 사용되는 성능이 높은 최적화 함수\n",
        "               metrics = [\"acc\"]               # metrics: 평가 방법을 설정 (분류 문제이기 때문에 정확도(acc)를 확인)\n",
        "               )"
      ],
      "execution_count": 17,
      "outputs": []
    },
    {
      "cell_type": "code",
      "metadata": {
        "colab": {
          "base_uri": "https://localhost:8080/"
        },
        "id": "cN2zOZN9TAFb",
        "outputId": "58f05a67-97d6-4eed-9f5f-e76877efd0db"
      },
      "source": [
        "h2 = model2.fit(X_train, \n",
        "              y_train_one_hot,\n",
        "              validation_data = (X_val, y_val_one_hot), \n",
        "              epochs=30, \n",
        "              verbose =1)\n",
        "# verbose: 학습 결과의 출력 형태를 설정하는 명령 (0: 출력 x, 1: bar 형태 (디폴트 값), 2: bar가 없는 형태로 출력)"
      ],
      "execution_count": 18,
      "outputs": [
        {
          "output_type": "stream",
          "text": [
            "Epoch 1/30\n",
            "1407/1407 [==============================] - 5s 3ms/step - loss: nan - acc: 0.0998 - val_loss: nan - val_acc: 0.1003\n",
            "Epoch 2/30\n",
            "1407/1407 [==============================] - 5s 3ms/step - loss: nan - acc: 0.0999 - val_loss: nan - val_acc: 0.1003\n",
            "Epoch 3/30\n",
            "1407/1407 [==============================] - 4s 3ms/step - loss: nan - acc: 0.0999 - val_loss: nan - val_acc: 0.1003\n",
            "Epoch 4/30\n",
            "1407/1407 [==============================] - 4s 3ms/step - loss: nan - acc: 0.0999 - val_loss: nan - val_acc: 0.1003\n",
            "Epoch 5/30\n",
            "1407/1407 [==============================] - 4s 3ms/step - loss: nan - acc: 0.0999 - val_loss: nan - val_acc: 0.1003\n",
            "Epoch 6/30\n",
            "1407/1407 [==============================] - 4s 3ms/step - loss: nan - acc: 0.0999 - val_loss: nan - val_acc: 0.1003\n",
            "Epoch 7/30\n",
            "1407/1407 [==============================] - 4s 3ms/step - loss: nan - acc: 0.0999 - val_loss: nan - val_acc: 0.1003\n",
            "Epoch 8/30\n",
            "1407/1407 [==============================] - 5s 3ms/step - loss: nan - acc: 0.0999 - val_loss: nan - val_acc: 0.1003\n",
            "Epoch 9/30\n",
            "1407/1407 [==============================] - 4s 3ms/step - loss: nan - acc: 0.0999 - val_loss: nan - val_acc: 0.1003\n",
            "Epoch 10/30\n",
            "1407/1407 [==============================] - 5s 3ms/step - loss: nan - acc: 0.0999 - val_loss: nan - val_acc: 0.1003\n",
            "Epoch 11/30\n",
            "1407/1407 [==============================] - 5s 3ms/step - loss: nan - acc: 0.0999 - val_loss: nan - val_acc: 0.1003\n",
            "Epoch 12/30\n",
            "1407/1407 [==============================] - 5s 3ms/step - loss: nan - acc: 0.0999 - val_loss: nan - val_acc: 0.1003\n",
            "Epoch 13/30\n",
            "1407/1407 [==============================] - 5s 3ms/step - loss: nan - acc: 0.0999 - val_loss: nan - val_acc: 0.1003\n",
            "Epoch 14/30\n",
            "1407/1407 [==============================] - 4s 3ms/step - loss: nan - acc: 0.0999 - val_loss: nan - val_acc: 0.1003\n",
            "Epoch 15/30\n",
            "1407/1407 [==============================] - 5s 3ms/step - loss: nan - acc: 0.0999 - val_loss: nan - val_acc: 0.1003\n",
            "Epoch 16/30\n",
            "1407/1407 [==============================] - 4s 3ms/step - loss: nan - acc: 0.0999 - val_loss: nan - val_acc: 0.1003\n",
            "Epoch 17/30\n",
            "1407/1407 [==============================] - 5s 3ms/step - loss: nan - acc: 0.0999 - val_loss: nan - val_acc: 0.1003\n",
            "Epoch 18/30\n",
            "1407/1407 [==============================] - 4s 3ms/step - loss: nan - acc: 0.0999 - val_loss: nan - val_acc: 0.1003\n",
            "Epoch 19/30\n",
            "1407/1407 [==============================] - 4s 3ms/step - loss: nan - acc: 0.0999 - val_loss: nan - val_acc: 0.1003\n",
            "Epoch 20/30\n",
            "1407/1407 [==============================] - 4s 3ms/step - loss: nan - acc: 0.0999 - val_loss: nan - val_acc: 0.1003\n",
            "Epoch 21/30\n",
            "1407/1407 [==============================] - 5s 3ms/step - loss: nan - acc: 0.0999 - val_loss: nan - val_acc: 0.1003\n",
            "Epoch 22/30\n",
            "1407/1407 [==============================] - 5s 3ms/step - loss: nan - acc: 0.0999 - val_loss: nan - val_acc: 0.1003\n",
            "Epoch 23/30\n",
            "1407/1407 [==============================] - 4s 3ms/step - loss: nan - acc: 0.0999 - val_loss: nan - val_acc: 0.1003\n",
            "Epoch 24/30\n",
            "1407/1407 [==============================] - 4s 3ms/step - loss: nan - acc: 0.0999 - val_loss: nan - val_acc: 0.1003\n",
            "Epoch 25/30\n",
            "1407/1407 [==============================] - 4s 3ms/step - loss: nan - acc: 0.0999 - val_loss: nan - val_acc: 0.1003\n",
            "Epoch 26/30\n",
            "1407/1407 [==============================] - 5s 3ms/step - loss: nan - acc: 0.0999 - val_loss: nan - val_acc: 0.1003\n",
            "Epoch 27/30\n",
            "1407/1407 [==============================] - 4s 3ms/step - loss: nan - acc: 0.0999 - val_loss: nan - val_acc: 0.1003\n",
            "Epoch 28/30\n",
            "1407/1407 [==============================] - 5s 3ms/step - loss: nan - acc: 0.0999 - val_loss: nan - val_acc: 0.1003\n",
            "Epoch 29/30\n",
            "1407/1407 [==============================] - 4s 3ms/step - loss: nan - acc: 0.0999 - val_loss: nan - val_acc: 0.1003\n",
            "Epoch 30/30\n",
            "1407/1407 [==============================] - 4s 3ms/step - loss: nan - acc: 0.0999 - val_loss: nan - val_acc: 0.1003\n"
          ],
          "name": "stdout"
        }
      ]
    },
    {
      "cell_type": "code",
      "metadata": {
        "colab": {
          "base_uri": "https://localhost:8080/",
          "height": 320
        },
        "id": "f0Z2UaX2TQRi",
        "outputId": "995a8928-6477-4177-ba97-45bda9a70482"
      },
      "source": [
        "# 시각화\n",
        "plt.figure(figsize=(15,5))\n",
        "\n",
        "# train 데이터\n",
        "plt.plot(range(1,31),\n",
        "         h2.history['acc'],\n",
        "         label ='acc'\n",
        "         )\n",
        "# val 데이터\n",
        "plt.plot(range(1,31),\n",
        "         h2.history['val_acc'],\n",
        "         label ='val_acc'\n",
        "         )\n",
        "\n",
        "\n",
        "\n",
        "plt.legend()\n",
        "plt.show()"
      ],
      "execution_count": 19,
      "outputs": [
        {
          "output_type": "display_data",
          "data": {
            "image/png": "[encoded data removed]",
            "text/plain": [
              "<Figure size 1080x360 with 1 Axes>"
            ]
          },
          "metadata": {
            "tags": [],
            "needs_background": "light"
          }
        }
      ]
    },
    {
      "cell_type": "code",
      "metadata": {
        "colab": {
          "base_uri": "https://localhost:8080/"
        },
        "id": "FJPf3xYXTT38",
        "outputId": "1660c348-eb62-4679-dbbf-13e378f21e21"
      },
      "source": [
        "# 모델 평가\n",
        "model2.evaluate(X_test,y_test_one_hot)"
      ],
      "execution_count": 20,
      "outputs": [
        {
          "output_type": "stream",
          "text": [
            "313/313 [==============================] - 1s 2ms/step - loss: nan - acc: 0.1000\n"
          ],
          "name": "stdout"
        },
        {
          "output_type": "execute_result",
          "data": {
            "text/plain": [
              "[nan, 0.10000000149011612]"
            ]
          },
          "metadata": {
            "tags": []
          },
          "execution_count": 20
        }
      ]
    },
    {
      "cell_type": "code",
      "metadata": {
        "colab": {
          "base_uri": "https://localhost:8080/"
        },
        "id": "wzWK4r3-TT1F",
        "outputId": "7cc31aed-8d3b-4cf7-c894-51f6836b3ede"
      },
      "source": [
        "# 3번 중간층 활성화 함수 relu, 최적화함수 adam\n",
        "\n",
        "# 신경망의 뼈대를 설정\n",
        "model3 = Sequential()\n",
        "\n",
        "# Flatten 명령을 통해서 한번에 바로 2차원 이미지 데이터를 1차원으로 펴줌\n",
        "model3.add (Flatten(input_shape = (28,28)))\n",
        "# 입력층 + 중간층\n",
        "# input_dim : 데이터 특성의 개수\n",
        "# activation: 활성화 함수를 설정 (들어온 자극 (데이터)에 대한 응답여부를 결정하는 함수)\n",
        "model3.add(Dense(500, activation=\"sigmoid\"))\n",
        "\n",
        "# 중간층\n",
        "model3.add(Dense(500,activation=\"sigmoid\"))   # 하나의 층\n",
        "model3.add(Dense(300, activation=\"sigmoid\"))   # 하나의 층\n",
        "model3.add(Dense(100, activation=\"sigmoid\"))   # 하나의 층\n",
        "\n",
        "\n",
        "# 출력층\n",
        "model3.add(Dense(10, activation=\"softmax\"))   # 0~9까지의 정답레이블 (10개)\n",
        "\n",
        "model3.summary()"
      ],
      "execution_count": 21,
      "outputs": [
        {
          "output_type": "stream",
          "text": [
            "Model: \"sequential_2\"\n",
            "_________________________________________________________________\n",
            "Layer (type)                 Output Shape              Param #   \n",
            "=================================================================\n",
            "flatten_2 (Flatten)          (None, 784)               0         \n",
            "_________________________________________________________________\n",
            "dense_10 (Dense)             (None, 500)               392500    \n",
            "_________________________________________________________________\n",
            "dense_11 (Dense)             (None, 500)               250500    \n",
            "_________________________________________________________________\n",
            "dense_12 (Dense)             (None, 300)               150300    \n",
            "_________________________________________________________________\n",
            "dense_13 (Dense)             (None, 100)               30100     \n",
            "_________________________________________________________________\n",
            "dense_14 (Dense)             (None, 10)                1010      \n",
            "=================================================================\n",
            "Total params: 824,410\n",
            "Trainable params: 824,410\n",
            "Non-trainable params: 0\n",
            "_________________________________________________________________\n"
          ],
          "name": "stdout"
        }
      ]
    },
    {
      "cell_type": "code",
      "metadata": {
        "id": "-wUB_R3JTTyS"
      },
      "source": [
        "# 2. 학습/ 평가 방법 설정\n",
        "model3.compile(loss =\"categorical_crossentropy\",\n",
        "               optimizer = 'Adam',            # Adam : 최근에 가장 많이 사용되는 성능이 높은 최적화 함수\n",
        "               metrics = [\"acc\"]               # metrics: 평가 방법을 설정 (분류 문제이기 때문에 정확도(acc)를 확인)\n",
        "               )"
      ],
      "execution_count": 22,
      "outputs": []
    },
    {
      "cell_type": "code",
      "metadata": {
        "colab": {
          "base_uri": "https://localhost:8080/"
        },
        "id": "gAThUw7-TTvu",
        "outputId": "785294a4-d4b8-449f-bef0-cbb1a6f26c55"
      },
      "source": [
        "h3 = model3.fit(X_train, \n",
        "              y_train_one_hot,\n",
        "              validation_data = (X_val, y_val_one_hot), \n",
        "              epochs=30, \n",
        "              verbose =1)\n",
        "# verbose: 학습 결과의 출력 형태를 설정하는 명령 (0: 출력 x, 1: bar 형태 (디폴트 값), 2: bar가 없는 형태로 출력)"
      ],
      "execution_count": 23,
      "outputs": [
        {
          "output_type": "stream",
          "text": [
            "Epoch 1/30\n",
            "1407/1407 [==============================] - 6s 4ms/step - loss: 0.9415 - acc: 0.6374 - val_loss: 0.7986 - val_acc: 0.6783\n",
            "Epoch 2/30\n",
            "1407/1407 [==============================] - 4s 3ms/step - loss: 0.8191 - acc: 0.6789 - val_loss: 0.7506 - val_acc: 0.6919\n",
            "Epoch 3/30\n",
            "1407/1407 [==============================] - 5s 4ms/step - loss: 0.7800 - acc: 0.6912 - val_loss: 0.7220 - val_acc: 0.7215\n",
            "Epoch 4/30\n",
            "1407/1407 [==============================] - 5s 4ms/step - loss: 0.7770 - acc: 0.6986 - val_loss: 0.8718 - val_acc: 0.6411\n",
            "Epoch 5/30\n",
            "1407/1407 [==============================] - 4s 3ms/step - loss: 0.7344 - acc: 0.7072 - val_loss: 0.7542 - val_acc: 0.7091\n",
            "Epoch 6/30\n",
            "1407/1407 [==============================] - 5s 4ms/step - loss: 0.7347 - acc: 0.7015 - val_loss: 0.7348 - val_acc: 0.7091\n",
            "Epoch 7/30\n",
            "1407/1407 [==============================] - 5s 4ms/step - loss: 0.7205 - acc: 0.7114 - val_loss: 0.6751 - val_acc: 0.7383\n",
            "Epoch 8/30\n",
            "1407/1407 [==============================] - 4s 3ms/step - loss: 0.6993 - acc: 0.7302 - val_loss: 0.7118 - val_acc: 0.7246\n",
            "Epoch 9/30\n",
            "1407/1407 [==============================] - 4s 3ms/step - loss: 0.6985 - acc: 0.7255 - val_loss: 0.6747 - val_acc: 0.7280\n",
            "Epoch 10/30\n",
            "1407/1407 [==============================] - 4s 3ms/step - loss: 0.7076 - acc: 0.7152 - val_loss: 0.6913 - val_acc: 0.7157\n",
            "Epoch 11/30\n",
            "1407/1407 [==============================] - 5s 4ms/step - loss: 0.6804 - acc: 0.7279 - val_loss: 0.6413 - val_acc: 0.7455\n",
            "Epoch 12/30\n",
            "1407/1407 [==============================] - 4s 3ms/step - loss: 0.6714 - acc: 0.7383 - val_loss: 0.6614 - val_acc: 0.7423\n",
            "Epoch 13/30\n",
            "1407/1407 [==============================] - 4s 3ms/step - loss: 0.6738 - acc: 0.7338 - val_loss: 0.6611 - val_acc: 0.7550\n",
            "Epoch 14/30\n",
            "1407/1407 [==============================] - 5s 3ms/step - loss: 0.6616 - acc: 0.7437 - val_loss: 0.6895 - val_acc: 0.7290\n",
            "Epoch 15/30\n",
            "1407/1407 [==============================] - 4s 3ms/step - loss: 0.6489 - acc: 0.7479 - val_loss: 0.6685 - val_acc: 0.7567\n",
            "Epoch 16/30\n",
            "1407/1407 [==============================] - 5s 4ms/step - loss: 0.6527 - acc: 0.7509 - val_loss: 0.6643 - val_acc: 0.7441\n",
            "Epoch 17/30\n",
            "1407/1407 [==============================] - 5s 4ms/step - loss: 0.6438 - acc: 0.7524 - val_loss: 0.6743 - val_acc: 0.7485\n",
            "Epoch 18/30\n",
            "1407/1407 [==============================] - 4s 3ms/step - loss: 0.6446 - acc: 0.7519 - val_loss: 0.6079 - val_acc: 0.7700\n",
            "Epoch 19/30\n",
            "1407/1407 [==============================] - 4s 3ms/step - loss: 0.6258 - acc: 0.7604 - val_loss: 0.6338 - val_acc: 0.7555\n",
            "Epoch 20/30\n",
            "1407/1407 [==============================] - 4s 3ms/step - loss: 0.6359 - acc: 0.7489 - val_loss: 0.6373 - val_acc: 0.7449\n",
            "Epoch 21/30\n",
            "1407/1407 [==============================] - 4s 3ms/step - loss: 0.6171 - acc: 0.7656 - val_loss: 0.6530 - val_acc: 0.7302\n",
            "Epoch 22/30\n",
            "1407/1407 [==============================] - 5s 4ms/step - loss: 0.6379 - acc: 0.7541 - val_loss: 0.6397 - val_acc: 0.7615\n",
            "Epoch 23/30\n",
            "1407/1407 [==============================] - 5s 4ms/step - loss: 0.6269 - acc: 0.7588 - val_loss: 0.6258 - val_acc: 0.7618\n",
            "Epoch 24/30\n",
            "1407/1407 [==============================] - 4s 3ms/step - loss: 0.6297 - acc: 0.7596 - val_loss: 0.6962 - val_acc: 0.7396\n",
            "Epoch 25/30\n",
            "1407/1407 [==============================] - 4s 3ms/step - loss: 0.6279 - acc: 0.7584 - val_loss: 0.6156 - val_acc: 0.7614\n",
            "Epoch 26/30\n",
            "1407/1407 [==============================] - 5s 4ms/step - loss: 0.6099 - acc: 0.7679 - val_loss: 0.6419 - val_acc: 0.7671\n",
            "Epoch 27/30\n",
            "1407/1407 [==============================] - 5s 4ms/step - loss: 0.6126 - acc: 0.7718 - val_loss: 0.6292 - val_acc: 0.7667\n",
            "Epoch 28/30\n",
            "1407/1407 [==============================] - 5s 3ms/step - loss: 0.6198 - acc: 0.7648 - val_loss: 0.6293 - val_acc: 0.7615\n",
            "Epoch 29/30\n",
            "1407/1407 [==============================] - 5s 4ms/step - loss: 0.5906 - acc: 0.7749 - val_loss: 0.6166 - val_acc: 0.7572\n",
            "Epoch 30/30\n",
            "1407/1407 [==============================] - 5s 4ms/step - loss: 0.5959 - acc: 0.7671 - val_loss: 0.5770 - val_acc: 0.7825\n"
          ],
          "name": "stdout"
        }
      ]
    },
    {
      "cell_type": "code",
      "metadata": {
        "colab": {
          "base_uri": "https://localhost:8080/",
          "height": 320
        },
        "id": "o-k2QNg8TTs6",
        "outputId": "c026bd21-5e91-4c0d-9b04-69b4b4cc440b"
      },
      "source": [
        "# 시각화\n",
        "\n",
        "plt.figure(figsize=(15,5))\n",
        "\n",
        "# train 데이터\n",
        "plt.plot(range(1,31),\n",
        "         h3.history['acc'],\n",
        "         label ='acc'\n",
        "         )\n",
        "# val 데이터\n",
        "plt.plot(range(1,31),\n",
        "         h3.history['val_acc'],\n",
        "         label ='val_acc'\n",
        "         )\n",
        "\n",
        "\n",
        "\n",
        "plt.legend()\n",
        "plt.show()"
      ],
      "execution_count": 24,
      "outputs": [
        {
          "output_type": "display_data",
          "data": {
            "image/png": "[encoded data removed]",
            "text/plain": [
              "<Figure size 1080x360 with 1 Axes>"
            ]
          },
          "metadata": {
            "tags": [],
            "needs_background": "light"
          }
        }
      ]
    },
    {
      "cell_type": "code",
      "metadata": {
        "colab": {
          "base_uri": "https://localhost:8080/"
        },
        "id": "6fNdX8A8TTqS",
        "outputId": "54f0582e-b050-406c-b5bc-b8c508e5f185"
      },
      "source": [
        "# 모델 평가\n",
        "model3.evaluate(X_test,y_test_one_hot)"
      ],
      "execution_count": 25,
      "outputs": [
        {
          "output_type": "stream",
          "text": [
            "313/313 [==============================] - 1s 2ms/step - loss: 0.6122 - acc: 0.7643\n"
          ],
          "name": "stdout"
        },
        {
          "output_type": "execute_result",
          "data": {
            "text/plain": [
              "[0.6122300028800964, 0.7642999887466431]"
            ]
          },
          "metadata": {
            "tags": []
          },
          "execution_count": 25
        }
      ]
    },
    {
      "cell_type": "code",
      "metadata": {
        "colab": {
          "base_uri": "https://localhost:8080/",
          "height": 320
        },
        "id": "7U-gzx4UTTnq",
        "outputId": "147e0891-3efc-4eef-f992-7854ef69f384"
      },
      "source": [
        "# 하양그래프 점점 손실값이 줄어들고있는 그래프\n",
        "\n",
        "plt.figure(figsize=(15,5))\n",
        "\n",
        "plt.plot(range(1,31,1),\n",
        "         h.history['acc'],\n",
        "         label='acc'\n",
        "         )\n",
        "\n",
        "plt.plot(range(1,31,1),\n",
        "         h2.history['acc'],\n",
        "         label='acc'\n",
        "         )\n",
        "\n",
        "plt.plot(range(1, 31),\n",
        "         h3.history['acc'],\n",
        "         label='acc'\n",
        "         )\n",
        "plt.legend()\n",
        "plt.show()"
      ],
      "execution_count": 26,
      "outputs": [
        {
          "output_type": "display_data",
          "data": {
            "image/png": "[encoded data removed]",
            "text/plain": [
              "<Figure size 1080x360 with 1 Axes>"
            ]
          },
          "metadata": {
            "tags": [],
            "needs_background": "light"
          }
        }
      ]
    },
    {
      "cell_type": "code",
      "metadata": {
        "id": "fhiY8mNSTTfl"
      },
      "source": [
        ""
      ],
      "execution_count": 25,
      "outputs": []
    },
    {
      "cell_type": "code",
      "metadata": {
        "id": "zmh67mWATTcj"
      },
      "source": [
        ""
      ],
      "execution_count": 25,
      "outputs": []
    }
  ]
}