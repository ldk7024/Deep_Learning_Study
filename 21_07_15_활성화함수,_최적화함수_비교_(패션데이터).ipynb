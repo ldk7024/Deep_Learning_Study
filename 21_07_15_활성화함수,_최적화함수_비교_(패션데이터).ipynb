{
  "nbformat": 4,
  "nbformat_minor": 0,
  "metadata": {
    "accelerator": "GPU",
    "colab": {
      "name": "21.07.15_활성화함수,  최적화함수 비교 (패션데이터)",
      "provenance": [],
      "collapsed_sections": [],
      "mount_file_id": "1xYZq0FK777_G8Saoxdk4_cePFCHMUFfC",
      "authorship_tag": "ABX9TyMLkxpFFv5sOwi23DIp16Py",
      "include_colab_link": true
    },
    "kernelspec": {
      "display_name": "Python 3",
      "name": "python3"
    },
    "language_info": {
      "name": "python"
    }
  },
  "cells": [
    {
      "cell_type": "markdown",
      "metadata": {
        "id": "view-in-github",
        "colab_type": "text"
      },
      "source": [
        "<a href=\"https://colab.research.google.com/github/ldk7024/Deep_Learning_Study/blob/main/21_07_15_%ED%99%9C%EC%84%B1%ED%99%94%ED%95%A8%EC%88%98%2C_%EC%B5%9C%EC%A0%81%ED%99%94%ED%95%A8%EC%88%98_%EB%B9%84%EA%B5%90_(%ED%8C%A8%EC%85%98%EB%8D%B0%EC%9D%B4%ED%84%B0).ipynb\" target=\"_parent\"><img src=\"https://colab.research.google.com/assets/colab-badge.svg\" alt=\"Open In Colab\"/></a>"
      ]
    },
    {
      "cell_type": "code",
      "metadata": {
        "id": "_Xb8OuBHNwlM"
      },
      "source": [
        "import numpy as np\n",
        "import pandas as pd\n",
        "import matplotlib.pyplot as plt\n",
        "from tensorflow.keras.datasets import fashion_mnist"
      ],
      "execution_count": 45,
      "outputs": []
    },
    {
      "cell_type": "code",
      "metadata": {
        "colab": {
          "base_uri": "https://localhost:8080/"
        },
        "id": "3BXAIzXtNwiU",
        "outputId": "9b399a82-b2cf-49d7-e8b0-39e2705d1438"
      },
      "source": [
        "data = fashion_mnist.load_data()\n",
        "data"
      ],
      "execution_count": 46,
      "outputs": [
        {
          "output_type": "execute_result",
          "data": {
            "text/plain": [
              "((array([[[0, 0, 0, ..., 0, 0, 0],\n",
              "          [0, 0, 0, ..., 0, 0, 0],\n",
              "          [0, 0, 0, ..., 0, 0, 0],\n",
              "          ...,\n",
              "          [0, 0, 0, ..., 0, 0, 0],\n",
              "          [0, 0, 0, ..., 0, 0, 0],\n",
              "          [0, 0, 0, ..., 0, 0, 0]],\n",
              "  \n",
              "         [[0, 0, 0, ..., 0, 0, 0],\n",
              "          [0, 0, 0, ..., 0, 0, 0],\n",
              "          [0, 0, 0, ..., 0, 0, 0],\n",
              "          ...,\n",
              "          [0, 0, 0, ..., 0, 0, 0],\n",
              "          [0, 0, 0, ..., 0, 0, 0],\n",
              "          [0, 0, 0, ..., 0, 0, 0]],\n",
              "  \n",
              "         [[0, 0, 0, ..., 0, 0, 0],\n",
              "          [0, 0, 0, ..., 0, 0, 0],\n",
              "          [0, 0, 0, ..., 0, 0, 0],\n",
              "          ...,\n",
              "          [0, 0, 0, ..., 0, 0, 0],\n",
              "          [0, 0, 0, ..., 0, 0, 0],\n",
              "          [0, 0, 0, ..., 0, 0, 0]],\n",
              "  \n",
              "         ...,\n",
              "  \n",
              "         [[0, 0, 0, ..., 0, 0, 0],\n",
              "          [0, 0, 0, ..., 0, 0, 0],\n",
              "          [0, 0, 0, ..., 0, 0, 0],\n",
              "          ...,\n",
              "          [0, 0, 0, ..., 0, 0, 0],\n",
              "          [0, 0, 0, ..., 0, 0, 0],\n",
              "          [0, 0, 0, ..., 0, 0, 0]],\n",
              "  \n",
              "         [[0, 0, 0, ..., 0, 0, 0],\n",
              "          [0, 0, 0, ..., 0, 0, 0],\n",
              "          [0, 0, 0, ..., 0, 0, 0],\n",
              "          ...,\n",
              "          [0, 0, 0, ..., 0, 0, 0],\n",
              "          [0, 0, 0, ..., 0, 0, 0],\n",
              "          [0, 0, 0, ..., 0, 0, 0]],\n",
              "  \n",
              "         [[0, 0, 0, ..., 0, 0, 0],\n",
              "          [0, 0, 0, ..., 0, 0, 0],\n",
              "          [0, 0, 0, ..., 0, 0, 0],\n",
              "          ...,\n",
              "          [0, 0, 0, ..., 0, 0, 0],\n",
              "          [0, 0, 0, ..., 0, 0, 0],\n",
              "          [0, 0, 0, ..., 0, 0, 0]]], dtype=uint8),\n",
              "  array([9, 0, 0, ..., 3, 0, 5], dtype=uint8)),\n",
              " (array([[[0, 0, 0, ..., 0, 0, 0],\n",
              "          [0, 0, 0, ..., 0, 0, 0],\n",
              "          [0, 0, 0, ..., 0, 0, 0],\n",
              "          ...,\n",
              "          [0, 0, 0, ..., 0, 0, 0],\n",
              "          [0, 0, 0, ..., 0, 0, 0],\n",
              "          [0, 0, 0, ..., 0, 0, 0]],\n",
              "  \n",
              "         [[0, 0, 0, ..., 0, 0, 0],\n",
              "          [0, 0, 0, ..., 0, 0, 0],\n",
              "          [0, 0, 0, ..., 0, 0, 0],\n",
              "          ...,\n",
              "          [0, 0, 0, ..., 0, 0, 0],\n",
              "          [0, 0, 0, ..., 0, 0, 0],\n",
              "          [0, 0, 0, ..., 0, 0, 0]],\n",
              "  \n",
              "         [[0, 0, 0, ..., 0, 0, 0],\n",
              "          [0, 0, 0, ..., 0, 0, 0],\n",
              "          [0, 0, 0, ..., 0, 0, 0],\n",
              "          ...,\n",
              "          [0, 0, 0, ..., 0, 0, 0],\n",
              "          [0, 0, 0, ..., 0, 0, 0],\n",
              "          [0, 0, 0, ..., 0, 0, 0]],\n",
              "  \n",
              "         ...,\n",
              "  \n",
              "         [[0, 0, 0, ..., 0, 0, 0],\n",
              "          [0, 0, 0, ..., 0, 0, 0],\n",
              "          [0, 0, 0, ..., 0, 0, 0],\n",
              "          ...,\n",
              "          [0, 0, 0, ..., 0, 0, 0],\n",
              "          [0, 0, 0, ..., 0, 0, 0],\n",
              "          [0, 0, 0, ..., 0, 0, 0]],\n",
              "  \n",
              "         [[0, 0, 0, ..., 0, 0, 0],\n",
              "          [0, 0, 0, ..., 0, 0, 0],\n",
              "          [0, 0, 0, ..., 0, 0, 0],\n",
              "          ...,\n",
              "          [0, 0, 0, ..., 0, 0, 0],\n",
              "          [0, 0, 0, ..., 0, 0, 0],\n",
              "          [0, 0, 0, ..., 0, 0, 0]],\n",
              "  \n",
              "         [[0, 0, 0, ..., 0, 0, 0],\n",
              "          [0, 0, 0, ..., 0, 0, 0],\n",
              "          [0, 0, 0, ..., 0, 0, 0],\n",
              "          ...,\n",
              "          [0, 0, 0, ..., 0, 0, 0],\n",
              "          [0, 0, 0, ..., 0, 0, 0],\n",
              "          [0, 0, 0, ..., 0, 0, 0]]], dtype=uint8),\n",
              "  array([9, 2, 1, ..., 8, 1, 5], dtype=uint8)))"
            ]
          },
          "metadata": {
            "tags": []
          },
          "execution_count": 46
        }
      ]
    },
    {
      "cell_type": "code",
      "metadata": {
        "id": "7eHcrwUqNwfd"
      },
      "source": [
        "X_train = data[0][0]  # X_train\n",
        "y_train = data[0][1]  # y_train\n",
        "X_test = data[1][0]  # X_test\n",
        "y_test = data[1][1]  # y_test"
      ],
      "execution_count": 47,
      "outputs": []
    },
    {
      "cell_type": "code",
      "metadata": {
        "colab": {
          "base_uri": "https://localhost:8080/"
        },
        "id": "fXpmupfSPYih",
        "outputId": "ed8fc209-c677-4d00-c850-a67b44aec162"
      },
      "source": [
        "print(X_train.shape)  # 데이터 개수, 가로 픽셀수, 세로 픽셀수\n",
        "print(y_train.shape)\n",
        "print(X_test.shape)   # 데이터 개수, 가로 픽셀수, 세로 픽셀수\n",
        "print(y_test.shape)"
      ],
      "execution_count": 48,
      "outputs": [
        {
          "output_type": "stream",
          "text": [
            "(60000, 28, 28)\n",
            "(60000,)\n",
            "(10000, 28, 28)\n",
            "(10000,)\n"
          ],
          "name": "stdout"
        }
      ]
    },
    {
      "cell_type": "code",
      "metadata": {
        "id": "rmy_j4FiQX1m"
      },
      "source": [
        "y_train_one_hot = pd.get_dummies(y_train)\n",
        "y_test_one_hot = pd.get_dummies(y_test)"
      ],
      "execution_count": 49,
      "outputs": []
    },
    {
      "cell_type": "code",
      "metadata": {
        "colab": {
          "base_uri": "https://localhost:8080/"
        },
        "id": "5zRCv8pFQ48c",
        "outputId": "29f74136-9645-42f6-fd2b-a5a9761afeb7"
      },
      "source": [
        "y_train_one_hot.shape"
      ],
      "execution_count": 50,
      "outputs": [
        {
          "output_type": "execute_result",
          "data": {
            "text/plain": [
              "(60000, 10)"
            ]
          },
          "metadata": {
            "tags": []
          },
          "execution_count": 50
        }
      ]
    },
    {
      "cell_type": "code",
      "metadata": {
        "id": "_vgakBdGQ6fc"
      },
      "source": [
        "from sklearn.model_selection import train_test_split"
      ],
      "execution_count": 51,
      "outputs": []
    },
    {
      "cell_type": "code",
      "metadata": {
        "id": "y7PifzKuQ7UY"
      },
      "source": [
        "X_train, X_val, y_train_one_hot, y_val_one_hot = train_test_split(X_train, \n",
        "                                                                  y_train_one_hot,\n",
        "                                                                  random_state = 3\n",
        "                                                                  )"
      ],
      "execution_count": 52,
      "outputs": []
    },
    {
      "cell_type": "code",
      "metadata": {
        "id": "sfIpao63Q7Rz"
      },
      "source": [
        "# 딥러닝을 위한 라이브러리를 임포트\n",
        "from tensorflow.keras import Sequential  # 신경망의 뼈대를 구성\n",
        "from tensorflow.keras.layers import Dense   # 신경망의 층을 구성\n",
        "from tensorflow.keras.layers import Flatten # Flatten: 데이터를 1차원으로 자동으로 펴주는 모듈\n",
        "from tensorflow.keras.layers import InputLayer,Dense"
      ],
      "execution_count": 53,
      "outputs": []
    },
    {
      "cell_type": "code",
      "metadata": {
        "colab": {
          "base_uri": "https://localhost:8080/"
        },
        "id": "KAO7EOfIQ7PM",
        "outputId": "0f65be45-3fa7-4e16-d2a9-c79597c34cf0"
      },
      "source": [
        "# 1번 중간층 활성화 함수 sigmoid\n",
        "\n",
        "# 신경망의 뼈대를 설정\n",
        "model = Sequential()\n",
        "\n",
        "# Flatten 명령을 통해서 한번에 바로 2차원 이미지 데이터를 1차원으로 펴줌\n",
        "model.add (Flatten(input_shape = (28,28)))\n",
        "# 입력층 + 중간층\n",
        "# input_dim : 데이터 특성의 개수\n",
        "# activation: 활성화 함수를 설정 (들어온 자극 (데이터)에 대한 응답여부를 결정하는 함수)\n",
        "model.add(Dense(500, activation=\"sigmoid\"))\n",
        "\n",
        "# 중간층\n",
        "model.add(Dense(500,activation=\"sigmoid\"))   # 하나의 층\n",
        "model.add(Dense(300, activation=\"sigmoid\"))   # 하나의 층\n",
        "model.add(Dense(100, activation=\"sigmoid\"))   # 하나의 층\n",
        "\n",
        "\n",
        "# 출력층\n",
        "model.add(Dense(10, activation=\"softmax\"))   # 0~9까지의 정답레이블 (10개)\n",
        "\n",
        "model.summary()"
      ],
      "execution_count": 54,
      "outputs": [
        {
          "output_type": "stream",
          "text": [
            "Model: \"sequential_4\"\n",
            "_________________________________________________________________\n",
            "Layer (type)                 Output Shape              Param #   \n",
            "=================================================================\n",
            "flatten_4 (Flatten)          (None, 784)               0         \n",
            "_________________________________________________________________\n",
            "dense_20 (Dense)             (None, 500)               392500    \n",
            "_________________________________________________________________\n",
            "dense_21 (Dense)             (None, 500)               250500    \n",
            "_________________________________________________________________\n",
            "dense_22 (Dense)             (None, 300)               150300    \n",
            "_________________________________________________________________\n",
            "dense_23 (Dense)             (None, 100)               30100     \n",
            "_________________________________________________________________\n",
            "dense_24 (Dense)             (None, 10)                1010      \n",
            "=================================================================\n",
            "Total params: 824,410\n",
            "Trainable params: 824,410\n",
            "Non-trainable params: 0\n",
            "_________________________________________________________________\n"
          ],
          "name": "stdout"
        }
      ]
    },
    {
      "cell_type": "code",
      "metadata": {
        "id": "KaQnrNi7Q7Mj"
      },
      "source": [
        "# 2. 학습/ 평가 방법 설정\n",
        "model.compile(loss =\"categorical_crossentropy\",\n",
        "               optimizer = 'SGD',            # Adam : 최근에 가장 많이 사용되는 성능이 높은 최적화 함수\n",
        "               metrics = [\"acc\"]               # metrics: 평가 방법을 설정 (분류 문제이기 때문에 정확도(acc)를 확인)\n",
        "               )"
      ],
      "execution_count": 55,
      "outputs": []
    },
    {
      "cell_type": "code",
      "metadata": {
        "colab": {
          "base_uri": "https://localhost:8080/"
        },
        "id": "DEkHnpjoQ7KD",
        "outputId": "4836cf6d-10bf-4484-dfd3-2cf07f23a992"
      },
      "source": [
        "h = model.fit(X_train, \n",
        "              y_train_one_hot,\n",
        "              validation_data = (X_val, y_val_one_hot), \n",
        "              epochs=30, \n",
        "              verbose =1)\n",
        "# verbose: 학습 결과의 출력 형태를 설정하는 명령 (0: 출력 x, 1: bar 형태 (디폴트 값), 2: bar가 없는 형태로 출력)"
      ],
      "execution_count": 56,
      "outputs": [
        {
          "output_type": "stream",
          "text": [
            "Epoch 1/30\n",
            "1407/1407 [==============================] - 6s 4ms/step - loss: 2.2708 - acc: 0.2119 - val_loss: 2.2117 - val_acc: 0.2966\n",
            "Epoch 2/30\n",
            "1407/1407 [==============================] - 5s 3ms/step - loss: 1.9783 - acc: 0.3994 - val_loss: 1.6295 - val_acc: 0.4841\n",
            "Epoch 3/30\n",
            "1407/1407 [==============================] - 5s 3ms/step - loss: 1.4067 - acc: 0.5265 - val_loss: 1.2345 - val_acc: 0.5702\n",
            "Epoch 4/30\n",
            "1407/1407 [==============================] - 5s 3ms/step - loss: 1.1162 - acc: 0.5910 - val_loss: 1.0147 - val_acc: 0.6139\n",
            "Epoch 5/30\n",
            "1407/1407 [==============================] - 5s 4ms/step - loss: 0.9464 - acc: 0.6466 - val_loss: 0.8866 - val_acc: 0.6805\n",
            "Epoch 6/30\n",
            "1407/1407 [==============================] - 5s 4ms/step - loss: 0.8464 - acc: 0.6851 - val_loss: 0.8073 - val_acc: 0.7014\n",
            "Epoch 7/30\n",
            "1407/1407 [==============================] - 5s 4ms/step - loss: 0.7808 - acc: 0.7107 - val_loss: 0.7545 - val_acc: 0.7116\n",
            "Epoch 8/30\n",
            "1407/1407 [==============================] - 5s 4ms/step - loss: 0.7375 - acc: 0.7299 - val_loss: 0.7197 - val_acc: 0.7273\n",
            "Epoch 9/30\n",
            "1407/1407 [==============================] - 5s 3ms/step - loss: 0.7066 - acc: 0.7408 - val_loss: 0.7105 - val_acc: 0.7537\n",
            "Epoch 10/30\n",
            "1407/1407 [==============================] - 5s 3ms/step - loss: 0.6867 - acc: 0.7514 - val_loss: 0.6848 - val_acc: 0.7533\n",
            "Epoch 11/30\n",
            "1407/1407 [==============================] - 5s 4ms/step - loss: 0.6868 - acc: 0.7489 - val_loss: 0.6819 - val_acc: 0.7447\n",
            "Epoch 12/30\n",
            "1407/1407 [==============================] - 5s 4ms/step - loss: 0.6812 - acc: 0.7523 - val_loss: 0.6851 - val_acc: 0.7597\n",
            "Epoch 13/30\n",
            "1407/1407 [==============================] - 5s 4ms/step - loss: 0.6850 - acc: 0.7542 - val_loss: 0.7047 - val_acc: 0.7529\n",
            "Epoch 14/30\n",
            "1407/1407 [==============================] - 5s 4ms/step - loss: 0.6844 - acc: 0.7561 - val_loss: 0.6838 - val_acc: 0.7569\n",
            "Epoch 15/30\n",
            "1407/1407 [==============================] - 5s 4ms/step - loss: 0.6978 - acc: 0.7483 - val_loss: 0.6952 - val_acc: 0.7515\n",
            "Epoch 16/30\n",
            "1407/1407 [==============================] - 5s 4ms/step - loss: 0.7125 - acc: 0.7446 - val_loss: 0.6999 - val_acc: 0.7553\n",
            "Epoch 17/30\n",
            "1407/1407 [==============================] - 5s 3ms/step - loss: 0.7199 - acc: 0.7359 - val_loss: 0.9033 - val_acc: 0.6462\n",
            "Epoch 18/30\n",
            "1407/1407 [==============================] - 5s 4ms/step - loss: 0.7178 - acc: 0.7388 - val_loss: 0.7194 - val_acc: 0.7200\n",
            "Epoch 19/30\n",
            "1407/1407 [==============================] - 5s 4ms/step - loss: 0.7258 - acc: 0.7358 - val_loss: 0.7479 - val_acc: 0.7163\n",
            "Epoch 20/30\n",
            "1407/1407 [==============================] - 5s 4ms/step - loss: 0.7309 - acc: 0.7319 - val_loss: 0.7542 - val_acc: 0.7081\n",
            "Epoch 21/30\n",
            "1407/1407 [==============================] - 5s 3ms/step - loss: 0.7499 - acc: 0.7247 - val_loss: 0.7426 - val_acc: 0.7290\n",
            "Epoch 22/30\n",
            "1407/1407 [==============================] - 5s 4ms/step - loss: 0.7688 - acc: 0.7240 - val_loss: 0.8417 - val_acc: 0.7056\n",
            "Epoch 23/30\n",
            "1407/1407 [==============================] - 5s 4ms/step - loss: 0.7709 - acc: 0.7179 - val_loss: 0.8938 - val_acc: 0.6689\n",
            "Epoch 24/30\n",
            "1407/1407 [==============================] - 5s 3ms/step - loss: 0.7858 - acc: 0.7100 - val_loss: 0.8934 - val_acc: 0.6581\n",
            "Epoch 25/30\n",
            "1407/1407 [==============================] - 5s 3ms/step - loss: 0.8106 - acc: 0.6974 - val_loss: 0.8224 - val_acc: 0.7074\n",
            "Epoch 26/30\n",
            "1407/1407 [==============================] - 5s 3ms/step - loss: 0.7805 - acc: 0.7038 - val_loss: 0.8372 - val_acc: 0.6792\n",
            "Epoch 27/30\n",
            "1407/1407 [==============================] - 5s 3ms/step - loss: 0.7803 - acc: 0.7058 - val_loss: 0.8519 - val_acc: 0.6849\n",
            "Epoch 28/30\n",
            "1407/1407 [==============================] - 5s 4ms/step - loss: 0.7895 - acc: 0.6994 - val_loss: 0.7500 - val_acc: 0.7165\n",
            "Epoch 29/30\n",
            "1407/1407 [==============================] - 5s 4ms/step - loss: 0.7952 - acc: 0.6891 - val_loss: 0.9399 - val_acc: 0.6525\n",
            "Epoch 30/30\n",
            "1407/1407 [==============================] - 5s 3ms/step - loss: 0.7738 - acc: 0.7057 - val_loss: 0.8162 - val_acc: 0.6953\n"
          ],
          "name": "stdout"
        }
      ]
    },
    {
      "cell_type": "code",
      "metadata": {
        "colab": {
          "base_uri": "https://localhost:8080/",
          "height": 320
        },
        "id": "0dv_aH8kQ7Hb",
        "outputId": "a92a81a4-8d22-45d6-ddae-eb9fbcde1550"
      },
      "source": [
        "# 시각화\n",
        "\n",
        "plt.figure(figsize=(15,5))\n",
        "\n",
        "# train 데이터\n",
        "plt.plot(range(1,31),\n",
        "         h.history['acc'],\n",
        "         label ='acc'\n",
        "         )\n",
        "# val 데이터\n",
        "plt.plot(range(1,31),\n",
        "         h.history['val_acc'],\n",
        "         label ='val_acc'\n",
        "         )\n",
        "\n",
        "\n",
        "\n",
        "plt.legend()\n",
        "plt.show()"
      ],
      "execution_count": 57,
      "outputs": [
        {
          "output_type": "display_data",
          "data": {
            "image/png": "[encoded data removed]",
            "text/plain": [
              "<Figure size 1080x360 with 1 Axes>"
            ]
          },
          "metadata": {
            "tags": [],
            "needs_background": "light"
          }
        }
      ]
    },
    {
      "cell_type": "code",
      "metadata": {
        "colab": {
          "base_uri": "https://localhost:8080/"
        },
        "id": "ppHTvN4TQ7Ej",
        "outputId": "b208c313-212c-43c3-ec12-7910e4ed98d1"
      },
      "source": [
        "# 모델 평가\n",
        "model.evaluate(X_test,y_test_one_hot)"
      ],
      "execution_count": 58,
      "outputs": [
        {
          "output_type": "stream",
          "text": [
            "313/313 [==============================] - 1s 2ms/step - loss: 0.8444 - acc: 0.6846\n"
          ],
          "name": "stdout"
        },
        {
          "output_type": "execute_result",
          "data": {
            "text/plain": [
              "[0.8443911075592041, 0.6845999956130981]"
            ]
          },
          "metadata": {
            "tags": []
          },
          "execution_count": 58
        }
      ]
    },
    {
      "cell_type": "code",
      "metadata": {
        "colab": {
          "base_uri": "https://localhost:8080/"
        },
        "id": "2qYK9-9FQ7CF",
        "outputId": "cf3fb9b1-18a5-43c4-967b-858b7ba81300"
      },
      "source": [
        "# 2번 중간층 활성화 함수 relu, SGD\n",
        "# 신경망의 뼈대를 설정\n",
        "model2 = Sequential()\n",
        "\n",
        "# Flatten 명령을 통해서 한번에 바로 2차원 이미지 데이터를 1차원으로 펴줌\n",
        "model2.add (Flatten(input_shape = (28,28)))\n",
        "# 입력층 + 중간층\n",
        "# input_dim : 데이터 특성의 개수\n",
        "# activation: 활성화 함수를 설정 (들어온 자극 (데이터)에 대한 응답여부를 결정하는 함수)\n",
        "model2.add(Dense(500, activation=\"relu\"))\n",
        "\n",
        "# 중간층\n",
        "model2.add(Dense(500,activation=\"relu\"))   # 하나의 층\n",
        "model2.add(Dense(300, activation=\"relu\"))   # 하나의 층\n",
        "model2.add(Dense(100, activation=\"relu\"))   # 하나의 층\n",
        "\n",
        "\n",
        "# 출력층\n",
        "model2.add(Dense(10, activation=\"softmax\"))   # 0~9까지의 정답레이블 (10개)\n",
        "\n",
        "model2.summary()"
      ],
      "execution_count": 59,
      "outputs": [
        {
          "output_type": "stream",
          "text": [
            "Model: \"sequential_5\"\n",
            "_________________________________________________________________\n",
            "Layer (type)                 Output Shape              Param #   \n",
            "=================================================================\n",
            "flatten_5 (Flatten)          (None, 784)               0         \n",
            "_________________________________________________________________\n",
            "dense_25 (Dense)             (None, 500)               392500    \n",
            "_________________________________________________________________\n",
            "dense_26 (Dense)             (None, 500)               250500    \n",
            "_________________________________________________________________\n",
            "dense_27 (Dense)             (None, 300)               150300    \n",
            "_________________________________________________________________\n",
            "dense_28 (Dense)             (None, 100)               30100     \n",
            "_________________________________________________________________\n",
            "dense_29 (Dense)             (None, 10)                1010      \n",
            "=================================================================\n",
            "Total params: 824,410\n",
            "Trainable params: 824,410\n",
            "Non-trainable params: 0\n",
            "_________________________________________________________________\n"
          ],
          "name": "stdout"
        }
      ]
    },
    {
      "cell_type": "code",
      "metadata": {
        "id": "cqoITF4L1jZ7"
      },
      "source": [
        "from tensorflow.keras.optimizers import SGD, Adam"
      ],
      "execution_count": 60,
      "outputs": []
    },
    {
      "cell_type": "code",
      "metadata": {
        "id": "sk9E2aKRS7hT",
        "colab": {
          "base_uri": "https://localhost:8080/"
        },
        "outputId": "8f038dde-611d-4d72-c920-baab9210e765"
      },
      "source": [
        "# 2. 학습/ 평가 방법 설정\n",
        "model2.compile(loss =\"categorical_crossentropy\",\n",
        "               optimizer = SGD(lr = 0.001),            # Adam : 최근에 가장 많이 사용되는 성능이 높은 최적화 함수\n",
        "               metrics = [\"acc\"]               # metrics: 평가 방법을 설정 (분류 문제이기 때문에 정확도(acc)를 확인)\n",
        "               )"
      ],
      "execution_count": 61,
      "outputs": [
        {
          "output_type": "stream",
          "text": [
            "/usr/local/lib/python3.7/dist-packages/tensorflow/python/keras/optimizer_v2/optimizer_v2.py:375: UserWarning: The `lr` argument is deprecated, use `learning_rate` instead.\n",
            "  \"The `lr` argument is deprecated, use `learning_rate` instead.\")\n"
          ],
          "name": "stderr"
        }
      ]
    },
    {
      "cell_type": "code",
      "metadata": {
        "colab": {
          "base_uri": "https://localhost:8080/"
        },
        "id": "cN2zOZN9TAFb",
        "outputId": "10e1e54e-2b2b-44f3-bd47-77e4e0f2adec"
      },
      "source": [
        "h2 = model2.fit(X_train, \n",
        "              y_train_one_hot,\n",
        "              validation_data = (X_val, y_val_one_hot), \n",
        "              epochs=30,\n",
        "              batch_size = 128, \n",
        "              verbose =1)\n",
        "# verbose: 학습 결과의 출력 형태를 설정하는 명령 (0: 출력 x, 1: bar 형태 (디폴트 값), 2: bar가 없는 형태로 출력)"
      ],
      "execution_count": 62,
      "outputs": [
        {
          "output_type": "stream",
          "text": [
            "Epoch 1/30\n",
            "352/352 [==============================] - 2s 4ms/step - loss: 4.2417 - acc: 0.7078 - val_loss: 0.7180 - val_acc: 0.7597\n",
            "Epoch 2/30\n",
            "352/352 [==============================] - 1s 4ms/step - loss: 0.5867 - acc: 0.8010 - val_loss: 0.5701 - val_acc: 0.8035\n",
            "Epoch 3/30\n",
            "352/352 [==============================] - 1s 4ms/step - loss: 0.5059 - acc: 0.8242 - val_loss: 0.5340 - val_acc: 0.8154\n",
            "Epoch 4/30\n",
            "352/352 [==============================] - 1s 4ms/step - loss: 0.4563 - acc: 0.8390 - val_loss: 0.5137 - val_acc: 0.8253\n",
            "Epoch 5/30\n",
            "352/352 [==============================] - 1s 4ms/step - loss: 0.4238 - acc: 0.8494 - val_loss: 0.5152 - val_acc: 0.8217\n",
            "Epoch 6/30\n",
            "352/352 [==============================] - 1s 4ms/step - loss: 0.3971 - acc: 0.8583 - val_loss: 0.4743 - val_acc: 0.8353\n",
            "Epoch 7/30\n",
            "352/352 [==============================] - 1s 4ms/step - loss: 0.3777 - acc: 0.8633 - val_loss: 0.4701 - val_acc: 0.8377\n",
            "Epoch 8/30\n",
            "352/352 [==============================] - 1s 4ms/step - loss: 0.3599 - acc: 0.8704 - val_loss: 0.4888 - val_acc: 0.8311\n",
            "Epoch 9/30\n",
            "352/352 [==============================] - 1s 4ms/step - loss: 0.3450 - acc: 0.8764 - val_loss: 0.4502 - val_acc: 0.8437\n",
            "Epoch 10/30\n",
            "352/352 [==============================] - 1s 4ms/step - loss: 0.3325 - acc: 0.8796 - val_loss: 0.4474 - val_acc: 0.8461\n",
            "Epoch 11/30\n",
            "352/352 [==============================] - 2s 4ms/step - loss: 0.3204 - acc: 0.8843 - val_loss: 0.4404 - val_acc: 0.8481\n",
            "Epoch 12/30\n",
            "352/352 [==============================] - 1s 4ms/step - loss: 0.3091 - acc: 0.8883 - val_loss: 0.4338 - val_acc: 0.8483\n",
            "Epoch 13/30\n",
            "352/352 [==============================] - 1s 4ms/step - loss: 0.3002 - acc: 0.8919 - val_loss: 0.4412 - val_acc: 0.8473\n",
            "Epoch 14/30\n",
            "352/352 [==============================] - 1s 4ms/step - loss: 0.2917 - acc: 0.8948 - val_loss: 0.4457 - val_acc: 0.8459\n",
            "Epoch 15/30\n",
            "352/352 [==============================] - 1s 4ms/step - loss: 0.2825 - acc: 0.8982 - val_loss: 0.4414 - val_acc: 0.8489\n",
            "Epoch 16/30\n",
            "352/352 [==============================] - 1s 4ms/step - loss: 0.2758 - acc: 0.9011 - val_loss: 0.4454 - val_acc: 0.8471\n",
            "Epoch 17/30\n",
            "352/352 [==============================] - 1s 4ms/step - loss: 0.2688 - acc: 0.9038 - val_loss: 0.4375 - val_acc: 0.8518\n",
            "Epoch 18/30\n",
            "352/352 [==============================] - 1s 4ms/step - loss: 0.2632 - acc: 0.9065 - val_loss: 0.4542 - val_acc: 0.8442\n",
            "Epoch 19/30\n",
            "352/352 [==============================] - 1s 4ms/step - loss: 0.2550 - acc: 0.9088 - val_loss: 0.4253 - val_acc: 0.8533\n",
            "Epoch 20/30\n",
            "352/352 [==============================] - 1s 4ms/step - loss: 0.2500 - acc: 0.9101 - val_loss: 0.4246 - val_acc: 0.8556\n",
            "Epoch 21/30\n",
            "352/352 [==============================] - 1s 4ms/step - loss: 0.2438 - acc: 0.9136 - val_loss: 0.4273 - val_acc: 0.8530\n",
            "Epoch 22/30\n",
            "352/352 [==============================] - 1s 4ms/step - loss: 0.2378 - acc: 0.9154 - val_loss: 0.4246 - val_acc: 0.8579\n",
            "Epoch 23/30\n",
            "352/352 [==============================] - 1s 4ms/step - loss: 0.2333 - acc: 0.9173 - val_loss: 0.4320 - val_acc: 0.8543\n",
            "Epoch 24/30\n",
            "352/352 [==============================] - 1s 4ms/step - loss: 0.2273 - acc: 0.9195 - val_loss: 0.4253 - val_acc: 0.8582\n",
            "Epoch 25/30\n",
            "352/352 [==============================] - 1s 4ms/step - loss: 0.2227 - acc: 0.9197 - val_loss: 0.4381 - val_acc: 0.8544\n",
            "Epoch 26/30\n",
            "352/352 [==============================] - 1s 4ms/step - loss: 0.2185 - acc: 0.9224 - val_loss: 0.4307 - val_acc: 0.8559\n",
            "Epoch 27/30\n",
            "352/352 [==============================] - 1s 4ms/step - loss: 0.2132 - acc: 0.9232 - val_loss: 0.4268 - val_acc: 0.8579\n",
            "Epoch 28/30\n",
            "352/352 [==============================] - 1s 4ms/step - loss: 0.2092 - acc: 0.9262 - val_loss: 0.4290 - val_acc: 0.8563\n",
            "Epoch 29/30\n",
            "352/352 [==============================] - 1s 4ms/step - loss: 0.2051 - acc: 0.9283 - val_loss: 0.4289 - val_acc: 0.8556\n",
            "Epoch 30/30\n",
            "352/352 [==============================] - 1s 4ms/step - loss: 0.2008 - acc: 0.9289 - val_loss: 0.4275 - val_acc: 0.8601\n"
          ],
          "name": "stdout"
        }
      ]
    },
    {
      "cell_type": "code",
      "metadata": {
        "colab": {
          "base_uri": "https://localhost:8080/",
          "height": 320
        },
        "id": "f0Z2UaX2TQRi",
        "outputId": "62d4fc0a-4042-4301-b576-7d849e4127e5"
      },
      "source": [
        "# 시각화\n",
        "plt.figure(figsize=(15,5))\n",
        "\n",
        "# train 데이터\n",
        "plt.plot(range(1,31),\n",
        "         h2.history['acc'],\n",
        "         label ='acc'\n",
        "         )\n",
        "# val 데이터\n",
        "plt.plot(range(1,31),\n",
        "         h2.history['val_acc'],\n",
        "         label ='val_acc'\n",
        "         )\n",
        "\n",
        "\n",
        "\n",
        "plt.legend()\n",
        "plt.show()"
      ],
      "execution_count": 63,
      "outputs": [
        {
          "output_type": "display_data",
          "data": {
            "image/png": "[encoded data removed]",
            "text/plain": [
              "<Figure size 1080x360 with 1 Axes>"
            ]
          },
          "metadata": {
            "tags": [],
            "needs_background": "light"
          }
        }
      ]
    },
    {
      "cell_type": "code",
      "metadata": {
        "colab": {
          "base_uri": "https://localhost:8080/"
        },
        "id": "FJPf3xYXTT38",
        "outputId": "dcb20b8d-3466-4ba8-a869-9c5db7f364f2"
      },
      "source": [
        "# 모델 평가\n",
        "model2.evaluate(X_test,y_test_one_hot)"
      ],
      "execution_count": 64,
      "outputs": [
        {
          "output_type": "stream",
          "text": [
            "313/313 [==============================] - 1s 2ms/step - loss: 0.4705 - acc: 0.8476\n"
          ],
          "name": "stdout"
        },
        {
          "output_type": "execute_result",
          "data": {
            "text/plain": [
              "[0.4704526960849762, 0.847599983215332]"
            ]
          },
          "metadata": {
            "tags": []
          },
          "execution_count": 64
        }
      ]
    },
    {
      "cell_type": "code",
      "metadata": {
        "colab": {
          "base_uri": "https://localhost:8080/"
        },
        "id": "wzWK4r3-TT1F",
        "outputId": "6c0c628d-c78b-4c4b-a1fb-be94844b818a"
      },
      "source": [
        "# 3번 중간층 활성화 함수 relu, 최적화함수 adam\n",
        "\n",
        "# 신경망의 뼈대를 설정\n",
        "model3 = Sequential()\n",
        "\n",
        "# Flatten 명령을 통해서 한번에 바로 2차원 이미지 데이터를 1차원으로 펴줌\n",
        "model3.add (Flatten(input_shape = (28,28)))\n",
        "# 입력층 + 중간층\n",
        "# input_dim : 데이터 특성의 개수\n",
        "# activation: 활성화 함수를 설정 (들어온 자극 (데이터)에 대한 응답여부를 결정하는 함수)\n",
        "model3.add(Dense(500, activation=\"sigmoid\"))\n",
        "\n",
        "# 중간층\n",
        "model3.add(Dense(500,activation=\"sigmoid\"))   # 하나의 층\n",
        "model3.add(Dense(300, activation=\"sigmoid\"))   # 하나의 층\n",
        "model3.add(Dense(100, activation=\"sigmoid\"))   # 하나의 층\n",
        "\n",
        "\n",
        "# 출력층\n",
        "model3.add(Dense(10, activation=\"softmax\"))   # 0~9까지의 정답레이블 (10개)\n",
        "\n",
        "model3.summary()"
      ],
      "execution_count": 65,
      "outputs": [
        {
          "output_type": "stream",
          "text": [
            "Model: \"sequential_6\"\n",
            "_________________________________________________________________\n",
            "Layer (type)                 Output Shape              Param #   \n",
            "=================================================================\n",
            "flatten_6 (Flatten)          (None, 784)               0         \n",
            "_________________________________________________________________\n",
            "dense_30 (Dense)             (None, 500)               392500    \n",
            "_________________________________________________________________\n",
            "dense_31 (Dense)             (None, 500)               250500    \n",
            "_________________________________________________________________\n",
            "dense_32 (Dense)             (None, 300)               150300    \n",
            "_________________________________________________________________\n",
            "dense_33 (Dense)             (None, 100)               30100     \n",
            "_________________________________________________________________\n",
            "dense_34 (Dense)             (None, 10)                1010      \n",
            "=================================================================\n",
            "Total params: 824,410\n",
            "Trainable params: 824,410\n",
            "Non-trainable params: 0\n",
            "_________________________________________________________________\n"
          ],
          "name": "stdout"
        }
      ]
    },
    {
      "cell_type": "code",
      "metadata": {
        "id": "-wUB_R3JTTyS"
      },
      "source": [
        "# 2. 학습/ 평가 방법 설정\n",
        "model3.compile(loss =\"categorical_crossentropy\",\n",
        "               optimizer = 'Adam',            # Adam : 최근에 가장 많이 사용되는 성능이 높은 최적화 함수\n",
        "               metrics = [\"acc\"]               # metrics: 평가 방법을 설정 (분류 문제이기 때문에 정확도(acc)를 확인)\n",
        "               )"
      ],
      "execution_count": 66,
      "outputs": []
    },
    {
      "cell_type": "code",
      "metadata": {
        "colab": {
          "base_uri": "https://localhost:8080/"
        },
        "id": "gAThUw7-TTvu",
        "outputId": "0087a94a-158e-40bf-d11c-3f0d89e5ab1e"
      },
      "source": [
        "h3 = model3.fit(X_train, \n",
        "              y_train_one_hot,\n",
        "              validation_data = (X_val, y_val_one_hot), \n",
        "              epochs=30, \n",
        "              verbose =1)\n",
        "# verbose: 학습 결과의 출력 형태를 설정하는 명령 (0: 출력 x, 1: bar 형태 (디폴트 값), 2: bar가 없는 형태로 출력)"
      ],
      "execution_count": 67,
      "outputs": [
        {
          "output_type": "stream",
          "text": [
            "Epoch 1/30\n",
            "1407/1407 [==============================] - 6s 4ms/step - loss: 0.9847 - acc: 0.6158 - val_loss: 0.8286 - val_acc: 0.6819\n",
            "Epoch 2/30\n",
            "1407/1407 [==============================] - 5s 4ms/step - loss: 0.8417 - acc: 0.6721 - val_loss: 0.8646 - val_acc: 0.6427\n",
            "Epoch 3/30\n",
            "1407/1407 [==============================] - 5s 4ms/step - loss: 0.8032 - acc: 0.6851 - val_loss: 0.8016 - val_acc: 0.6941\n",
            "Epoch 4/30\n",
            "1407/1407 [==============================] - 5s 4ms/step - loss: 0.8002 - acc: 0.6904 - val_loss: 0.8587 - val_acc: 0.6745\n",
            "Epoch 5/30\n",
            "1407/1407 [==============================] - 5s 4ms/step - loss: 0.7780 - acc: 0.6941 - val_loss: 0.7154 - val_acc: 0.7367\n",
            "Epoch 6/30\n",
            "1407/1407 [==============================] - 5s 4ms/step - loss: 0.7499 - acc: 0.7144 - val_loss: 0.7103 - val_acc: 0.7300\n",
            "Epoch 7/30\n",
            "1407/1407 [==============================] - 6s 4ms/step - loss: 0.7272 - acc: 0.7182 - val_loss: 0.7098 - val_acc: 0.7311\n",
            "Epoch 8/30\n",
            "1407/1407 [==============================] - 6s 4ms/step - loss: 0.7361 - acc: 0.7113 - val_loss: 0.7194 - val_acc: 0.7283\n",
            "Epoch 9/30\n",
            "1407/1407 [==============================] - 5s 4ms/step - loss: 0.7239 - acc: 0.7159 - val_loss: 0.7218 - val_acc: 0.7137\n",
            "Epoch 10/30\n",
            "1407/1407 [==============================] - 5s 4ms/step - loss: 0.6862 - acc: 0.7373 - val_loss: 0.6700 - val_acc: 0.7459\n",
            "Epoch 11/30\n",
            "1407/1407 [==============================] - 5s 4ms/step - loss: 0.6865 - acc: 0.7339 - val_loss: 0.7472 - val_acc: 0.6987\n",
            "Epoch 12/30\n",
            "1407/1407 [==============================] - 5s 4ms/step - loss: 0.6762 - acc: 0.7357 - val_loss: 0.6780 - val_acc: 0.7378\n",
            "Epoch 13/30\n",
            "1407/1407 [==============================] - 5s 4ms/step - loss: 0.6627 - acc: 0.7395 - val_loss: 0.6501 - val_acc: 0.7561\n",
            "Epoch 14/30\n",
            "1407/1407 [==============================] - 5s 4ms/step - loss: 0.6505 - acc: 0.7511 - val_loss: 0.6692 - val_acc: 0.7415\n",
            "Epoch 15/30\n",
            "1407/1407 [==============================] - 6s 4ms/step - loss: 0.6617 - acc: 0.7349 - val_loss: 0.6467 - val_acc: 0.7290\n",
            "Epoch 16/30\n",
            "1407/1407 [==============================] - 5s 4ms/step - loss: 0.6445 - acc: 0.7406 - val_loss: 0.6399 - val_acc: 0.7476\n",
            "Epoch 17/30\n",
            "1407/1407 [==============================] - 6s 4ms/step - loss: 0.6520 - acc: 0.7421 - val_loss: 0.6725 - val_acc: 0.7352\n",
            "Epoch 18/30\n",
            "1407/1407 [==============================] - 6s 4ms/step - loss: 0.6781 - acc: 0.7272 - val_loss: 0.6558 - val_acc: 0.7297\n",
            "Epoch 19/30\n",
            "1407/1407 [==============================] - 6s 4ms/step - loss: 0.6509 - acc: 0.7443 - val_loss: 0.6511 - val_acc: 0.7369\n",
            "Epoch 20/30\n",
            "1407/1407 [==============================] - 6s 4ms/step - loss: 0.6508 - acc: 0.7483 - val_loss: 0.6515 - val_acc: 0.7427\n",
            "Epoch 21/30\n",
            "1407/1407 [==============================] - 6s 4ms/step - loss: 0.6512 - acc: 0.7478 - val_loss: 0.6377 - val_acc: 0.7409\n",
            "Epoch 22/30\n",
            "1407/1407 [==============================] - 6s 4ms/step - loss: 0.6369 - acc: 0.7557 - val_loss: 0.6265 - val_acc: 0.7577\n",
            "Epoch 23/30\n",
            "1407/1407 [==============================] - 5s 4ms/step - loss: 0.6533 - acc: 0.7492 - val_loss: 0.6603 - val_acc: 0.7483\n",
            "Epoch 24/30\n",
            "1407/1407 [==============================] - 6s 4ms/step - loss: 0.6327 - acc: 0.7565 - val_loss: 0.6544 - val_acc: 0.7425\n",
            "Epoch 25/30\n",
            "1407/1407 [==============================] - 5s 4ms/step - loss: 0.6269 - acc: 0.7554 - val_loss: 0.6153 - val_acc: 0.7605\n",
            "Epoch 26/30\n",
            "1407/1407 [==============================] - 6s 4ms/step - loss: 0.6389 - acc: 0.7515 - val_loss: 0.6246 - val_acc: 0.7617\n",
            "Epoch 27/30\n",
            "1407/1407 [==============================] - 6s 4ms/step - loss: 0.6316 - acc: 0.7524 - val_loss: 0.6362 - val_acc: 0.7597\n",
            "Epoch 28/30\n",
            "1407/1407 [==============================] - 5s 4ms/step - loss: 0.6189 - acc: 0.7596 - val_loss: 0.5981 - val_acc: 0.7731\n",
            "Epoch 29/30\n",
            "1407/1407 [==============================] - 5s 4ms/step - loss: 0.6081 - acc: 0.7679 - val_loss: 0.5991 - val_acc: 0.7761\n",
            "Epoch 30/30\n",
            "1407/1407 [==============================] - 5s 4ms/step - loss: 0.6085 - acc: 0.7663 - val_loss: 0.6160 - val_acc: 0.7549\n"
          ],
          "name": "stdout"
        }
      ]
    },
    {
      "cell_type": "code",
      "metadata": {
        "colab": {
          "base_uri": "https://localhost:8080/",
          "height": 320
        },
        "id": "o-k2QNg8TTs6",
        "outputId": "a78c5791-6a31-4645-e244-3bd18e0b6755"
      },
      "source": [
        "# 시각화\n",
        "\n",
        "plt.figure(figsize=(15,5))\n",
        "\n",
        "# train 데이터\n",
        "plt.plot(range(1,31),\n",
        "         h3.history['acc'],\n",
        "         label ='acc'\n",
        "         )\n",
        "# val 데이터\n",
        "plt.plot(range(1,31),\n",
        "         h3.history['val_acc'],\n",
        "         label ='val_acc'\n",
        "         )\n",
        "\n",
        "\n",
        "\n",
        "plt.legend()\n",
        "plt.show()"
      ],
      "execution_count": 68,
      "outputs": [
        {
          "output_type": "display_data",
          "data": {
            "image/png": "[encoded data removed]",
            "text/plain": [
              "<Figure size 1080x360 with 1 Axes>"
            ]
          },
          "metadata": {
            "tags": [],
            "needs_background": "light"
          }
        }
      ]
    },
    {
      "cell_type": "code",
      "metadata": {
        "colab": {
          "base_uri": "https://localhost:8080/"
        },
        "id": "6fNdX8A8TTqS",
        "outputId": "cfea0592-b88a-42a7-d94d-82c00ef9b572"
      },
      "source": [
        "# 모델 평가\n",
        "model3.evaluate(X_test,y_test_one_hot)"
      ],
      "execution_count": 69,
      "outputs": [
        {
          "output_type": "stream",
          "text": [
            "313/313 [==============================] - 1s 2ms/step - loss: 0.6420 - acc: 0.7437\n"
          ],
          "name": "stdout"
        },
        {
          "output_type": "execute_result",
          "data": {
            "text/plain": [
              "[0.6420029997825623, 0.7437000274658203]"
            ]
          },
          "metadata": {
            "tags": []
          },
          "execution_count": 69
        }
      ]
    },
    {
      "cell_type": "code",
      "metadata": {
        "colab": {
          "base_uri": "https://localhost:8080/",
          "height": 320
        },
        "id": "7U-gzx4UTTnq",
        "outputId": "86c046bb-e946-4d39-ba77-8f3b48b77aa2"
      },
      "source": [
        "# 3종류 모델 시각화\n",
        "\n",
        "plt.figure(figsize=(15,5))\n",
        "\n",
        "plt.plot(range(1,31,1),\n",
        "         h.history['acc'],\n",
        "         label='acc'\n",
        "         )\n",
        "\n",
        "plt.plot(range(1,31,1),\n",
        "         h2.history['acc'],\n",
        "         label='acc'\n",
        "         )\n",
        "\n",
        "plt.plot(range(1, 31,1),\n",
        "         h3.history['acc'],\n",
        "         label='acc'\n",
        "         )\n",
        "plt.legend()\n",
        "plt.show()"
      ],
      "execution_count": 70,
      "outputs": [
        {
          "output_type": "display_data",
          "data": {
            "image/png": "[encoded data removed]",
            "text/plain": [
              "<Figure size 1080x360 with 1 Axes>"
            ]
          },
          "metadata": {
            "tags": [],
            "needs_background": "light"
          }
        }
      ]
    },
    {
      "cell_type": "code",
      "metadata": {
        "id": "fhiY8mNSTTfl"
      },
      "source": [
        ""
      ],
      "execution_count": 70,
      "outputs": []
    },
    {
      "cell_type": "code",
      "metadata": {
        "id": "zmh67mWATTcj"
      },
      "source": [
        ""
      ],
      "execution_count": 70,
      "outputs": []
    }
  ]
}